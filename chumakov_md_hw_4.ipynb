{
 "cells": [
  {
   "cell_type": "markdown",
   "metadata": {
    "id": "LbOZ0b-MLYMG"
   },
   "source": [
    "# Выборка и агрегация данных в MongoDB\n",
    "\n",
    "###Цель домашней работы\n",
    "\n",
    "Закрепить на практике основные приемы работы с СУБД MongoDB, включая выборку, сортировку, объединение, агрегацию данных и передачу результатов выборки в программу на Python в целях аналитики и дальнейшей обработки."
   ]
  },
  {
   "cell_type": "markdown",
   "metadata": {
    "id": "VGMYMmFvEAQY"
   },
   "source": [
    "### Формулировка задания\n",
    "\n",
    "В этом задании вам предстоит выполнить несколько запросов к базе данных для получения выборок по условиям, а также воспользоваться фреймворком агрегации MongoDB для построения конвейера обработки данных.\n",
    "\n",
    "Максимальное количество баллов за выполнение домашней работы: 10."
   ]
  },
  {
   "cell_type": "markdown",
   "metadata": {
    "id": "3S2xr8EESZ8A"
   },
   "source": [
    "##Что нужно использовать в работе над заданием\n",
    "\n",
    "I. MongoDB:\n",
    "\n",
    "1. Зарегистрируйтесь в сервисе MongoDB Atlas: https://www.mongodb.com/atlas/database.\n",
    "1. Создайте кластер уровня M0 (это бесплатно).\n",
    "1. Добавьте в кластер тестовую базу данных `sample_mflix`, используя опцию Load Sample Dataset.\n",
    "\n",
    "В качестве альтернативы вы можете установить MongoDB на свой локальный компьютер и импортировать необходимые датасеты в свою СУБД, загрузив их по ссылке: https://github.com/neelabalan/mongodb-sample-dataset/tree/main/sample_mflix. Для этого подключитесь к своему серверу через Compass, создайте новую БД, создайте для каждого датасета коллекцию и щелкните «Add data» → «Import JSON or CSV file».\n",
    "\n",
    "II. MongoDB Compass — в качестве вспомогательного инструмента для конструирования запросов и агрегаций.\n",
    "\n",
    "III. Python и библиотека pymongo. Работа ведется в Jupyter Notebook или Google Colaboratory. Рекомендуется использовать версию Python 3.12."
   ]
  },
  {
   "cell_type": "markdown",
   "metadata": {
    "id": "xyG0RIatRiaQ"
   },
   "source": [
    "##Ожидаемые результаты\n",
    "\n",
    "Результаты работы необходимо оформить в виде ноутбука Jupyter. Можно загрузить файл в LMS либо поделиться ссылкой на Google Colaboratory."
   ]
  },
  {
   "cell_type": "markdown",
   "metadata": {
    "id": "O9MAw9odS5LD"
   },
   "source": [
    "##Место где нужно выполнить задание\n",
    "\n"
   ]
  },
  {
   "cell_type": "code",
   "execution_count": 1,
   "metadata": {
    "ExecuteTime": {
     "end_time": "2024-02-28T00:09:14.533017Z",
     "start_time": "2024-02-28T00:09:14.457863Z"
    },
    "colab": {
     "base_uri": "https://localhost:8080/"
    },
    "id": "hUzn3aDI2stL",
    "outputId": "ec83cccf-e339-4f3c-aefc-29d13c2d612c"
   },
   "outputs": [
    {
     "data": {
      "text/html": [
       "<pre style=\"white-space:pre;overflow-x:auto;line-height:normal;font-family:Menlo,'DejaVu Sans Mono',consolas,'Courier New',monospace\"><span style=\"font-weight: bold\">[</span><span style=\"color: #008000; text-decoration-color: #008000\">'admin'</span>, <span style=\"color: #008000; text-decoration-color: #008000\">'config'</span>, <span style=\"color: #008000; text-decoration-color: #008000\">'local'</span>, <span style=\"color: #008000; text-decoration-color: #008000\">'ma'</span>, <span style=\"color: #008000; text-decoration-color: #008000\">'sample_mflix'</span><span style=\"font-weight: bold\">]</span>\n",
       "</pre>\n"
      ],
      "text/plain": [
       "\u001B[1m[\u001B[0m\u001B[32m'admin'\u001B[0m, \u001B[32m'config'\u001B[0m, \u001B[32m'local'\u001B[0m, \u001B[32m'ma'\u001B[0m, \u001B[32m'sample_mflix'\u001B[0m\u001B[1m]\u001B[0m\n"
      ]
     },
     "metadata": {},
     "output_type": "display_data"
    }
   ],
   "source": [
    "import pymongo\n",
    "from rich import print\n",
    "from rich.pretty import pprint\n",
    "\n",
    "client = pymongo.MongoClient(\"mongodb://localhost:27017\")\n",
    "print(client.list_database_names())  # Вывести список БД для проверки подключения"
   ]
  },
  {
   "cell_type": "code",
   "execution_count": 2,
   "metadata": {
    "ExecuteTime": {
     "end_time": "2024-02-28T00:09:14.535841Z",
     "start_time": "2024-02-28T00:09:14.534016Z"
    },
    "collapsed": false
   },
   "outputs": [],
   "source": [
    "sample_mflix_db = client.sample_mflix"
   ]
  },
  {
   "cell_type": "markdown",
   "metadata": {
    "id": "3hkkb3IAiJyx"
   },
   "source": [
    "### Упражнение 1. Запросы на выборку"
   ]
  },
  {
   "cell_type": "markdown",
   "metadata": {
    "id": "2t6Z-LgtiSwL"
   },
   "source": [
    "Цель этого упражнения — закрепить навык выполнения запросов на выборку. Все запросы выполняются на базе `sample_mflix` с данными о кинофильмах."
   ]
  },
  {
   "cell_type": "markdown",
   "metadata": {
    "id": "SZnDnHNo0sPv"
   },
   "source": [
    "#### Задача 1.1 — **1 балл**"
   ]
  },
  {
   "cell_type": "markdown",
   "metadata": {
    "id": "A_Y7zbHe0u1T"
   },
   "source": [
    "Выведите из коллекции `theaters` документы о кинотеатрах в городе Florence, штат KY.\n",
    "\n",
    "Для справки:\n",
    "\n",
    "* Обратите внимание на то, что информация об адресе кинотеатров хранится во вложенных документах. Для доступа к полям вложенных документов следует использовать точку: `родительский_документ.вложенный_документ.поле`.\n",
    "* В случае затруднений с написанием логического условия обращайтесь к сопоставлению синтаксиса SQL и Mongo: https://www.mongodb.com/docs/manual/reference/sql-comparison/.\n",
    "* Если вы предпочитаете сперва выполнять запросы в Compass, из этого приложения можно выгружать код готового запроса на Python (кнопка с символом `</>`)."
   ]
  },
  {
   "cell_type": "code",
   "execution_count": 3,
   "metadata": {
    "ExecuteTime": {
     "end_time": "2024-02-28T00:09:14.544498Z",
     "start_time": "2024-02-28T00:09:14.536484Z"
    },
    "id": "_z2iic5S0zCk"
   },
   "outputs": [
    {
     "data": {
      "text/html": [
       "<pre style=\"white-space:pre;overflow-x:auto;line-height:normal;font-family:Menlo,'DejaVu Sans Mono',consolas,'Courier New',monospace\"><span style=\"font-weight: bold\">{</span>\n",
       "<span style=\"color: #7fbf7f; text-decoration-color: #7fbf7f\">│   </span><span style=\"color: #008000; text-decoration-color: #008000\">'_id'</span>: <span style=\"color: #800080; text-decoration-color: #800080; font-weight: bold\">ObjectId</span><span style=\"font-weight: bold\">(</span><span style=\"color: #008000; text-decoration-color: #008000\">'59a47287cfa9a3a73e51e893'</span><span style=\"font-weight: bold\">)</span>,\n",
       "<span style=\"color: #7fbf7f; text-decoration-color: #7fbf7f\">│   </span><span style=\"color: #008000; text-decoration-color: #008000\">'theaterId'</span>: <span style=\"color: #008080; text-decoration-color: #008080; font-weight: bold\">161</span>,\n",
       "<span style=\"color: #7fbf7f; text-decoration-color: #7fbf7f\">│   </span><span style=\"color: #008000; text-decoration-color: #008000\">'location'</span>: <span style=\"font-weight: bold\">{</span>\n",
       "<span style=\"color: #7fbf7f; text-decoration-color: #7fbf7f\">│   │   </span><span style=\"color: #008000; text-decoration-color: #008000\">'address'</span>: <span style=\"font-weight: bold\">{</span><span style=\"color: #008000; text-decoration-color: #008000\">'street1'</span>: <span style=\"color: #008000; text-decoration-color: #008000\">'100 Meijer Dr.'</span>, <span style=\"color: #008000; text-decoration-color: #008000\">'city'</span>: <span style=\"color: #008000; text-decoration-color: #008000\">'Florence'</span>, <span style=\"color: #008000; text-decoration-color: #008000\">'state'</span>: <span style=\"color: #008000; text-decoration-color: #008000\">'KY'</span>, <span style=\"color: #008000; text-decoration-color: #008000\">'zipcode'</span>: <span style=\"color: #008000; text-decoration-color: #008000\">'41042'</span><span style=\"font-weight: bold\">}</span>,\n",
       "<span style=\"color: #7fbf7f; text-decoration-color: #7fbf7f\">│   │   </span><span style=\"color: #008000; text-decoration-color: #008000\">'geo'</span>: <span style=\"font-weight: bold\">{</span><span style=\"color: #008000; text-decoration-color: #008000\">'type'</span>: <span style=\"color: #008000; text-decoration-color: #008000\">'Point'</span>, <span style=\"color: #008000; text-decoration-color: #008000\">'coordinates'</span>: <span style=\"font-weight: bold\">[</span><span style=\"color: #008080; text-decoration-color: #008080; font-weight: bold\">-84.636383</span>, <span style=\"color: #008080; text-decoration-color: #008080; font-weight: bold\">39.014843</span><span style=\"font-weight: bold\">]}</span>\n",
       "<span style=\"color: #7fbf7f; text-decoration-color: #7fbf7f\">│   </span><span style=\"font-weight: bold\">}</span>\n",
       "<span style=\"font-weight: bold\">}</span>\n",
       "</pre>\n"
      ],
      "text/plain": [
       "\u001B[1m{\u001B[0m\n",
       "\u001B[2;32m│   \u001B[0m\u001B[32m'_id'\u001B[0m: \u001B[1;35mObjectId\u001B[0m\u001B[1m(\u001B[0m\u001B[32m'59a47287cfa9a3a73e51e893'\u001B[0m\u001B[1m)\u001B[0m,\n",
       "\u001B[2;32m│   \u001B[0m\u001B[32m'theaterId'\u001B[0m: \u001B[1;36m161\u001B[0m,\n",
       "\u001B[2;32m│   \u001B[0m\u001B[32m'location'\u001B[0m: \u001B[1m{\u001B[0m\n",
       "\u001B[2;32m│   │   \u001B[0m\u001B[32m'address'\u001B[0m: \u001B[1m{\u001B[0m\u001B[32m'street1'\u001B[0m: \u001B[32m'100 Meijer Dr.'\u001B[0m, \u001B[32m'city'\u001B[0m: \u001B[32m'Florence'\u001B[0m, \u001B[32m'state'\u001B[0m: \u001B[32m'KY'\u001B[0m, \u001B[32m'zipcode'\u001B[0m: \u001B[32m'41042'\u001B[0m\u001B[1m}\u001B[0m,\n",
       "\u001B[2;32m│   │   \u001B[0m\u001B[32m'geo'\u001B[0m: \u001B[1m{\u001B[0m\u001B[32m'type'\u001B[0m: \u001B[32m'Point'\u001B[0m, \u001B[32m'coordinates'\u001B[0m: \u001B[1m[\u001B[0m\u001B[1;36m-84.636383\u001B[0m, \u001B[1;36m39.014843\u001B[0m\u001B[1m]\u001B[0m\u001B[1m}\u001B[0m\n",
       "\u001B[2;32m│   \u001B[0m\u001B[1m}\u001B[0m\n",
       "\u001B[1m}\u001B[0m\n"
      ]
     },
     "metadata": {},
     "output_type": "display_data"
    },
    {
     "data": {
      "text/html": [
       "<pre style=\"white-space:pre;overflow-x:auto;line-height:normal;font-family:Menlo,'DejaVu Sans Mono',consolas,'Courier New',monospace\"><span style=\"font-weight: bold\">{</span>\n",
       "<span style=\"color: #7fbf7f; text-decoration-color: #7fbf7f\">│   </span><span style=\"color: #008000; text-decoration-color: #008000\">'_id'</span>: <span style=\"color: #800080; text-decoration-color: #800080; font-weight: bold\">ObjectId</span><span style=\"font-weight: bold\">(</span><span style=\"color: #008000; text-decoration-color: #008000\">'59a47287cfa9a3a73e51ea02'</span><span style=\"font-weight: bold\">)</span>,\n",
       "<span style=\"color: #7fbf7f; text-decoration-color: #7fbf7f\">│   </span><span style=\"color: #008000; text-decoration-color: #008000\">'theaterId'</span>: <span style=\"color: #008080; text-decoration-color: #008080; font-weight: bold\">2823</span>,\n",
       "<span style=\"color: #7fbf7f; text-decoration-color: #7fbf7f\">│   </span><span style=\"color: #008000; text-decoration-color: #008000\">'location'</span>: <span style=\"font-weight: bold\">{</span>\n",
       "<span style=\"color: #7fbf7f; text-decoration-color: #7fbf7f\">│   │   </span><span style=\"color: #008000; text-decoration-color: #008000\">'address'</span>: <span style=\"font-weight: bold\">{</span>\n",
       "<span style=\"color: #7fbf7f; text-decoration-color: #7fbf7f\">│   │   │   </span><span style=\"color: #008000; text-decoration-color: #008000\">'street1'</span>: <span style=\"color: #008000; text-decoration-color: #008000\">'2823 Florence Mall'</span>,\n",
       "<span style=\"color: #7fbf7f; text-decoration-color: #7fbf7f\">│   │   │   </span><span style=\"color: #008000; text-decoration-color: #008000\">'street2'</span>: <span style=\"color: #008000; text-decoration-color: #008000\">'#2148'</span>,\n",
       "<span style=\"color: #7fbf7f; text-decoration-color: #7fbf7f\">│   │   │   </span><span style=\"color: #008000; text-decoration-color: #008000\">'city'</span>: <span style=\"color: #008000; text-decoration-color: #008000\">'Florence'</span>,\n",
       "<span style=\"color: #7fbf7f; text-decoration-color: #7fbf7f\">│   │   │   </span><span style=\"color: #008000; text-decoration-color: #008000\">'state'</span>: <span style=\"color: #008000; text-decoration-color: #008000\">'KY'</span>,\n",
       "<span style=\"color: #7fbf7f; text-decoration-color: #7fbf7f\">│   │   │   </span><span style=\"color: #008000; text-decoration-color: #008000\">'zipcode'</span>: <span style=\"color: #008000; text-decoration-color: #008000\">'41042'</span>\n",
       "<span style=\"color: #7fbf7f; text-decoration-color: #7fbf7f\">│   │   </span><span style=\"font-weight: bold\">}</span>,\n",
       "<span style=\"color: #7fbf7f; text-decoration-color: #7fbf7f\">│   │   </span><span style=\"color: #008000; text-decoration-color: #008000\">'geo'</span>: <span style=\"font-weight: bold\">{</span><span style=\"color: #008000; text-decoration-color: #008000\">'type'</span>: <span style=\"color: #008000; text-decoration-color: #008000\">'Point'</span>, <span style=\"color: #008000; text-decoration-color: #008000\">'coordinates'</span>: <span style=\"font-weight: bold\">[</span><span style=\"color: #008080; text-decoration-color: #008080; font-weight: bold\">-84.6499595</span>, <span style=\"color: #008080; text-decoration-color: #008080; font-weight: bold\">38.9967246</span><span style=\"font-weight: bold\">]}</span>\n",
       "<span style=\"color: #7fbf7f; text-decoration-color: #7fbf7f\">│   </span><span style=\"font-weight: bold\">}</span>\n",
       "<span style=\"font-weight: bold\">}</span>\n",
       "</pre>\n"
      ],
      "text/plain": [
       "\u001B[1m{\u001B[0m\n",
       "\u001B[2;32m│   \u001B[0m\u001B[32m'_id'\u001B[0m: \u001B[1;35mObjectId\u001B[0m\u001B[1m(\u001B[0m\u001B[32m'59a47287cfa9a3a73e51ea02'\u001B[0m\u001B[1m)\u001B[0m,\n",
       "\u001B[2;32m│   \u001B[0m\u001B[32m'theaterId'\u001B[0m: \u001B[1;36m2823\u001B[0m,\n",
       "\u001B[2;32m│   \u001B[0m\u001B[32m'location'\u001B[0m: \u001B[1m{\u001B[0m\n",
       "\u001B[2;32m│   │   \u001B[0m\u001B[32m'address'\u001B[0m: \u001B[1m{\u001B[0m\n",
       "\u001B[2;32m│   │   │   \u001B[0m\u001B[32m'street1'\u001B[0m: \u001B[32m'2823 Florence Mall'\u001B[0m,\n",
       "\u001B[2;32m│   │   │   \u001B[0m\u001B[32m'street2'\u001B[0m: \u001B[32m'#2148'\u001B[0m,\n",
       "\u001B[2;32m│   │   │   \u001B[0m\u001B[32m'city'\u001B[0m: \u001B[32m'Florence'\u001B[0m,\n",
       "\u001B[2;32m│   │   │   \u001B[0m\u001B[32m'state'\u001B[0m: \u001B[32m'KY'\u001B[0m,\n",
       "\u001B[2;32m│   │   │   \u001B[0m\u001B[32m'zipcode'\u001B[0m: \u001B[32m'41042'\u001B[0m\n",
       "\u001B[2;32m│   │   \u001B[0m\u001B[1m}\u001B[0m,\n",
       "\u001B[2;32m│   │   \u001B[0m\u001B[32m'geo'\u001B[0m: \u001B[1m{\u001B[0m\u001B[32m'type'\u001B[0m: \u001B[32m'Point'\u001B[0m, \u001B[32m'coordinates'\u001B[0m: \u001B[1m[\u001B[0m\u001B[1;36m-84.6499595\u001B[0m, \u001B[1;36m38.9967246\u001B[0m\u001B[1m]\u001B[0m\u001B[1m}\u001B[0m\n",
       "\u001B[2;32m│   \u001B[0m\u001B[1m}\u001B[0m\n",
       "\u001B[1m}\u001B[0m\n"
      ]
     },
     "metadata": {},
     "output_type": "display_data"
    }
   ],
   "source": [
    "cursor = sample_mflix_db.theaters.find({\"location.address.city\": \"Florence\", \"location.address.state\": \"KY\"})\n",
    "for document in cursor:\n",
    "    pprint(document)\n"
   ]
  },
  {
   "cell_type": "markdown",
   "metadata": {
    "id": "ZddwIpmPITB4"
   },
   "source": [
    "#### Задача 1.2 — **1 балл**"
   ]
  },
  {
   "cell_type": "markdown",
   "metadata": {
    "id": "n6hLPu2iODjH"
   },
   "source": [
    "Сделав запрос к коллекции `comments`, выведите _один_ комментарий (значение поля `text`) пользователя по имени Doreah."
   ]
  },
  {
   "cell_type": "code",
   "execution_count": 4,
   "metadata": {
    "ExecuteTime": {
     "end_time": "2024-02-28T00:09:14.550076Z",
     "start_time": "2024-02-28T00:09:14.545810Z"
    },
    "id": "GXOz_fZCPFg_"
   },
   "outputs": [
    {
     "data": {
      "text/html": [
       "<pre style=\"white-space:pre;overflow-x:auto;line-height:normal;font-family:Menlo,'DejaVu Sans Mono',consolas,'Courier New',monospace\"><span style=\"color: #008000; text-decoration-color: #008000; font-weight: bold\">Комментарий пользователя Doreah:</span> Porro explicabo cumque vitae sint quia quis. Consequuntur voluptatibus optio \n",
       "maxime ratione temporibus incidunt minus architecto.\n",
       "</pre>\n"
      ],
      "text/plain": [
       "\u001B[1;32mКомментарий пользователя Doreah:\u001B[0m Porro explicabo cumque vitae sint quia quis. Consequuntur voluptatibus optio \n",
       "maxime ratione temporibus incidunt minus architecto.\n"
      ]
     },
     "metadata": {},
     "output_type": "display_data"
    }
   ],
   "source": [
    "print(\n",
    "    \"[bold green]Комментарий пользователя Doreah:[/bold green]\",\n",
    "    sample_mflix_db.comments.find_one({\"name\": \"Doreah\"}, {\"text\": 1, \"_id\": 0})[\"text\"],\n",
    ")\n"
   ]
  },
  {
   "cell_type": "markdown",
   "metadata": {
    "id": "tZEJx_DoXuDL"
   },
   "source": [
    "#### Задача 1.3 — **1 балл**"
   ]
  },
  {
   "cell_type": "markdown",
   "metadata": {
    "id": "h8k13yBRX0Uf"
   },
   "source": [
    "Сделав запрос к коллекции `movies`, выведите количество документов, в которых в качестве первого жанра фильма (поле `genres`) указано значение «Horror».\n",
    "\n",
    "Для справки:\n",
    "\n",
    "1. Обратите внимание, что поле `genres` представляет собой массив (индексация массивов начинается с нуля).\n",
    "1. При работе в MongoDB Shell для подсчета количества документов в курсоре можно использовать метод `count()`, однако он был удален в последних версиях библиотеки pymongo. В случае затруднений с использованием функций Mongo можно использовать для подсчета документов средства Python."
   ]
  },
  {
   "cell_type": "code",
   "execution_count": 5,
   "metadata": {
    "ExecuteTime": {
     "end_time": "2024-02-28T00:09:14.581105Z",
     "start_time": "2024-02-28T00:09:14.550738Z"
    },
    "id": "3T6W4GVUX154"
   },
   "outputs": [
    {
     "data": {
      "text/html": [
       "<pre style=\"white-space:pre;overflow-x:auto;line-height:normal;font-family:Menlo,'DejaVu Sans Mono',consolas,'Courier New',monospace\"><span style=\"font-weight: bold\">Количество</span> фильмов жанра Horror: <span style=\"color: #008080; text-decoration-color: #008080; font-weight: bold\">814</span>\n",
       "</pre>\n"
      ],
      "text/plain": [
       "\u001B[1mКоличество\u001B[0m фильмов жанра Horror: \u001B[1;36m814\u001B[0m\n"
      ]
     },
     "metadata": {},
     "output_type": "display_data"
    }
   ],
   "source": [
    "print(\n",
    "    \"[bold]Количество[/bold] фильмов жанра Horror:\",\n",
    "    sample_mflix_db.movies.count_documents({\"genres.0\": \"Horror\"}),\n",
    ")\n"
   ]
  },
  {
   "cell_type": "markdown",
   "metadata": {
    "id": "kTue_nh7TFUx"
   },
   "source": [
    "#### Задача 1.4 — **2 балла**"
   ]
  },
  {
   "cell_type": "markdown",
   "metadata": {
    "id": "kuIndgkLT9Tm"
   },
   "source": [
    "Выведите из коллекции `movies` документы о фильмах, которые в качестве первого жанра определены как «Film-Noir» либо «Horror» и были выпущены в период с 1940 по 1949 гг. (включительно)."
   ]
  },
  {
   "cell_type": "code",
   "execution_count": 6,
   "metadata": {
    "ExecuteTime": {
     "end_time": "2024-02-28T00:09:14.645446Z",
     "start_time": "2024-02-28T00:09:14.581895Z"
    },
    "id": "hQwJj-fyTtQ1"
   },
   "outputs": [
    {
     "data": {
      "text/html": [
       "<pre style=\"white-space:pre;overflow-x:auto;line-height:normal;font-family:Menlo,'DejaVu Sans Mono',consolas,'Courier New',monospace\"><span style=\"font-weight: bold\">Фильмы жанра Film-Noir или Horror, выпущенные в </span><span style=\"color: #008080; text-decoration-color: #008080; font-weight: bold\">1940</span><span style=\"font-weight: bold\">-</span><span style=\"color: #008080; text-decoration-color: #008080; font-weight: bold\">1949</span><span style=\"font-weight: bold\"> гг.:</span>\n",
       "</pre>\n"
      ],
      "text/plain": [
       "\u001B[1mФильмы жанра Film-Noir или Horror, выпущенные в \u001B[0m\u001B[1;36m1940\u001B[0m\u001B[1m-\u001B[0m\u001B[1;36m1949\u001B[0m\u001B[1m гг.:\u001B[0m\n"
      ]
     },
     "metadata": {},
     "output_type": "display_data"
    },
    {
     "data": {
      "text/html": [
       "<pre style=\"white-space:pre;overflow-x:auto;line-height:normal;font-family:Menlo,'DejaVu Sans Mono',consolas,'Courier New',monospace\"><span style=\"font-weight: bold\">[</span>\n",
       "<span style=\"color: #7fbf7f; text-decoration-color: #7fbf7f\">│   </span><span style=\"font-weight: bold\">{</span>\n",
       "<span style=\"color: #7fbf7f; text-decoration-color: #7fbf7f\">│   │   </span><span style=\"color: #008000; text-decoration-color: #008000\">'_id'</span>: <span style=\"color: #800080; text-decoration-color: #800080; font-weight: bold\">ObjectId</span><span style=\"font-weight: bold\">(</span><span style=\"color: #008000; text-decoration-color: #008000\">'573a1393f29313caabcdc814'</span><span style=\"font-weight: bold\">)</span>,\n",
       "<span style=\"color: #7fbf7f; text-decoration-color: #7fbf7f\">│   │   </span><span style=\"color: #008000; text-decoration-color: #008000\">'plot'</span>: <span style=\"color: #008000; text-decoration-color: #008000\">\"An American man marries a Serbian immigrant who fears that she will turn into the cat person of her homeland's fables if they are intimate together.\"</span>,\n",
       "<span style=\"color: #7fbf7f; text-decoration-color: #7fbf7f\">│   │   </span><span style=\"color: #008000; text-decoration-color: #008000\">'genres'</span>: <span style=\"font-weight: bold\">[</span><span style=\"color: #008000; text-decoration-color: #008000\">'Horror'</span>, <span style=\"color: #008000; text-decoration-color: #008000\">'Thriller'</span><span style=\"font-weight: bold\">]</span>,\n",
       "<span style=\"color: #7fbf7f; text-decoration-color: #7fbf7f\">│   │   </span><span style=\"color: #008000; text-decoration-color: #008000\">'runtime'</span>: <span style=\"color: #008080; text-decoration-color: #008080; font-weight: bold\">73</span>,\n",
       "<span style=\"color: #7fbf7f; text-decoration-color: #7fbf7f\">│   │   </span><span style=\"color: #008000; text-decoration-color: #008000\">'rated'</span>: <span style=\"color: #008000; text-decoration-color: #008000\">'APPROVED'</span>,\n",
       "<span style=\"color: #7fbf7f; text-decoration-color: #7fbf7f\">│   │   </span><span style=\"color: #008000; text-decoration-color: #008000\">'cast'</span>: <span style=\"font-weight: bold\">[</span><span style=\"color: #008000; text-decoration-color: #008000\">'Simone Simon'</span>, <span style=\"color: #008000; text-decoration-color: #008000\">'Kent Smith'</span>, <span style=\"color: #008000; text-decoration-color: #008000\">'Tom Conway'</span>, <span style=\"color: #008000; text-decoration-color: #008000\">'Jane Randolph'</span><span style=\"font-weight: bold\">]</span>,\n",
       "<span style=\"color: #7fbf7f; text-decoration-color: #7fbf7f\">│   │   </span><span style=\"color: #008000; text-decoration-color: #008000\">'poster'</span>: <span style=\"color: #008000; text-decoration-color: #008000\">'https://m.media-amazon.com/images/M/MV5BNzI4YWY0NWQtNWI5YS00MGE4LWE4YTgtMzBmOWIwMzdiYTRiL2ltYWdlL2ltYWdlXkEyXkFqcGdeQXVyNjc1NTYyMjg@._V1_SY1000_SX677_AL_.jpg'</span>,\n",
       "<span style=\"color: #7fbf7f; text-decoration-color: #7fbf7f\">│   │   </span><span style=\"color: #008000; text-decoration-color: #008000\">'title'</span>: <span style=\"color: #008000; text-decoration-color: #008000\">'Cat People'</span>,\n",
       "<span style=\"color: #7fbf7f; text-decoration-color: #7fbf7f\">│   │   </span><span style=\"color: #008000; text-decoration-color: #008000\">'fullplot'</span>: <span style=\"color: #008000; text-decoration-color: #008000\">'Irena Dubrovna, a beautiful and mysterious Serbian-born fashion artist living in New York City, falls in love with and marries average-Joe American Oliver Reed. Their marriage suffers though, as Irena believes that she suffers from an ancient curse- whenever emotionally aroused, she will turn into a panther and kill. Oliver thinks that is absurd and childish, so he sends her to psychiatrist Dr. Judd to cure her. Easier said than done...'</span>,\n",
       "<span style=\"color: #7fbf7f; text-decoration-color: #7fbf7f\">│   │   </span><span style=\"color: #008000; text-decoration-color: #008000\">'languages'</span>: <span style=\"font-weight: bold\">[</span><span style=\"color: #008000; text-decoration-color: #008000\">'English'</span>, <span style=\"color: #008000; text-decoration-color: #008000\">'Czech'</span>, <span style=\"color: #008000; text-decoration-color: #008000\">'Serbian'</span><span style=\"font-weight: bold\">]</span>,\n",
       "<span style=\"color: #7fbf7f; text-decoration-color: #7fbf7f\">│   │   </span><span style=\"color: #008000; text-decoration-color: #008000\">'released'</span>: <span style=\"color: #800080; text-decoration-color: #800080; font-weight: bold\">datetime.datetime</span><span style=\"font-weight: bold\">(</span><span style=\"color: #008080; text-decoration-color: #008080; font-weight: bold\">1942</span>, <span style=\"color: #008080; text-decoration-color: #008080; font-weight: bold\">12</span>, <span style=\"color: #008080; text-decoration-color: #008080; font-weight: bold\">25</span>, <span style=\"color: #008080; text-decoration-color: #008080; font-weight: bold\">0</span>, <span style=\"color: #008080; text-decoration-color: #008080; font-weight: bold\">0</span><span style=\"font-weight: bold\">)</span>,\n",
       "<span style=\"color: #7fbf7f; text-decoration-color: #7fbf7f\">│   │   </span><span style=\"color: #008000; text-decoration-color: #008000\">'directors'</span>: <span style=\"font-weight: bold\">[</span><span style=\"color: #008000; text-decoration-color: #008000\">'Jacques Tourneur'</span><span style=\"font-weight: bold\">]</span>,\n",
       "<span style=\"color: #7fbf7f; text-decoration-color: #7fbf7f\">│   │   </span><span style=\"color: #008000; text-decoration-color: #008000\">'writers'</span>: <span style=\"font-weight: bold\">[</span><span style=\"color: #008000; text-decoration-color: #008000\">'DeWitt Bodeen'</span><span style=\"font-weight: bold\">]</span>,\n",
       "<span style=\"color: #7fbf7f; text-decoration-color: #7fbf7f\">│   │   </span><span style=\"color: #008000; text-decoration-color: #008000\">'awards'</span>: <span style=\"font-weight: bold\">{</span><span style=\"color: #008000; text-decoration-color: #008000\">'wins'</span>: <span style=\"color: #008080; text-decoration-color: #008080; font-weight: bold\">1</span>, <span style=\"color: #008000; text-decoration-color: #008000\">'nominations'</span>: <span style=\"color: #008080; text-decoration-color: #008080; font-weight: bold\">2</span>, <span style=\"color: #008000; text-decoration-color: #008000\">'text'</span>: <span style=\"color: #008000; text-decoration-color: #008000\">'1 win &amp; 2 nominations.'</span><span style=\"font-weight: bold\">}</span>,\n",
       "<span style=\"color: #7fbf7f; text-decoration-color: #7fbf7f\">│   │   </span><span style=\"color: #008000; text-decoration-color: #008000\">'lastupdated'</span>: <span style=\"color: #008000; text-decoration-color: #008000\">'2015-08-21 00:53:54.453000000'</span>,\n",
       "<span style=\"color: #7fbf7f; text-decoration-color: #7fbf7f\">│   │   </span><span style=\"color: #008000; text-decoration-color: #008000\">'year'</span>: <span style=\"color: #008080; text-decoration-color: #008080; font-weight: bold\">1942</span>,\n",
       "<span style=\"color: #7fbf7f; text-decoration-color: #7fbf7f\">│   │   </span><span style=\"color: #008000; text-decoration-color: #008000\">'imdb'</span>: <span style=\"font-weight: bold\">{</span><span style=\"color: #008000; text-decoration-color: #008000\">'rating'</span>: <span style=\"color: #008080; text-decoration-color: #008080; font-weight: bold\">7.4</span>, <span style=\"color: #008000; text-decoration-color: #008000\">'votes'</span>: <span style=\"color: #008080; text-decoration-color: #008080; font-weight: bold\">11589</span>, <span style=\"color: #008000; text-decoration-color: #008000\">'id'</span>: <span style=\"color: #008080; text-decoration-color: #008080; font-weight: bold\">34587</span><span style=\"font-weight: bold\">}</span>,\n",
       "<span style=\"color: #7fbf7f; text-decoration-color: #7fbf7f\">│   │   </span><span style=\"color: #008000; text-decoration-color: #008000\">'countries'</span>: <span style=\"font-weight: bold\">[</span><span style=\"color: #008000; text-decoration-color: #008000\">'USA'</span><span style=\"font-weight: bold\">]</span>,\n",
       "<span style=\"color: #7fbf7f; text-decoration-color: #7fbf7f\">│   │   </span><span style=\"color: #008000; text-decoration-color: #008000\">'type'</span>: <span style=\"color: #008000; text-decoration-color: #008000\">'movie'</span>,\n",
       "<span style=\"color: #7fbf7f; text-decoration-color: #7fbf7f\">│   │   </span><span style=\"color: #008000; text-decoration-color: #008000\">'tomatoes'</span>: <span style=\"font-weight: bold\">{</span>\n",
       "<span style=\"color: #7fbf7f; text-decoration-color: #7fbf7f\">│   │   │   </span><span style=\"color: #008000; text-decoration-color: #008000\">'viewer'</span>: <span style=\"font-weight: bold\">{</span><span style=\"color: #008000; text-decoration-color: #008000\">'rating'</span>: <span style=\"color: #008080; text-decoration-color: #008080; font-weight: bold\">3.6</span>, <span style=\"color: #008000; text-decoration-color: #008000\">'numReviews'</span>: <span style=\"color: #008080; text-decoration-color: #008080; font-weight: bold\">7115</span><span style=\"font-weight: bold\">}</span>,\n",
       "<span style=\"color: #7fbf7f; text-decoration-color: #7fbf7f\">│   │   │   </span><span style=\"color: #008000; text-decoration-color: #008000\">'critic'</span>: <span style=\"font-weight: bold\">{</span><span style=\"color: #008000; text-decoration-color: #008000\">'rating'</span>: <span style=\"color: #008080; text-decoration-color: #008080; font-weight: bold\">8.3</span>, <span style=\"color: #008000; text-decoration-color: #008000\">'numReviews'</span>: <span style=\"color: #008080; text-decoration-color: #008080; font-weight: bold\">40</span>, <span style=\"color: #008000; text-decoration-color: #008000\">'meter'</span>: <span style=\"color: #008080; text-decoration-color: #008080; font-weight: bold\">93</span><span style=\"font-weight: bold\">}</span>,\n",
       "<span style=\"color: #7fbf7f; text-decoration-color: #7fbf7f\">│   │   │   </span><span style=\"color: #008000; text-decoration-color: #008000\">'lastUpdated'</span>: <span style=\"color: #800080; text-decoration-color: #800080; font-weight: bold\">datetime.datetime</span><span style=\"font-weight: bold\">(</span><span style=\"color: #008080; text-decoration-color: #008080; font-weight: bold\">2015</span>, <span style=\"color: #008080; text-decoration-color: #008080; font-weight: bold\">9</span>, <span style=\"color: #008080; text-decoration-color: #008080; font-weight: bold\">15</span>, <span style=\"color: #008080; text-decoration-color: #008080; font-weight: bold\">17</span>, <span style=\"color: #008080; text-decoration-color: #008080; font-weight: bold\">3</span>, <span style=\"color: #008080; text-decoration-color: #008080; font-weight: bold\">25</span><span style=\"font-weight: bold\">)</span>,\n",
       "<span style=\"color: #7fbf7f; text-decoration-color: #7fbf7f\">│   │   │   </span><span style=\"color: #008000; text-decoration-color: #008000\">'consensus'</span>: <span style=\"color: #008000; text-decoration-color: #008000\">'Influential noir director Jacques Tourneau infused this sexy, moody horror film with some sly commentary about the psychology and the taboos of desire.'</span>,\n",
       "<span style=\"color: #7fbf7f; text-decoration-color: #7fbf7f\">│   │   │   </span><span style=\"color: #008000; text-decoration-color: #008000\">'rotten'</span>: <span style=\"color: #008080; text-decoration-color: #008080; font-weight: bold\">3</span>,\n",
       "<span style=\"color: #7fbf7f; text-decoration-color: #7fbf7f\">│   │   │   </span><span style=\"color: #008000; text-decoration-color: #008000\">'production'</span>: <span style=\"color: #008000; text-decoration-color: #008000\">'RKO Pictures'</span>,\n",
       "<span style=\"color: #7fbf7f; text-decoration-color: #7fbf7f\">│   │   │   </span><span style=\"color: #008000; text-decoration-color: #008000\">'fresh'</span>: <span style=\"color: #008080; text-decoration-color: #008080; font-weight: bold\">37</span>\n",
       "<span style=\"color: #7fbf7f; text-decoration-color: #7fbf7f\">│   │   </span><span style=\"font-weight: bold\">}</span>\n",
       "<span style=\"color: #7fbf7f; text-decoration-color: #7fbf7f\">│   </span><span style=\"font-weight: bold\">}</span>,\n",
       "<span style=\"color: #7fbf7f; text-decoration-color: #7fbf7f\">│   </span><span style=\"font-weight: bold\">{</span>\n",
       "<span style=\"color: #7fbf7f; text-decoration-color: #7fbf7f\">│   │   </span><span style=\"color: #008000; text-decoration-color: #008000\">'_id'</span>: <span style=\"color: #800080; text-decoration-color: #800080; font-weight: bold\">ObjectId</span><span style=\"font-weight: bold\">(</span><span style=\"color: #008000; text-decoration-color: #008000\">'573a1393f29313caabcdcd9d'</span><span style=\"font-weight: bold\">)</span>,\n",
       "<span style=\"color: #7fbf7f; text-decoration-color: #7fbf7f\">│   │   </span><span style=\"color: #008000; text-decoration-color: #008000\">'plot'</span>: <span style=\"color: #008000; text-decoration-color: #008000\">'A young Canadian nurse (Betsy) comes to the West Indies to care for Jessica, the wife of a plantation manager (Paul Holland). Jessica seems to be suffering from a kind of mental paralysis ...'</span>,\n",
       "<span style=\"color: #7fbf7f; text-decoration-color: #7fbf7f\">│   │   </span><span style=\"color: #008000; text-decoration-color: #008000\">'genres'</span>: <span style=\"font-weight: bold\">[</span><span style=\"color: #008000; text-decoration-color: #008000\">'Horror'</span><span style=\"font-weight: bold\">]</span>,\n",
       "<span style=\"color: #7fbf7f; text-decoration-color: #7fbf7f\">│   │   </span><span style=\"color: #008000; text-decoration-color: #008000\">'runtime'</span>: <span style=\"color: #008080; text-decoration-color: #008080; font-weight: bold\">69</span>,\n",
       "<span style=\"color: #7fbf7f; text-decoration-color: #7fbf7f\">│   │   </span><span style=\"color: #008000; text-decoration-color: #008000\">'rated'</span>: <span style=\"color: #008000; text-decoration-color: #008000\">'APPROVED'</span>,\n",
       "<span style=\"color: #7fbf7f; text-decoration-color: #7fbf7f\">│   │   </span><span style=\"color: #008000; text-decoration-color: #008000\">'cast'</span>: <span style=\"font-weight: bold\">[</span><span style=\"color: #008000; text-decoration-color: #008000\">'James Ellison'</span>, <span style=\"color: #008000; text-decoration-color: #008000\">'Frances Dee'</span>, <span style=\"color: #008000; text-decoration-color: #008000\">'Tom Conway'</span>, <span style=\"color: #008000; text-decoration-color: #008000\">'Edith Barrett'</span><span style=\"font-weight: bold\">]</span>,\n",
       "<span style=\"color: #7fbf7f; text-decoration-color: #7fbf7f\">│   │   </span><span style=\"color: #008000; text-decoration-color: #008000\">'num_mflix_comments'</span>: <span style=\"color: #008080; text-decoration-color: #008080; font-weight: bold\">1</span>,\n",
       "<span style=\"color: #7fbf7f; text-decoration-color: #7fbf7f\">│   │   </span><span style=\"color: #008000; text-decoration-color: #008000\">'poster'</span>: <span style=\"color: #008000; text-decoration-color: #008000\">'https://m.media-amazon.com/images/M/MV5BZjQzMzliN2YtYTVhNC00Zjc4LThjMmYtMTE0ZGUzMWNmYzJlXkEyXkFqcGdeQXVyMTYxNjkxOQ@@._V1_SY1000_SX677_AL_.jpg'</span>,\n",
       "<span style=\"color: #7fbf7f; text-decoration-color: #7fbf7f\">│   │   </span><span style=\"color: #008000; text-decoration-color: #008000\">'title'</span>: <span style=\"color: #008000; text-decoration-color: #008000\">'I Walked with a Zombie'</span>,\n",
       "<span style=\"color: #7fbf7f; text-decoration-color: #7fbf7f\">│   │   </span><span style=\"color: #008000; text-decoration-color: #008000\">'fullplot'</span>: <span style=\"color: #008000; text-decoration-color: #008000\">'A young Canadian nurse (Betsy) comes to the West Indies to care for Jessica, the wife of a plantation manager (Paul Holland). Jessica seems to be suffering from a kind of mental paralysis as a result of fever. When she falls in love with Paul, Betsy determines to cure Jessica even if she needs to use a voodoo ceremony, to give Paul what she thinks he wants.'</span>,\n",
       "<span style=\"color: #7fbf7f; text-decoration-color: #7fbf7f\">│   │   </span><span style=\"color: #008000; text-decoration-color: #008000\">'languages'</span>: <span style=\"font-weight: bold\">[</span><span style=\"color: #008000; text-decoration-color: #008000\">'English'</span><span style=\"font-weight: bold\">]</span>,\n",
       "<span style=\"color: #7fbf7f; text-decoration-color: #7fbf7f\">│   │   </span><span style=\"color: #008000; text-decoration-color: #008000\">'released'</span>: <span style=\"color: #800080; text-decoration-color: #800080; font-weight: bold\">datetime.datetime</span><span style=\"font-weight: bold\">(</span><span style=\"color: #008080; text-decoration-color: #008080; font-weight: bold\">1943</span>, <span style=\"color: #008080; text-decoration-color: #008080; font-weight: bold\">4</span>, <span style=\"color: #008080; text-decoration-color: #008080; font-weight: bold\">30</span>, <span style=\"color: #008080; text-decoration-color: #008080; font-weight: bold\">0</span>, <span style=\"color: #008080; text-decoration-color: #008080; font-weight: bold\">0</span><span style=\"font-weight: bold\">)</span>,\n",
       "<span style=\"color: #7fbf7f; text-decoration-color: #7fbf7f\">│   │   </span><span style=\"color: #008000; text-decoration-color: #008000\">'directors'</span>: <span style=\"font-weight: bold\">[</span><span style=\"color: #008000; text-decoration-color: #008000\">'Jacques Tourneur'</span><span style=\"font-weight: bold\">]</span>,\n",
       "<span style=\"color: #7fbf7f; text-decoration-color: #7fbf7f\">│   │   </span><span style=\"color: #008000; text-decoration-color: #008000\">'writers'</span>: <span style=\"font-weight: bold\">[</span><span style=\"color: #008000; text-decoration-color: #008000\">'Curt Siodmak (screenplay)'</span>, <span style=\"color: #008000; text-decoration-color: #008000\">'Ardel Wray (screenplay)'</span>, <span style=\"color: #008000; text-decoration-color: #008000\">'Inez Wallace (original story)'</span><span style=\"font-weight: bold\">]</span>,\n",
       "<span style=\"color: #7fbf7f; text-decoration-color: #7fbf7f\">│   │   </span><span style=\"color: #008000; text-decoration-color: #008000\">'awards'</span>: <span style=\"font-weight: bold\">{</span><span style=\"color: #008000; text-decoration-color: #008000\">'wins'</span>: <span style=\"color: #008080; text-decoration-color: #008080; font-weight: bold\">0</span>, <span style=\"color: #008000; text-decoration-color: #008000\">'nominations'</span>: <span style=\"color: #008080; text-decoration-color: #008080; font-weight: bold\">2</span>, <span style=\"color: #008000; text-decoration-color: #008000\">'text'</span>: <span style=\"color: #008000; text-decoration-color: #008000\">'2 nominations.'</span><span style=\"font-weight: bold\">}</span>,\n",
       "<span style=\"color: #7fbf7f; text-decoration-color: #7fbf7f\">│   │   </span><span style=\"color: #008000; text-decoration-color: #008000\">'lastupdated'</span>: <span style=\"color: #008000; text-decoration-color: #008000\">'2015-08-16 00:16:16.823000000'</span>,\n",
       "<span style=\"color: #7fbf7f; text-decoration-color: #7fbf7f\">│   │   </span><span style=\"color: #008000; text-decoration-color: #008000\">'year'</span>: <span style=\"color: #008080; text-decoration-color: #008080; font-weight: bold\">1943</span>,\n",
       "<span style=\"color: #7fbf7f; text-decoration-color: #7fbf7f\">│   │   </span><span style=\"color: #008000; text-decoration-color: #008000\">'imdb'</span>: <span style=\"font-weight: bold\">{</span><span style=\"color: #008000; text-decoration-color: #008000\">'rating'</span>: <span style=\"color: #008080; text-decoration-color: #008080; font-weight: bold\">7.3</span>, <span style=\"color: #008000; text-decoration-color: #008000\">'votes'</span>: <span style=\"color: #008080; text-decoration-color: #008080; font-weight: bold\">6893</span>, <span style=\"color: #008000; text-decoration-color: #008000\">'id'</span>: <span style=\"color: #008080; text-decoration-color: #008080; font-weight: bold\">36027</span><span style=\"font-weight: bold\">}</span>,\n",
       "<span style=\"color: #7fbf7f; text-decoration-color: #7fbf7f\">│   │   </span><span style=\"color: #008000; text-decoration-color: #008000\">'countries'</span>: <span style=\"font-weight: bold\">[</span><span style=\"color: #008000; text-decoration-color: #008000\">'USA'</span><span style=\"font-weight: bold\">]</span>,\n",
       "<span style=\"color: #7fbf7f; text-decoration-color: #7fbf7f\">│   │   </span><span style=\"color: #008000; text-decoration-color: #008000\">'type'</span>: <span style=\"color: #008000; text-decoration-color: #008000\">'movie'</span>,\n",
       "<span style=\"color: #7fbf7f; text-decoration-color: #7fbf7f\">│   │   </span><span style=\"color: #008000; text-decoration-color: #008000\">'tomatoes'</span>: <span style=\"font-weight: bold\">{</span>\n",
       "<span style=\"color: #7fbf7f; text-decoration-color: #7fbf7f\">│   │   │   </span><span style=\"color: #008000; text-decoration-color: #008000\">'viewer'</span>: <span style=\"font-weight: bold\">{</span><span style=\"color: #008000; text-decoration-color: #008000\">'rating'</span>: <span style=\"color: #008080; text-decoration-color: #008080; font-weight: bold\">3.6</span>, <span style=\"color: #008000; text-decoration-color: #008000\">'numReviews'</span>: <span style=\"color: #008080; text-decoration-color: #008080; font-weight: bold\">4884</span>, <span style=\"color: #008000; text-decoration-color: #008000\">'meter'</span>: <span style=\"color: #008080; text-decoration-color: #008080; font-weight: bold\">75</span><span style=\"font-weight: bold\">}</span>,\n",
       "<span style=\"color: #7fbf7f; text-decoration-color: #7fbf7f\">│   │   │   </span><span style=\"color: #008000; text-decoration-color: #008000\">'dvd'</span>: <span style=\"color: #800080; text-decoration-color: #800080; font-weight: bold\">datetime.datetime</span><span style=\"font-weight: bold\">(</span><span style=\"color: #008080; text-decoration-color: #008080; font-weight: bold\">2005</span>, <span style=\"color: #008080; text-decoration-color: #008080; font-weight: bold\">10</span>, <span style=\"color: #008080; text-decoration-color: #008080; font-weight: bold\">4</span>, <span style=\"color: #008080; text-decoration-color: #008080; font-weight: bold\">0</span>, <span style=\"color: #008080; text-decoration-color: #008080; font-weight: bold\">0</span><span style=\"font-weight: bold\">)</span>,\n",
       "<span style=\"color: #7fbf7f; text-decoration-color: #7fbf7f\">│   │   │   </span><span style=\"color: #008000; text-decoration-color: #008000\">'critic'</span>: <span style=\"font-weight: bold\">{</span><span style=\"color: #008000; text-decoration-color: #008000\">'rating'</span>: <span style=\"color: #008080; text-decoration-color: #008080; font-weight: bold\">8.1</span>, <span style=\"color: #008000; text-decoration-color: #008000\">'numReviews'</span>: <span style=\"color: #008080; text-decoration-color: #008080; font-weight: bold\">26</span>, <span style=\"color: #008000; text-decoration-color: #008000\">'meter'</span>: <span style=\"color: #008080; text-decoration-color: #008080; font-weight: bold\">92</span><span style=\"font-weight: bold\">}</span>,\n",
       "<span style=\"color: #7fbf7f; text-decoration-color: #7fbf7f\">│   │   │   </span><span style=\"color: #008000; text-decoration-color: #008000\">'lastUpdated'</span>: <span style=\"color: #800080; text-decoration-color: #800080; font-weight: bold\">datetime.datetime</span><span style=\"font-weight: bold\">(</span><span style=\"color: #008080; text-decoration-color: #008080; font-weight: bold\">2015</span>, <span style=\"color: #008080; text-decoration-color: #008080; font-weight: bold\">8</span>, <span style=\"color: #008080; text-decoration-color: #008080; font-weight: bold\">26</span>, <span style=\"color: #008080; text-decoration-color: #008080; font-weight: bold\">18</span>, <span style=\"color: #008080; text-decoration-color: #008080; font-weight: bold\">16</span>, <span style=\"color: #008080; text-decoration-color: #008080; font-weight: bold\">16</span><span style=\"font-weight: bold\">)</span>,\n",
       "<span style=\"color: #7fbf7f; text-decoration-color: #7fbf7f\">│   │   │   </span><span style=\"color: #008000; text-decoration-color: #008000\">'consensus'</span>: <span style=\"color: #008000; text-decoration-color: #008000\">\"Evocative direction by Jacques Tourneur collides with the low-rent production values of exploitateer Val Lewton in I Walked with a Zombie, a sultry sleeper that's simultaneously smarmy, eloquent and fascinating.\"</span>,\n",
       "<span style=\"color: #7fbf7f; text-decoration-color: #7fbf7f\">│   │   │   </span><span style=\"color: #008000; text-decoration-color: #008000\">'rotten'</span>: <span style=\"color: #008080; text-decoration-color: #008080; font-weight: bold\">2</span>,\n",
       "<span style=\"color: #7fbf7f; text-decoration-color: #7fbf7f\">│   │   │   </span><span style=\"color: #008000; text-decoration-color: #008000\">'production'</span>: <span style=\"color: #008000; text-decoration-color: #008000\">'Warner Home Video'</span>,\n",
       "<span style=\"color: #7fbf7f; text-decoration-color: #7fbf7f\">│   │   │   </span><span style=\"color: #008000; text-decoration-color: #008000\">'fresh'</span>: <span style=\"color: #008080; text-decoration-color: #008080; font-weight: bold\">24</span>\n",
       "<span style=\"color: #7fbf7f; text-decoration-color: #7fbf7f\">│   │   </span><span style=\"font-weight: bold\">}</span>\n",
       "<span style=\"color: #7fbf7f; text-decoration-color: #7fbf7f\">│   </span><span style=\"font-weight: bold\">}</span>,\n",
       "<span style=\"color: #7fbf7f; text-decoration-color: #7fbf7f\">│   </span><span style=\"font-weight: bold\">{</span>\n",
       "<span style=\"color: #7fbf7f; text-decoration-color: #7fbf7f\">│   │   </span><span style=\"color: #008000; text-decoration-color: #008000\">'_id'</span>: <span style=\"color: #800080; text-decoration-color: #800080; font-weight: bold\">ObjectId</span><span style=\"font-weight: bold\">(</span><span style=\"color: #008000; text-decoration-color: #008000\">'573a1393f29313caabcdcdf5'</span><span style=\"font-weight: bold\">)</span>,\n",
       "<span style=\"color: #7fbf7f; text-decoration-color: #7fbf7f\">│   │   </span><span style=\"color: #008000; text-decoration-color: #008000\">'plot'</span>: <span style=\"color: #008000; text-decoration-color: #008000\">'A seemingly tame leopard used for a publicity stunt escapes and kills a young girl, spreading panic throughout a sleepy new Mexico town.'</span>,\n",
       "<span style=\"color: #7fbf7f; text-decoration-color: #7fbf7f\">│   │   </span><span style=\"color: #008000; text-decoration-color: #008000\">'genres'</span>: <span style=\"font-weight: bold\">[</span><span style=\"color: #008000; text-decoration-color: #008000\">'Horror'</span>, <span style=\"color: #008000; text-decoration-color: #008000\">'Thriller'</span><span style=\"font-weight: bold\">]</span>,\n",
       "<span style=\"color: #7fbf7f; text-decoration-color: #7fbf7f\">│   │   </span><span style=\"color: #008000; text-decoration-color: #008000\">'runtime'</span>: <span style=\"color: #008080; text-decoration-color: #008080; font-weight: bold\">66</span>,\n",
       "<span style=\"color: #7fbf7f; text-decoration-color: #7fbf7f\">│   │   </span><span style=\"color: #008000; text-decoration-color: #008000\">'rated'</span>: <span style=\"color: #008000; text-decoration-color: #008000\">'APPROVED'</span>,\n",
       "<span style=\"color: #7fbf7f; text-decoration-color: #7fbf7f\">│   │   </span><span style=\"color: #008000; text-decoration-color: #008000\">'cast'</span>: <span style=\"font-weight: bold\">[</span><span style=\"color: #008000; text-decoration-color: #008000\">\"Dennis O'Keefe\"</span>, <span style=\"color: #008000; text-decoration-color: #008000\">'Margo'</span>, <span style=\"color: #008000; text-decoration-color: #008000\">'Jean Brooks'</span>, <span style=\"color: #008000; text-decoration-color: #008000\">'Isabel Jewell'</span><span style=\"font-weight: bold\">]</span>,\n",
       "<span style=\"color: #7fbf7f; text-decoration-color: #7fbf7f\">│   │   </span><span style=\"color: #008000; text-decoration-color: #008000\">'num_mflix_comments'</span>: <span style=\"color: #008080; text-decoration-color: #008080; font-weight: bold\">1</span>,\n",
       "<span style=\"color: #7fbf7f; text-decoration-color: #7fbf7f\">│   │   </span><span style=\"color: #008000; text-decoration-color: #008000\">'poster'</span>: <span style=\"color: #008000; text-decoration-color: #008000\">'https://m.media-amazon.com/images/M/MV5BYmU4ZDI5NGMtYzM1OC00YTQ3LWI1NTEtNGM0Mzc0ZDA5NzI4XkEyXkFqcGdeQXVyMTQxNzMzNDI@._V1_SY1000_SX677_AL_.jpg'</span>,\n",
       "<span style=\"color: #7fbf7f; text-decoration-color: #7fbf7f\">│   │   </span><span style=\"color: #008000; text-decoration-color: #008000\">'title'</span>: <span style=\"color: #008000; text-decoration-color: #008000\">'The Leopard Man'</span>,\n",
       "<span style=\"color: #7fbf7f; text-decoration-color: #7fbf7f\">│   │   </span><span style=\"color: #008000; text-decoration-color: #008000\">'fullplot'</span>: <span style=\"color: #008000; text-decoration-color: #008000\">'At the encouragement of her manager, a nightclub performer in New Mexico (Kiki Walker) takes a leashed leopard into the club as a publicity gimmick. But her rival, angered by the attempt to upstage, scares the animal and it bolts. In the days that follow, people are mauled and the countryside is combed for the loose creature. But Kiki and her manager begin to wonder if maybe the leopard is not responsible for the killings.'</span>,\n",
       "<span style=\"color: #7fbf7f; text-decoration-color: #7fbf7f\">│   │   </span><span style=\"color: #008000; text-decoration-color: #008000\">'languages'</span>: <span style=\"font-weight: bold\">[</span><span style=\"color: #008000; text-decoration-color: #008000\">'English'</span>, <span style=\"color: #008000; text-decoration-color: #008000\">'Spanish'</span><span style=\"font-weight: bold\">]</span>,\n",
       "<span style=\"color: #7fbf7f; text-decoration-color: #7fbf7f\">│   │   </span><span style=\"color: #008000; text-decoration-color: #008000\">'released'</span>: <span style=\"color: #800080; text-decoration-color: #800080; font-weight: bold\">datetime.datetime</span><span style=\"font-weight: bold\">(</span><span style=\"color: #008080; text-decoration-color: #008080; font-weight: bold\">1943</span>, <span style=\"color: #008080; text-decoration-color: #008080; font-weight: bold\">5</span>, <span style=\"color: #008080; text-decoration-color: #008080; font-weight: bold\">8</span>, <span style=\"color: #008080; text-decoration-color: #008080; font-weight: bold\">0</span>, <span style=\"color: #008080; text-decoration-color: #008080; font-weight: bold\">0</span><span style=\"font-weight: bold\">)</span>,\n",
       "<span style=\"color: #7fbf7f; text-decoration-color: #7fbf7f\">│   │   </span><span style=\"color: #008000; text-decoration-color: #008000\">'directors'</span>: <span style=\"font-weight: bold\">[</span><span style=\"color: #008000; text-decoration-color: #008000\">'Jacques Tourneur'</span><span style=\"font-weight: bold\">]</span>,\n",
       "<span style=\"color: #7fbf7f; text-decoration-color: #7fbf7f\">│   │   </span><span style=\"color: #008000; text-decoration-color: #008000\">'writers'</span>: <span style=\"font-weight: bold\">[</span><span style=\"color: #008000; text-decoration-color: #008000\">'Ardel Wray (screenplay)'</span>, <span style=\"color: #008000; text-decoration-color: #008000\">'Edward Dein (additional dialogue)'</span>, <span style=\"color: #008000; text-decoration-color: #008000\">'Cornell Woolrich (novel)'</span><span style=\"font-weight: bold\">]</span>,\n",
       "<span style=\"color: #7fbf7f; text-decoration-color: #7fbf7f\">│   │   </span><span style=\"color: #008000; text-decoration-color: #008000\">'awards'</span>: <span style=\"font-weight: bold\">{</span><span style=\"color: #008000; text-decoration-color: #008000\">'wins'</span>: <span style=\"color: #008080; text-decoration-color: #008080; font-weight: bold\">0</span>, <span style=\"color: #008000; text-decoration-color: #008000\">'nominations'</span>: <span style=\"color: #008080; text-decoration-color: #008080; font-weight: bold\">2</span>, <span style=\"color: #008000; text-decoration-color: #008000\">'text'</span>: <span style=\"color: #008000; text-decoration-color: #008000\">'2 nominations.'</span><span style=\"font-weight: bold\">}</span>,\n",
       "<span style=\"color: #7fbf7f; text-decoration-color: #7fbf7f\">│   │   </span><span style=\"color: #008000; text-decoration-color: #008000\">'lastupdated'</span>: <span style=\"color: #008000; text-decoration-color: #008000\">'2015-08-05 00:17:53.897000000'</span>,\n",
       "<span style=\"color: #7fbf7f; text-decoration-color: #7fbf7f\">│   │   </span><span style=\"color: #008000; text-decoration-color: #008000\">'year'</span>: <span style=\"color: #008080; text-decoration-color: #008080; font-weight: bold\">1943</span>,\n",
       "<span style=\"color: #7fbf7f; text-decoration-color: #7fbf7f\">│   │   </span><span style=\"color: #008000; text-decoration-color: #008000\">'imdb'</span>: <span style=\"font-weight: bold\">{</span><span style=\"color: #008000; text-decoration-color: #008000\">'rating'</span>: <span style=\"color: #008080; text-decoration-color: #008080; font-weight: bold\">6.9</span>, <span style=\"color: #008000; text-decoration-color: #008000\">'votes'</span>: <span style=\"color: #008080; text-decoration-color: #008080; font-weight: bold\">2889</span>, <span style=\"color: #008000; text-decoration-color: #008000\">'id'</span>: <span style=\"color: #008080; text-decoration-color: #008080; font-weight: bold\">36104</span><span style=\"font-weight: bold\">}</span>,\n",
       "<span style=\"color: #7fbf7f; text-decoration-color: #7fbf7f\">│   │   </span><span style=\"color: #008000; text-decoration-color: #008000\">'countries'</span>: <span style=\"font-weight: bold\">[</span><span style=\"color: #008000; text-decoration-color: #008000\">'USA'</span><span style=\"font-weight: bold\">]</span>,\n",
       "<span style=\"color: #7fbf7f; text-decoration-color: #7fbf7f\">│   │   </span><span style=\"color: #008000; text-decoration-color: #008000\">'type'</span>: <span style=\"color: #008000; text-decoration-color: #008000\">'movie'</span>,\n",
       "<span style=\"color: #7fbf7f; text-decoration-color: #7fbf7f\">│   │   </span><span style=\"color: #008000; text-decoration-color: #008000\">'tomatoes'</span>: <span style=\"font-weight: bold\">{</span>\n",
       "<span style=\"color: #7fbf7f; text-decoration-color: #7fbf7f\">│   │   │   </span><span style=\"color: #008000; text-decoration-color: #008000\">'viewer'</span>: <span style=\"font-weight: bold\">{</span><span style=\"color: #008000; text-decoration-color: #008000\">'rating'</span>: <span style=\"color: #008080; text-decoration-color: #008080; font-weight: bold\">3.5</span>, <span style=\"color: #008000; text-decoration-color: #008000\">'numReviews'</span>: <span style=\"color: #008080; text-decoration-color: #008080; font-weight: bold\">1375</span>, <span style=\"color: #008000; text-decoration-color: #008000\">'meter'</span>: <span style=\"color: #008080; text-decoration-color: #008080; font-weight: bold\">67</span><span style=\"font-weight: bold\">}</span>,\n",
       "<span style=\"color: #7fbf7f; text-decoration-color: #7fbf7f\">│   │   │   </span><span style=\"color: #008000; text-decoration-color: #008000\">'fresh'</span>: <span style=\"color: #008080; text-decoration-color: #008080; font-weight: bold\">15</span>,\n",
       "<span style=\"color: #7fbf7f; text-decoration-color: #7fbf7f\">│   │   │   </span><span style=\"color: #008000; text-decoration-color: #008000\">'critic'</span>: <span style=\"font-weight: bold\">{</span><span style=\"color: #008000; text-decoration-color: #008000\">'rating'</span>: <span style=\"color: #008080; text-decoration-color: #008080; font-weight: bold\">7.4</span>, <span style=\"color: #008000; text-decoration-color: #008000\">'numReviews'</span>: <span style=\"color: #008080; text-decoration-color: #008080; font-weight: bold\">17</span>, <span style=\"color: #008000; text-decoration-color: #008000\">'meter'</span>: <span style=\"color: #008080; text-decoration-color: #008080; font-weight: bold\">88</span><span style=\"font-weight: bold\">}</span>,\n",
       "<span style=\"color: #7fbf7f; text-decoration-color: #7fbf7f\">│   │   │   </span><span style=\"color: #008000; text-decoration-color: #008000\">'rotten'</span>: <span style=\"color: #008080; text-decoration-color: #008080; font-weight: bold\">2</span>,\n",
       "<span style=\"color: #7fbf7f; text-decoration-color: #7fbf7f\">│   │   │   </span><span style=\"color: #008000; text-decoration-color: #008000\">'lastUpdated'</span>: <span style=\"color: #800080; text-decoration-color: #800080; font-weight: bold\">datetime.datetime</span><span style=\"font-weight: bold\">(</span><span style=\"color: #008080; text-decoration-color: #008080; font-weight: bold\">2015</span>, <span style=\"color: #008080; text-decoration-color: #008080; font-weight: bold\">8</span>, <span style=\"color: #008080; text-decoration-color: #008080; font-weight: bold\">27</span>, <span style=\"color: #008080; text-decoration-color: #008080; font-weight: bold\">18</span>, <span style=\"color: #008080; text-decoration-color: #008080; font-weight: bold\">6</span>, <span style=\"color: #008080; text-decoration-color: #008080; font-weight: bold\">2</span><span style=\"font-weight: bold\">)</span>\n",
       "<span style=\"color: #7fbf7f; text-decoration-color: #7fbf7f\">│   │   </span><span style=\"font-weight: bold\">}</span>\n",
       "<span style=\"color: #7fbf7f; text-decoration-color: #7fbf7f\">│   </span><span style=\"font-weight: bold\">}</span>,\n",
       "<span style=\"color: #7fbf7f; text-decoration-color: #7fbf7f\">│   </span><span style=\"font-weight: bold\">{</span>\n",
       "<span style=\"color: #7fbf7f; text-decoration-color: #7fbf7f\">│   │   </span><span style=\"color: #008000; text-decoration-color: #008000\">'_id'</span>: <span style=\"color: #800080; text-decoration-color: #800080; font-weight: bold\">ObjectId</span><span style=\"font-weight: bold\">(</span><span style=\"color: #008000; text-decoration-color: #008000\">'573a1393f29313caabcdd38c'</span><span style=\"font-weight: bold\">)</span>,\n",
       "<span style=\"color: #7fbf7f; text-decoration-color: #7fbf7f\">│   │   </span><span style=\"color: #008000; text-decoration-color: #008000\">'plot'</span>: <span style=\"color: #008000; text-decoration-color: #008000\">'A ruthless doctor and his young prize student find themselves continually harassed by their murderous supplier of illegal cadavers.'</span>,\n",
       "<span style=\"color: #7fbf7f; text-decoration-color: #7fbf7f\">│   │   </span><span style=\"color: #008000; text-decoration-color: #008000\">'genres'</span>: <span style=\"font-weight: bold\">[</span><span style=\"color: #008000; text-decoration-color: #008000\">'Horror'</span>, <span style=\"color: #008000; text-decoration-color: #008000\">'Thriller'</span><span style=\"font-weight: bold\">]</span>,\n",
       "<span style=\"color: #7fbf7f; text-decoration-color: #7fbf7f\">│   │   </span><span style=\"color: #008000; text-decoration-color: #008000\">'runtime'</span>: <span style=\"color: #008080; text-decoration-color: #008080; font-weight: bold\">77</span>,\n",
       "<span style=\"color: #7fbf7f; text-decoration-color: #7fbf7f\">│   │   </span><span style=\"color: #008000; text-decoration-color: #008000\">'rated'</span>: <span style=\"color: #008000; text-decoration-color: #008000\">'APPROVED'</span>,\n",
       "<span style=\"color: #7fbf7f; text-decoration-color: #7fbf7f\">│   │   </span><span style=\"color: #008000; text-decoration-color: #008000\">'title'</span>: <span style=\"color: #008000; text-decoration-color: #008000\">'The Body Snatcher'</span>,\n",
       "<span style=\"color: #7fbf7f; text-decoration-color: #7fbf7f\">│   │   </span><span style=\"color: #008000; text-decoration-color: #008000\">'num_mflix_comments'</span>: <span style=\"color: #008080; text-decoration-color: #008080; font-weight: bold\">1</span>,\n",
       "<span style=\"color: #7fbf7f; text-decoration-color: #7fbf7f\">│   │   </span><span style=\"color: #008000; text-decoration-color: #008000\">'poster'</span>: <span style=\"color: #008000; text-decoration-color: #008000\">'https://m.media-amazon.com/images/M/MV5BNzNmOTE0YTktZGZmYS00N2RhLWI5NTgtYTAyZjZhYWExMmRmXkEyXkFqcGdeQXVyMTQxNzMzNDI@._V1_SY1000_SX677_AL_.jpg'</span>,\n",
       "<span style=\"color: #7fbf7f; text-decoration-color: #7fbf7f\">│   │   </span><span style=\"color: #008000; text-decoration-color: #008000\">'countries'</span>: <span style=\"font-weight: bold\">[</span><span style=\"color: #008000; text-decoration-color: #008000\">'USA'</span><span style=\"font-weight: bold\">]</span>,\n",
       "<span style=\"color: #7fbf7f; text-decoration-color: #7fbf7f\">│   │   </span><span style=\"color: #008000; text-decoration-color: #008000\">'fullplot'</span>: <span style=\"color: #008000; text-decoration-color: #008000\">\"In Edinburgh in 1831, Dr. Wolfe MacFarlane runs a medical school where Donald Fettes is a student. Fettes is interested in helping a young girl who has lost the use of her legs. He is certain that MacFarlane's surgical skills could be put to great use but he is reluctant to do so. The good Dr. MacFarlane has a secret that soon becomes all too obvious to young Fettes, who has only recently been promoted as his assistant: he has been paying a local cabbie, John Gray, to supply him with dead bodies for anatomical research. Gray constantly harasses MacFarlane and clearly has a hold over him dating to a famous trial many years before where Gray refused to identify the man for whom he was robbing graves. Fettes isn't aware of any of this but soon realizes exactly how Gray obtains the bodies they use in their anatomy classes.\"</span>,\n",
       "<span style=\"color: #7fbf7f; text-decoration-color: #7fbf7f\">│   │   </span><span style=\"color: #008000; text-decoration-color: #008000\">'languages'</span>: <span style=\"font-weight: bold\">[</span><span style=\"color: #008000; text-decoration-color: #008000\">'English'</span><span style=\"font-weight: bold\">]</span>,\n",
       "<span style=\"color: #7fbf7f; text-decoration-color: #7fbf7f\">│   │   </span><span style=\"color: #008000; text-decoration-color: #008000\">'cast'</span>: <span style=\"font-weight: bold\">[</span><span style=\"color: #008000; text-decoration-color: #008000\">'Boris Karloff'</span>, <span style=\"color: #008000; text-decoration-color: #008000\">'Bela Lugosi'</span>, <span style=\"color: #008000; text-decoration-color: #008000\">'Henry Daniell'</span>, <span style=\"color: #008000; text-decoration-color: #008000\">'Edith Atwater'</span><span style=\"font-weight: bold\">]</span>,\n",
       "<span style=\"color: #7fbf7f; text-decoration-color: #7fbf7f\">│   │   </span><span style=\"color: #008000; text-decoration-color: #008000\">'directors'</span>: <span style=\"font-weight: bold\">[</span><span style=\"color: #008000; text-decoration-color: #008000\">'Robert Wise'</span><span style=\"font-weight: bold\">]</span>,\n",
       "<span style=\"color: #7fbf7f; text-decoration-color: #7fbf7f\">│   │   </span><span style=\"color: #008000; text-decoration-color: #008000\">'writers'</span>: <span style=\"font-weight: bold\">[</span>\n",
       "<span style=\"color: #7fbf7f; text-decoration-color: #7fbf7f\">│   │   │   </span><span style=\"color: #008000; text-decoration-color: #008000\">'Robert Louis Stevenson (short story)'</span>,\n",
       "<span style=\"color: #7fbf7f; text-decoration-color: #7fbf7f\">│   │   │   </span><span style=\"color: #008000; text-decoration-color: #008000\">'Philip MacDonald (written for the screen by)'</span>,\n",
       "<span style=\"color: #7fbf7f; text-decoration-color: #7fbf7f\">│   │   │   </span><span style=\"color: #008000; text-decoration-color: #008000\">'Val Lewton (written for the screen by)'</span>\n",
       "<span style=\"color: #7fbf7f; text-decoration-color: #7fbf7f\">│   │   </span><span style=\"font-weight: bold\">]</span>,\n",
       "<span style=\"color: #7fbf7f; text-decoration-color: #7fbf7f\">│   │   </span><span style=\"color: #008000; text-decoration-color: #008000\">'awards'</span>: <span style=\"font-weight: bold\">{</span><span style=\"color: #008000; text-decoration-color: #008000\">'wins'</span>: <span style=\"color: #008080; text-decoration-color: #008080; font-weight: bold\">0</span>, <span style=\"color: #008000; text-decoration-color: #008000\">'nominations'</span>: <span style=\"color: #008080; text-decoration-color: #008080; font-weight: bold\">3</span>, <span style=\"color: #008000; text-decoration-color: #008000\">'text'</span>: <span style=\"color: #008000; text-decoration-color: #008000\">'3 nominations.'</span><span style=\"font-weight: bold\">}</span>,\n",
       "<span style=\"color: #7fbf7f; text-decoration-color: #7fbf7f\">│   │   </span><span style=\"color: #008000; text-decoration-color: #008000\">'lastupdated'</span>: <span style=\"color: #008000; text-decoration-color: #008000\">'2015-08-16 01:24:24.840000000'</span>,\n",
       "<span style=\"color: #7fbf7f; text-decoration-color: #7fbf7f\">│   │   </span><span style=\"color: #008000; text-decoration-color: #008000\">'year'</span>: <span style=\"color: #008080; text-decoration-color: #008080; font-weight: bold\">1945</span>,\n",
       "<span style=\"color: #7fbf7f; text-decoration-color: #7fbf7f\">│   │   </span><span style=\"color: #008000; text-decoration-color: #008000\">'imdb'</span>: <span style=\"font-weight: bold\">{</span><span style=\"color: #008000; text-decoration-color: #008000\">'rating'</span>: <span style=\"color: #008080; text-decoration-color: #008080; font-weight: bold\">7.4</span>, <span style=\"color: #008000; text-decoration-color: #008000\">'votes'</span>: <span style=\"color: #008080; text-decoration-color: #008080; font-weight: bold\">5509</span>, <span style=\"color: #008000; text-decoration-color: #008000\">'id'</span>: <span style=\"color: #008080; text-decoration-color: #008080; font-weight: bold\">37549</span><span style=\"font-weight: bold\">}</span>,\n",
       "<span style=\"color: #7fbf7f; text-decoration-color: #7fbf7f\">│   │   </span><span style=\"color: #008000; text-decoration-color: #008000\">'type'</span>: <span style=\"color: #008000; text-decoration-color: #008000\">'movie'</span>,\n",
       "<span style=\"color: #7fbf7f; text-decoration-color: #7fbf7f\">│   │   </span><span style=\"color: #008000; text-decoration-color: #008000\">'tomatoes'</span>: <span style=\"font-weight: bold\">{</span>\n",
       "<span style=\"color: #7fbf7f; text-decoration-color: #7fbf7f\">│   │   │   </span><span style=\"color: #008000; text-decoration-color: #008000\">'viewer'</span>: <span style=\"font-weight: bold\">{</span><span style=\"color: #008000; text-decoration-color: #008000\">'rating'</span>: <span style=\"color: #008080; text-decoration-color: #008080; font-weight: bold\">3.5</span>, <span style=\"color: #008000; text-decoration-color: #008000\">'numReviews'</span>: <span style=\"color: #008080; text-decoration-color: #008080; font-weight: bold\">3664</span>, <span style=\"color: #008000; text-decoration-color: #008000\">'meter'</span>: <span style=\"color: #008080; text-decoration-color: #008080; font-weight: bold\">75</span><span style=\"font-weight: bold\">}</span>,\n",
       "<span style=\"color: #7fbf7f; text-decoration-color: #7fbf7f\">│   │   │   </span><span style=\"color: #008000; text-decoration-color: #008000\">'critic'</span>: <span style=\"font-weight: bold\">{</span><span style=\"color: #008000; text-decoration-color: #008000\">'rating'</span>: <span style=\"color: #008080; text-decoration-color: #008080; font-weight: bold\">6.8</span>, <span style=\"color: #008000; text-decoration-color: #008000\">'numReviews'</span>: <span style=\"color: #008080; text-decoration-color: #008080; font-weight: bold\">16</span>, <span style=\"color: #008000; text-decoration-color: #008000\">'meter'</span>: <span style=\"color: #008080; text-decoration-color: #008080; font-weight: bold\">81</span><span style=\"font-weight: bold\">}</span>,\n",
       "<span style=\"color: #7fbf7f; text-decoration-color: #7fbf7f\">│   │   │   </span><span style=\"color: #008000; text-decoration-color: #008000\">'lastUpdated'</span>: <span style=\"color: #800080; text-decoration-color: #800080; font-weight: bold\">datetime.datetime</span><span style=\"font-weight: bold\">(</span><span style=\"color: #008080; text-decoration-color: #008080; font-weight: bold\">2015</span>, <span style=\"color: #008080; text-decoration-color: #008080; font-weight: bold\">8</span>, <span style=\"color: #008080; text-decoration-color: #008080; font-weight: bold\">21</span>, <span style=\"color: #008080; text-decoration-color: #008080; font-weight: bold\">19</span>, <span style=\"color: #008080; text-decoration-color: #008080; font-weight: bold\">11</span>, <span style=\"color: #008080; text-decoration-color: #008080; font-weight: bold\">47</span><span style=\"font-weight: bold\">)</span>,\n",
       "<span style=\"color: #7fbf7f; text-decoration-color: #7fbf7f\">│   │   │   </span><span style=\"color: #008000; text-decoration-color: #008000\">'rotten'</span>: <span style=\"color: #008080; text-decoration-color: #008080; font-weight: bold\">3</span>,\n",
       "<span style=\"color: #7fbf7f; text-decoration-color: #7fbf7f\">│   │   │   </span><span style=\"color: #008000; text-decoration-color: #008000\">'production'</span>: <span style=\"color: #008000; text-decoration-color: #008000\">'RKO Pictures'</span>,\n",
       "<span style=\"color: #7fbf7f; text-decoration-color: #7fbf7f\">│   │   │   </span><span style=\"color: #008000; text-decoration-color: #008000\">'fresh'</span>: <span style=\"color: #008080; text-decoration-color: #008080; font-weight: bold\">13</span>\n",
       "<span style=\"color: #7fbf7f; text-decoration-color: #7fbf7f\">│   │   </span><span style=\"font-weight: bold\">}</span>\n",
       "<span style=\"color: #7fbf7f; text-decoration-color: #7fbf7f\">│   </span><span style=\"font-weight: bold\">}</span>,\n",
       "<span style=\"color: #7fbf7f; text-decoration-color: #7fbf7f\">│   </span><span style=\"font-weight: bold\">{</span>\n",
       "<span style=\"color: #7fbf7f; text-decoration-color: #7fbf7f\">│   │   </span><span style=\"color: #008000; text-decoration-color: #008000\">'_id'</span>: <span style=\"color: #800080; text-decoration-color: #800080; font-weight: bold\">ObjectId</span><span style=\"font-weight: bold\">(</span><span style=\"color: #008000; text-decoration-color: #008000\">'573a1393f29313caabcdd3ed'</span><span style=\"font-weight: bold\">)</span>,\n",
       "<span style=\"color: #7fbf7f; text-decoration-color: #7fbf7f\">│   │   </span><span style=\"color: #008000; text-decoration-color: #008000\">'plot'</span>: <span style=\"color: #008000; text-decoration-color: #008000\">'An architect senses impending doom as his half-remembered recurring dream turns into reality. The guests at the country house encourage him to stay as they take turns telling supernatural tales.'</span>,\n",
       "<span style=\"color: #7fbf7f; text-decoration-color: #7fbf7f\">│   │   </span><span style=\"color: #008000; text-decoration-color: #008000\">'genres'</span>: <span style=\"font-weight: bold\">[</span><span style=\"color: #008000; text-decoration-color: #008000\">'Horror'</span><span style=\"font-weight: bold\">]</span>,\n",
       "<span style=\"color: #7fbf7f; text-decoration-color: #7fbf7f\">│   │   </span><span style=\"color: #008000; text-decoration-color: #008000\">'runtime'</span>: <span style=\"color: #008080; text-decoration-color: #008080; font-weight: bold\">77</span>,\n",
       "<span style=\"color: #7fbf7f; text-decoration-color: #7fbf7f\">│   │   </span><span style=\"color: #008000; text-decoration-color: #008000\">'rated'</span>: <span style=\"color: #008000; text-decoration-color: #008000\">'APPROVED'</span>,\n",
       "<span style=\"color: #7fbf7f; text-decoration-color: #7fbf7f\">│   │   </span><span style=\"color: #008000; text-decoration-color: #008000\">'cast'</span>: <span style=\"font-weight: bold\">[</span><span style=\"color: #008000; text-decoration-color: #008000\">'Mervyn Johns'</span>, <span style=\"color: #008000; text-decoration-color: #008000\">'Roland Culver'</span>, <span style=\"color: #008000; text-decoration-color: #008000\">'Mary Merrall'</span>, <span style=\"color: #008000; text-decoration-color: #008000\">'Googie Withers'</span><span style=\"font-weight: bold\">]</span>,\n",
       "<span style=\"color: #7fbf7f; text-decoration-color: #7fbf7f\">│   │   </span><span style=\"color: #008000; text-decoration-color: #008000\">'num_mflix_comments'</span>: <span style=\"color: #008080; text-decoration-color: #008080; font-weight: bold\">1</span>,\n",
       "<span style=\"color: #7fbf7f; text-decoration-color: #7fbf7f\">│   │   </span><span style=\"color: #008000; text-decoration-color: #008000\">'poster'</span>: <span style=\"color: #008000; text-decoration-color: #008000\">'https://m.media-amazon.com/images/M/MV5BYTY2OTJjZjgtMzExMy00MWJlLTg2N2ItM2NhMDQxNTNkNjFhXkEyXkFqcGdeQXVyMjI4MjA5MzA@._V1_SY1000_SX677_AL_.jpg'</span>,\n",
       "<span style=\"color: #7fbf7f; text-decoration-color: #7fbf7f\">│   │   </span><span style=\"color: #008000; text-decoration-color: #008000\">'title'</span>: <span style=\"color: #008000; text-decoration-color: #008000\">'Dead of Night'</span>,\n",
       "<span style=\"color: #7fbf7f; text-decoration-color: #7fbf7f\">│   │   </span><span style=\"color: #008000; text-decoration-color: #008000\">'fullplot'</span>: <span style=\"color: #008000; text-decoration-color: #008000\">\"Architect Walter Craig, seeking the possibility of some work at a country farmhouse, soon finds himself once again stuck in his recurring nightmare. Dreading the end of the dream that he knows is coming, he must first listen to all the assembled guests' own bizarre tales.\"</span>,\n",
       "<span style=\"color: #7fbf7f; text-decoration-color: #7fbf7f\">│   │   </span><span style=\"color: #008000; text-decoration-color: #008000\">'languages'</span>: <span style=\"font-weight: bold\">[</span><span style=\"color: #008000; text-decoration-color: #008000\">'English'</span>, <span style=\"color: #008000; text-decoration-color: #008000\">'French'</span><span style=\"font-weight: bold\">]</span>,\n",
       "<span style=\"color: #7fbf7f; text-decoration-color: #7fbf7f\">│   │   </span><span style=\"color: #008000; text-decoration-color: #008000\">'released'</span>: <span style=\"color: #800080; text-decoration-color: #800080; font-weight: bold\">datetime.datetime</span><span style=\"font-weight: bold\">(</span><span style=\"color: #008080; text-decoration-color: #008080; font-weight: bold\">1945</span>, <span style=\"color: #008080; text-decoration-color: #008080; font-weight: bold\">10</span>, <span style=\"color: #008080; text-decoration-color: #008080; font-weight: bold\">15</span>, <span style=\"color: #008080; text-decoration-color: #008080; font-weight: bold\">0</span>, <span style=\"color: #008080; text-decoration-color: #008080; font-weight: bold\">0</span><span style=\"font-weight: bold\">)</span>,\n",
       "<span style=\"color: #7fbf7f; text-decoration-color: #7fbf7f\">│   │   </span><span style=\"color: #008000; text-decoration-color: #008000\">'directors'</span>: <span style=\"font-weight: bold\">[</span><span style=\"color: #008000; text-decoration-color: #008000\">'Alberto Cavalcanti'</span>, <span style=\"color: #008000; text-decoration-color: #008000\">'Charles Crichton'</span>, <span style=\"color: #008000; text-decoration-color: #008000\">'Basil Dearden'</span>, <span style=\"color: #008000; text-decoration-color: #008000\">'Robert Hamer'</span><span style=\"font-weight: bold\">]</span>,\n",
       "<span style=\"color: #7fbf7f; text-decoration-color: #7fbf7f\">│   │   </span><span style=\"color: #008000; text-decoration-color: #008000\">'writers'</span>: <span style=\"font-weight: bold\">[</span>\n",
       "<span style=\"color: #7fbf7f; text-decoration-color: #7fbf7f\">│   │   │   </span><span style=\"color: #008000; text-decoration-color: #008000\">'H.G. Wells (original story)'</span>,\n",
       "<span style=\"color: #7fbf7f; text-decoration-color: #7fbf7f\">│   │   │   </span><span style=\"color: #008000; text-decoration-color: #008000\">'E.F. Benson (original story)'</span>,\n",
       "<span style=\"color: #7fbf7f; text-decoration-color: #7fbf7f\">│   │   │   </span><span style=\"color: #008000; text-decoration-color: #008000\">'John Baines (original story)'</span>,\n",
       "<span style=\"color: #7fbf7f; text-decoration-color: #7fbf7f\">│   │   │   </span><span style=\"color: #008000; text-decoration-color: #008000\">'Angus MacPhail (original story)'</span>,\n",
       "<span style=\"color: #7fbf7f; text-decoration-color: #7fbf7f\">│   │   │   </span><span style=\"color: #008000; text-decoration-color: #008000\">'John Baines (screenplay)'</span>,\n",
       "<span style=\"color: #7fbf7f; text-decoration-color: #7fbf7f\">│   │   │   </span><span style=\"color: #008000; text-decoration-color: #008000\">'Angus MacPhail (screenplay)'</span>,\n",
       "<span style=\"color: #7fbf7f; text-decoration-color: #7fbf7f\">│   │   │   </span><span style=\"color: #008000; text-decoration-color: #008000\">'T.E.B. Clarke (additional dialogue)'</span>\n",
       "<span style=\"color: #7fbf7f; text-decoration-color: #7fbf7f\">│   │   </span><span style=\"font-weight: bold\">]</span>,\n",
       "<span style=\"color: #7fbf7f; text-decoration-color: #7fbf7f\">│   │   </span><span style=\"color: #008000; text-decoration-color: #008000\">'awards'</span>: <span style=\"font-weight: bold\">{</span><span style=\"color: #008000; text-decoration-color: #008000\">'wins'</span>: <span style=\"color: #008080; text-decoration-color: #008080; font-weight: bold\">1</span>, <span style=\"color: #008000; text-decoration-color: #008000\">'nominations'</span>: <span style=\"color: #008080; text-decoration-color: #008080; font-weight: bold\">1</span>, <span style=\"color: #008000; text-decoration-color: #008000\">'text'</span>: <span style=\"color: #008000; text-decoration-color: #008000\">'1 win &amp; 1 nomination.'</span><span style=\"font-weight: bold\">}</span>,\n",
       "<span style=\"color: #7fbf7f; text-decoration-color: #7fbf7f\">│   │   </span><span style=\"color: #008000; text-decoration-color: #008000\">'lastupdated'</span>: <span style=\"color: #008000; text-decoration-color: #008000\">'2015-09-15 04:38:12.500000000'</span>,\n",
       "<span style=\"color: #7fbf7f; text-decoration-color: #7fbf7f\">│   │   </span><span style=\"color: #008000; text-decoration-color: #008000\">'year'</span>: <span style=\"color: #008080; text-decoration-color: #008080; font-weight: bold\">1945</span>,\n",
       "<span style=\"color: #7fbf7f; text-decoration-color: #7fbf7f\">│   │   </span><span style=\"color: #008000; text-decoration-color: #008000\">'imdb'</span>: <span style=\"font-weight: bold\">{</span><span style=\"color: #008000; text-decoration-color: #008000\">'rating'</span>: <span style=\"color: #008080; text-decoration-color: #008080; font-weight: bold\">7.7</span>, <span style=\"color: #008000; text-decoration-color: #008000\">'votes'</span>: <span style=\"color: #008080; text-decoration-color: #008080; font-weight: bold\">7116</span>, <span style=\"color: #008000; text-decoration-color: #008000\">'id'</span>: <span style=\"color: #008080; text-decoration-color: #008080; font-weight: bold\">37635</span><span style=\"font-weight: bold\">}</span>,\n",
       "<span style=\"color: #7fbf7f; text-decoration-color: #7fbf7f\">│   │   </span><span style=\"color: #008000; text-decoration-color: #008000\">'countries'</span>: <span style=\"font-weight: bold\">[</span><span style=\"color: #008000; text-decoration-color: #008000\">'UK'</span><span style=\"font-weight: bold\">]</span>,\n",
       "<span style=\"color: #7fbf7f; text-decoration-color: #7fbf7f\">│   │   </span><span style=\"color: #008000; text-decoration-color: #008000\">'type'</span>: <span style=\"color: #008000; text-decoration-color: #008000\">'movie'</span>,\n",
       "<span style=\"color: #7fbf7f; text-decoration-color: #7fbf7f\">│   │   </span><span style=\"color: #008000; text-decoration-color: #008000\">'tomatoes'</span>: <span style=\"font-weight: bold\">{</span>\n",
       "<span style=\"color: #7fbf7f; text-decoration-color: #7fbf7f\">│   │   │   </span><span style=\"color: #008000; text-decoration-color: #008000\">'viewer'</span>: <span style=\"font-weight: bold\">{</span><span style=\"color: #008000; text-decoration-color: #008000\">'rating'</span>: <span style=\"color: #008080; text-decoration-color: #008080; font-weight: bold\">4</span>, <span style=\"color: #008000; text-decoration-color: #008000\">'numReviews'</span>: <span style=\"color: #008080; text-decoration-color: #008080; font-weight: bold\">3194</span>, <span style=\"color: #008000; text-decoration-color: #008000\">'meter'</span>: <span style=\"color: #008080; text-decoration-color: #008080; font-weight: bold\">88</span><span style=\"font-weight: bold\">}</span>,\n",
       "<span style=\"color: #7fbf7f; text-decoration-color: #7fbf7f\">│   │   │   </span><span style=\"color: #008000; text-decoration-color: #008000\">'dvd'</span>: <span style=\"color: #800080; text-decoration-color: #800080; font-weight: bold\">datetime.datetime</span><span style=\"font-weight: bold\">(</span><span style=\"color: #008080; text-decoration-color: #008080; font-weight: bold\">2009</span>, <span style=\"color: #008080; text-decoration-color: #008080; font-weight: bold\">1</span>, <span style=\"color: #008080; text-decoration-color: #008080; font-weight: bold\">27</span>, <span style=\"color: #008080; text-decoration-color: #008080; font-weight: bold\">0</span>, <span style=\"color: #008080; text-decoration-color: #008080; font-weight: bold\">0</span><span style=\"font-weight: bold\">)</span>,\n",
       "<span style=\"color: #7fbf7f; text-decoration-color: #7fbf7f\">│   │   │   </span><span style=\"color: #008000; text-decoration-color: #008000\">'critic'</span>: <span style=\"font-weight: bold\">{</span><span style=\"color: #008000; text-decoration-color: #008000\">'rating'</span>: <span style=\"color: #008080; text-decoration-color: #008080; font-weight: bold\">8</span>, <span style=\"color: #008000; text-decoration-color: #008000\">'numReviews'</span>: <span style=\"color: #008080; text-decoration-color: #008080; font-weight: bold\">27</span>, <span style=\"color: #008000; text-decoration-color: #008000\">'meter'</span>: <span style=\"color: #008080; text-decoration-color: #008080; font-weight: bold\">96</span><span style=\"font-weight: bold\">}</span>,\n",
       "<span style=\"color: #7fbf7f; text-decoration-color: #7fbf7f\">│   │   │   </span><span style=\"color: #008000; text-decoration-color: #008000\">'lastUpdated'</span>: <span style=\"color: #800080; text-decoration-color: #800080; font-weight: bold\">datetime.datetime</span><span style=\"font-weight: bold\">(</span><span style=\"color: #008080; text-decoration-color: #008080; font-weight: bold\">2015</span>, <span style=\"color: #008080; text-decoration-color: #008080; font-weight: bold\">7</span>, <span style=\"color: #008080; text-decoration-color: #008080; font-weight: bold\">26</span>, <span style=\"color: #008080; text-decoration-color: #008080; font-weight: bold\">18</span>, <span style=\"color: #008080; text-decoration-color: #008080; font-weight: bold\">40</span>, <span style=\"color: #008080; text-decoration-color: #008080; font-weight: bold\">43</span><span style=\"font-weight: bold\">)</span>,\n",
       "<span style=\"color: #7fbf7f; text-decoration-color: #7fbf7f\">│   │   │   </span><span style=\"color: #008000; text-decoration-color: #008000\">'consensus'</span>: <span style=\"color: #008000; text-decoration-color: #008000\">'With four accomplished directors contributing, Dead of Night is a classic horror anthology that remains highly influential.'</span>,\n",
       "<span style=\"color: #7fbf7f; text-decoration-color: #7fbf7f\">│   │   │   </span><span style=\"color: #008000; text-decoration-color: #008000\">'rotten'</span>: <span style=\"color: #008080; text-decoration-color: #008080; font-weight: bold\">1</span>,\n",
       "<span style=\"color: #7fbf7f; text-decoration-color: #7fbf7f\">│   │   │   </span><span style=\"color: #008000; text-decoration-color: #008000\">'production'</span>: <span style=\"color: #008000; text-decoration-color: #008000\">'Universal Pictures'</span>,\n",
       "<span style=\"color: #7fbf7f; text-decoration-color: #7fbf7f\">│   │   │   </span><span style=\"color: #008000; text-decoration-color: #008000\">'fresh'</span>: <span style=\"color: #008080; text-decoration-color: #008080; font-weight: bold\">26</span>\n",
       "<span style=\"color: #7fbf7f; text-decoration-color: #7fbf7f\">│   │   </span><span style=\"font-weight: bold\">}</span>\n",
       "<span style=\"color: #7fbf7f; text-decoration-color: #7fbf7f\">│   </span><span style=\"font-weight: bold\">}</span>,\n",
       "<span style=\"color: #7fbf7f; text-decoration-color: #7fbf7f\">│   </span><span style=\"font-weight: bold\">{</span>\n",
       "<span style=\"color: #7fbf7f; text-decoration-color: #7fbf7f\">│   │   </span><span style=\"color: #008000; text-decoration-color: #008000\">'_id'</span>: <span style=\"color: #800080; text-decoration-color: #800080; font-weight: bold\">ObjectId</span><span style=\"font-weight: bold\">(</span><span style=\"color: #008000; text-decoration-color: #008000\">'573a1393f29313caabcdd5bc'</span><span style=\"font-weight: bold\">)</span>,\n",
       "<span style=\"color: #7fbf7f; text-decoration-color: #7fbf7f\">│   │   </span><span style=\"color: #008000; text-decoration-color: #008000\">'plot'</span>: <span style=\"color: #008000; text-decoration-color: #008000\">'A psychiatrist protects the identity of an amnesia patient accused of murder while attempting to recover his memory.'</span>,\n",
       "<span style=\"color: #7fbf7f; text-decoration-color: #7fbf7f\">│   │   </span><span style=\"color: #008000; text-decoration-color: #008000\">'genres'</span>: <span style=\"font-weight: bold\">[</span><span style=\"color: #008000; text-decoration-color: #008000\">'Film-Noir'</span>, <span style=\"color: #008000; text-decoration-color: #008000\">'Mystery'</span>, <span style=\"color: #008000; text-decoration-color: #008000\">'Romance'</span><span style=\"font-weight: bold\">]</span>,\n",
       "<span style=\"color: #7fbf7f; text-decoration-color: #7fbf7f\">│   │   </span><span style=\"color: #008000; text-decoration-color: #008000\">'runtime'</span>: <span style=\"color: #008080; text-decoration-color: #008080; font-weight: bold\">111</span>,\n",
       "<span style=\"color: #7fbf7f; text-decoration-color: #7fbf7f\">│   │   </span><span style=\"color: #008000; text-decoration-color: #008000\">'rated'</span>: <span style=\"color: #008000; text-decoration-color: #008000\">'UNRATED'</span>,\n",
       "<span style=\"color: #7fbf7f; text-decoration-color: #7fbf7f\">│   │   </span><span style=\"color: #008000; text-decoration-color: #008000\">'cast'</span>: <span style=\"font-weight: bold\">[</span><span style=\"color: #008000; text-decoration-color: #008000\">'Ingrid Bergman'</span>, <span style=\"color: #008000; text-decoration-color: #008000\">'Gregory Peck'</span>, <span style=\"color: #008000; text-decoration-color: #008000\">'Michael Chekhov'</span>, <span style=\"color: #008000; text-decoration-color: #008000\">'Leo G. Carroll'</span><span style=\"font-weight: bold\">]</span>,\n",
       "<span style=\"color: #7fbf7f; text-decoration-color: #7fbf7f\">│   │   </span><span style=\"color: #008000; text-decoration-color: #008000\">'num_mflix_comments'</span>: <span style=\"color: #008080; text-decoration-color: #008080; font-weight: bold\">2</span>,\n",
       "<span style=\"color: #7fbf7f; text-decoration-color: #7fbf7f\">│   │   </span><span style=\"color: #008000; text-decoration-color: #008000\">'poster'</span>: <span style=\"color: #008000; text-decoration-color: #008000\">'https://m.media-amazon.com/images/M/MV5BMTM2NDI5Nzg5Nl5BMl5BanBnXkFtZTcwNDk3NzI0NA@@._V1_SY1000_SX677_AL_.jpg'</span>,\n",
       "<span style=\"color: #7fbf7f; text-decoration-color: #7fbf7f\">│   │   </span><span style=\"color: #008000; text-decoration-color: #008000\">'title'</span>: <span style=\"color: #008000; text-decoration-color: #008000\">'Spellbound'</span>,\n",
       "<span style=\"color: #7fbf7f; text-decoration-color: #7fbf7f\">│   │   </span><span style=\"color: #008000; text-decoration-color: #008000\">'fullplot'</span>: <span style=\"color: #008000; text-decoration-color: #008000\">'The head of the Green Manors mental asylum Dr. Murchison is retiring to be replaced by Dr. Edwardes, a famous psychiatrist. Edwardes arrives and is immediately attracted to the beautiful but cold Dr. Constance Petersen. However, it soon becomes apparent that Dr. Edwardes is in fact a paranoid amnesiac impostor. He goes on the run with Constance who tries to help his condition and solve the mystery of what happened to the real Dr. Edwardes.'</span>,\n",
       "<span style=\"color: #7fbf7f; text-decoration-color: #7fbf7f\">│   │   </span><span style=\"color: #008000; text-decoration-color: #008000\">'languages'</span>: <span style=\"font-weight: bold\">[</span><span style=\"color: #008000; text-decoration-color: #008000\">'English'</span><span style=\"font-weight: bold\">]</span>,\n",
       "<span style=\"color: #7fbf7f; text-decoration-color: #7fbf7f\">│   │   </span><span style=\"color: #008000; text-decoration-color: #008000\">'released'</span>: <span style=\"color: #800080; text-decoration-color: #800080; font-weight: bold\">datetime.datetime</span><span style=\"font-weight: bold\">(</span><span style=\"color: #008080; text-decoration-color: #008080; font-weight: bold\">1945</span>, <span style=\"color: #008080; text-decoration-color: #008080; font-weight: bold\">12</span>, <span style=\"color: #008080; text-decoration-color: #008080; font-weight: bold\">28</span>, <span style=\"color: #008080; text-decoration-color: #008080; font-weight: bold\">0</span>, <span style=\"color: #008080; text-decoration-color: #008080; font-weight: bold\">0</span><span style=\"font-weight: bold\">)</span>,\n",
       "<span style=\"color: #7fbf7f; text-decoration-color: #7fbf7f\">│   │   </span><span style=\"color: #008000; text-decoration-color: #008000\">'directors'</span>: <span style=\"font-weight: bold\">[</span><span style=\"color: #008000; text-decoration-color: #008000\">'Alfred Hitchcock'</span><span style=\"font-weight: bold\">]</span>,\n",
       "<span style=\"color: #7fbf7f; text-decoration-color: #7fbf7f\">│   │   </span><span style=\"color: #008000; text-decoration-color: #008000\">'writers'</span>: <span style=\"font-weight: bold\">[</span>\n",
       "<span style=\"color: #7fbf7f; text-decoration-color: #7fbf7f\">│   │   │   </span><span style=\"color: #008000; text-decoration-color: #008000\">'Ben Hecht (screen play)'</span>,\n",
       "<span style=\"color: #7fbf7f; text-decoration-color: #7fbf7f\">│   │   │   </span><span style=\"color: #008000; text-decoration-color: #008000\">'Frances Beeding (suggested by novel: \"The House of Dr. Edwardes\")'</span>,\n",
       "<span style=\"color: #7fbf7f; text-decoration-color: #7fbf7f\">│   │   │   </span><span style=\"color: #008000; text-decoration-color: #008000\">'Angus MacPhail (adaptation)'</span>\n",
       "<span style=\"color: #7fbf7f; text-decoration-color: #7fbf7f\">│   │   </span><span style=\"font-weight: bold\">]</span>,\n",
       "<span style=\"color: #7fbf7f; text-decoration-color: #7fbf7f\">│   │   </span><span style=\"color: #008000; text-decoration-color: #008000\">'awards'</span>: <span style=\"font-weight: bold\">{</span><span style=\"color: #008000; text-decoration-color: #008000\">'wins'</span>: <span style=\"color: #008080; text-decoration-color: #008080; font-weight: bold\">2</span>, <span style=\"color: #008000; text-decoration-color: #008000\">'nominations'</span>: <span style=\"color: #008080; text-decoration-color: #008080; font-weight: bold\">6</span>, <span style=\"color: #008000; text-decoration-color: #008000\">'text'</span>: <span style=\"color: #008000; text-decoration-color: #008000\">'Won 1 Oscar. Another 1 win &amp; 6 nominations.'</span><span style=\"font-weight: bold\">}</span>,\n",
       "<span style=\"color: #7fbf7f; text-decoration-color: #7fbf7f\">│   │   </span><span style=\"color: #008000; text-decoration-color: #008000\">'lastupdated'</span>: <span style=\"color: #008000; text-decoration-color: #008000\">'2015-09-13 00:08:07.040000000'</span>,\n",
       "<span style=\"color: #7fbf7f; text-decoration-color: #7fbf7f\">│   │   </span><span style=\"color: #008000; text-decoration-color: #008000\">'year'</span>: <span style=\"color: #008080; text-decoration-color: #008080; font-weight: bold\">1945</span>,\n",
       "<span style=\"color: #7fbf7f; text-decoration-color: #7fbf7f\">│   │   </span><span style=\"color: #008000; text-decoration-color: #008000\">'imdb'</span>: <span style=\"font-weight: bold\">{</span><span style=\"color: #008000; text-decoration-color: #008000\">'rating'</span>: <span style=\"color: #008080; text-decoration-color: #008080; font-weight: bold\">7.7</span>, <span style=\"color: #008000; text-decoration-color: #008000\">'votes'</span>: <span style=\"color: #008080; text-decoration-color: #008080; font-weight: bold\">30640</span>, <span style=\"color: #008000; text-decoration-color: #008000\">'id'</span>: <span style=\"color: #008080; text-decoration-color: #008080; font-weight: bold\">38109</span><span style=\"font-weight: bold\">}</span>,\n",
       "<span style=\"color: #7fbf7f; text-decoration-color: #7fbf7f\">│   │   </span><span style=\"color: #008000; text-decoration-color: #008000\">'countries'</span>: <span style=\"font-weight: bold\">[</span><span style=\"color: #008000; text-decoration-color: #008000\">'USA'</span><span style=\"font-weight: bold\">]</span>,\n",
       "<span style=\"color: #7fbf7f; text-decoration-color: #7fbf7f\">│   │   </span><span style=\"color: #008000; text-decoration-color: #008000\">'type'</span>: <span style=\"color: #008000; text-decoration-color: #008000\">'movie'</span>,\n",
       "<span style=\"color: #7fbf7f; text-decoration-color: #7fbf7f\">│   │   </span><span style=\"color: #008000; text-decoration-color: #008000\">'tomatoes'</span>: <span style=\"font-weight: bold\">{</span>\n",
       "<span style=\"color: #7fbf7f; text-decoration-color: #7fbf7f\">│   │   │   </span><span style=\"color: #008000; text-decoration-color: #008000\">'viewer'</span>: <span style=\"font-weight: bold\">{</span><span style=\"color: #008000; text-decoration-color: #008000\">'rating'</span>: <span style=\"color: #008080; text-decoration-color: #008080; font-weight: bold\">3.8</span>, <span style=\"color: #008000; text-decoration-color: #008000\">'numReviews'</span>: <span style=\"color: #008080; text-decoration-color: #008080; font-weight: bold\">16640</span>, <span style=\"color: #008000; text-decoration-color: #008000\">'meter'</span>: <span style=\"color: #008080; text-decoration-color: #008080; font-weight: bold\">83</span><span style=\"font-weight: bold\">}</span>,\n",
       "<span style=\"color: #7fbf7f; text-decoration-color: #7fbf7f\">│   │   │   </span><span style=\"color: #008000; text-decoration-color: #008000\">'dvd'</span>: <span style=\"color: #800080; text-decoration-color: #800080; font-weight: bold\">datetime.datetime</span><span style=\"font-weight: bold\">(</span><span style=\"color: #008080; text-decoration-color: #008080; font-weight: bold\">2001</span>, <span style=\"color: #008080; text-decoration-color: #008080; font-weight: bold\">3</span>, <span style=\"color: #008080; text-decoration-color: #008080; font-weight: bold\">13</span>, <span style=\"color: #008080; text-decoration-color: #008080; font-weight: bold\">0</span>, <span style=\"color: #008080; text-decoration-color: #008080; font-weight: bold\">0</span><span style=\"font-weight: bold\">)</span>,\n",
       "<span style=\"color: #7fbf7f; text-decoration-color: #7fbf7f\">│   │   │   </span><span style=\"color: #008000; text-decoration-color: #008000\">'critic'</span>: <span style=\"font-weight: bold\">{</span><span style=\"color: #008000; text-decoration-color: #008000\">'rating'</span>: <span style=\"color: #008080; text-decoration-color: #008080; font-weight: bold\">7.2</span>, <span style=\"color: #008000; text-decoration-color: #008000\">'numReviews'</span>: <span style=\"color: #008080; text-decoration-color: #008080; font-weight: bold\">35</span>, <span style=\"color: #008000; text-decoration-color: #008000\">'meter'</span>: <span style=\"color: #008080; text-decoration-color: #008080; font-weight: bold\">83</span><span style=\"font-weight: bold\">}</span>,\n",
       "<span style=\"color: #7fbf7f; text-decoration-color: #7fbf7f\">│   │   │   </span><span style=\"color: #008000; text-decoration-color: #008000\">'lastUpdated'</span>: <span style=\"color: #800080; text-decoration-color: #800080; font-weight: bold\">datetime.datetime</span><span style=\"font-weight: bold\">(</span><span style=\"color: #008080; text-decoration-color: #008080; font-weight: bold\">2015</span>, <span style=\"color: #008080; text-decoration-color: #008080; font-weight: bold\">8</span>, <span style=\"color: #008080; text-decoration-color: #008080; font-weight: bold\">23</span>, <span style=\"color: #008080; text-decoration-color: #008080; font-weight: bold\">19</span>, <span style=\"color: #008080; text-decoration-color: #008080; font-weight: bold\">19</span>, <span style=\"color: #008080; text-decoration-color: #008080; font-weight: bold\">48</span><span style=\"font-weight: bold\">)</span>,\n",
       "<span style=\"color: #7fbf7f; text-decoration-color: #7fbf7f\">│   │   │   </span><span style=\"color: #008000; text-decoration-color: #008000\">'rotten'</span>: <span style=\"color: #008080; text-decoration-color: #008080; font-weight: bold\">6</span>,\n",
       "<span style=\"color: #7fbf7f; text-decoration-color: #7fbf7f\">│   │   │   </span><span style=\"color: #008000; text-decoration-color: #008000\">'production'</span>: <span style=\"color: #008000; text-decoration-color: #008000\">'Twentieth Century Fox Home Entertainment'</span>,\n",
       "<span style=\"color: #7fbf7f; text-decoration-color: #7fbf7f\">│   │   │   </span><span style=\"color: #008000; text-decoration-color: #008000\">'fresh'</span>: <span style=\"color: #008080; text-decoration-color: #008080; font-weight: bold\">29</span>\n",
       "<span style=\"color: #7fbf7f; text-decoration-color: #7fbf7f\">│   │   </span><span style=\"font-weight: bold\">}</span>\n",
       "<span style=\"color: #7fbf7f; text-decoration-color: #7fbf7f\">│   </span><span style=\"font-weight: bold\">}</span>,\n",
       "<span style=\"color: #7fbf7f; text-decoration-color: #7fbf7f\">│   </span><span style=\"font-weight: bold\">{</span>\n",
       "<span style=\"color: #7fbf7f; text-decoration-color: #7fbf7f\">│   │   </span><span style=\"color: #008000; text-decoration-color: #008000\">'_id'</span>: <span style=\"color: #800080; text-decoration-color: #800080; font-weight: bold\">ObjectId</span><span style=\"font-weight: bold\">(</span><span style=\"color: #008000; text-decoration-color: #008000\">'573a1393f29313caabcdd6e7'</span><span style=\"font-weight: bold\">)</span>,\n",
       "<span style=\"color: #7fbf7f; text-decoration-color: #7fbf7f\">│   │   </span><span style=\"color: #008000; text-decoration-color: #008000\">'plot'</span>: <span style=\"color: #008000; text-decoration-color: #008000\">\"Chuck Scott gets a job as chauffeur to tough guy Eddie Roman; but Chuck's involvement with Eddie's fearful wife becomes a nightmare.\"</span>,\n",
       "<span style=\"color: #7fbf7f; text-decoration-color: #7fbf7f\">│   │   </span><span style=\"color: #008000; text-decoration-color: #008000\">'genres'</span>: <span style=\"font-weight: bold\">[</span><span style=\"color: #008000; text-decoration-color: #008000\">'Film-Noir'</span><span style=\"font-weight: bold\">]</span>,\n",
       "<span style=\"color: #7fbf7f; text-decoration-color: #7fbf7f\">│   │   </span><span style=\"color: #008000; text-decoration-color: #008000\">'runtime'</span>: <span style=\"color: #008080; text-decoration-color: #008080; font-weight: bold\">86</span>,\n",
       "<span style=\"color: #7fbf7f; text-decoration-color: #7fbf7f\">│   │   </span><span style=\"color: #008000; text-decoration-color: #008000\">'rated'</span>: <span style=\"color: #008000; text-decoration-color: #008000\">'APPROVED'</span>,\n",
       "<span style=\"color: #7fbf7f; text-decoration-color: #7fbf7f\">│   │   </span><span style=\"color: #008000; text-decoration-color: #008000\">'cast'</span>: <span style=\"font-weight: bold\">[</span><span style=\"color: #008000; text-decoration-color: #008000\">'Robert Cummings'</span>, <span style=\"color: #008000; text-decoration-color: #008000\">'Michèle Morgan'</span>, <span style=\"color: #008000; text-decoration-color: #008000\">'Steve Cochran'</span>, <span style=\"color: #008000; text-decoration-color: #008000\">'Lloyd Corrigan'</span><span style=\"font-weight: bold\">]</span>,\n",
       "<span style=\"color: #7fbf7f; text-decoration-color: #7fbf7f\">│   │   </span><span style=\"color: #008000; text-decoration-color: #008000\">'num_mflix_comments'</span>: <span style=\"color: #008080; text-decoration-color: #008080; font-weight: bold\">1</span>,\n",
       "<span style=\"color: #7fbf7f; text-decoration-color: #7fbf7f\">│   │   </span><span style=\"color: #008000; text-decoration-color: #008000\">'poster'</span>: <span style=\"color: #008000; text-decoration-color: #008000\">'https://m.media-amazon.com/images/M/MV5BNDI3OTM4NzMtNzQxMC00M2YxLWFmOTctNmUyNDBmMzIwZGI0XkEyXkFqcGdeQXVyMjUxODE0MDY@._V1_SY1000_SX677_AL_.jpg'</span>,\n",
       "<span style=\"color: #7fbf7f; text-decoration-color: #7fbf7f\">│   │   </span><span style=\"color: #008000; text-decoration-color: #008000\">'title'</span>: <span style=\"color: #008000; text-decoration-color: #008000\">'The Chase'</span>,\n",
       "<span style=\"color: #7fbf7f; text-decoration-color: #7fbf7f\">│   │   </span><span style=\"color: #008000; text-decoration-color: #008000\">'fullplot'</span>: <span style=\"color: #008000; text-decoration-color: #008000\">\"Returning a lost wallet gains unemployed veteran Chuck Scott a job as chauffeur to Eddie Roman, a seeming gangster whose enemies have a way of meeting violent ends. The job proves nerve-wracking, and soon Chuck finds himself pledged to help Eddie's lovely, fearful, prisoner-wife Lorna to escape. The result leaves Chuck caught like a rat in a trap, vainly seeking a way out through dark streets. But the real chase begins when the strange plot virtually starts all over again...\"</span>,\n",
       "<span style=\"color: #7fbf7f; text-decoration-color: #7fbf7f\">│   │   </span><span style=\"color: #008000; text-decoration-color: #008000\">'languages'</span>: <span style=\"font-weight: bold\">[</span><span style=\"color: #008000; text-decoration-color: #008000\">'English'</span>, <span style=\"color: #008000; text-decoration-color: #008000\">'Spanish'</span><span style=\"font-weight: bold\">]</span>,\n",
       "<span style=\"color: #7fbf7f; text-decoration-color: #7fbf7f\">│   │   </span><span style=\"color: #008000; text-decoration-color: #008000\">'released'</span>: <span style=\"color: #800080; text-decoration-color: #800080; font-weight: bold\">datetime.datetime</span><span style=\"font-weight: bold\">(</span><span style=\"color: #008080; text-decoration-color: #008080; font-weight: bold\">1946</span>, <span style=\"color: #008080; text-decoration-color: #008080; font-weight: bold\">11</span>, <span style=\"color: #008080; text-decoration-color: #008080; font-weight: bold\">16</span>, <span style=\"color: #008080; text-decoration-color: #008080; font-weight: bold\">0</span>, <span style=\"color: #008080; text-decoration-color: #008080; font-weight: bold\">0</span><span style=\"font-weight: bold\">)</span>,\n",
       "<span style=\"color: #7fbf7f; text-decoration-color: #7fbf7f\">│   │   </span><span style=\"color: #008000; text-decoration-color: #008000\">'directors'</span>: <span style=\"font-weight: bold\">[</span><span style=\"color: #008000; text-decoration-color: #008000\">'Arthur Ripley'</span><span style=\"font-weight: bold\">]</span>,\n",
       "<span style=\"color: #7fbf7f; text-decoration-color: #7fbf7f\">│   │   </span><span style=\"color: #008000; text-decoration-color: #008000\">'writers'</span>: <span style=\"font-weight: bold\">[</span><span style=\"color: #008000; text-decoration-color: #008000\">'Philip Yordan (written for the screen by)'</span>, <span style=\"color: #008000; text-decoration-color: #008000\">'Cornell Woolrich (book)'</span><span style=\"font-weight: bold\">]</span>,\n",
       "<span style=\"color: #7fbf7f; text-decoration-color: #7fbf7f\">│   │   </span><span style=\"color: #008000; text-decoration-color: #008000\">'awards'</span>: <span style=\"font-weight: bold\">{</span><span style=\"color: #008000; text-decoration-color: #008000\">'wins'</span>: <span style=\"color: #008080; text-decoration-color: #008080; font-weight: bold\">0</span>, <span style=\"color: #008000; text-decoration-color: #008000\">'nominations'</span>: <span style=\"color: #008080; text-decoration-color: #008080; font-weight: bold\">1</span>, <span style=\"color: #008000; text-decoration-color: #008000\">'text'</span>: <span style=\"color: #008000; text-decoration-color: #008000\">'1 nomination.'</span><span style=\"font-weight: bold\">}</span>,\n",
       "<span style=\"color: #7fbf7f; text-decoration-color: #7fbf7f\">│   │   </span><span style=\"color: #008000; text-decoration-color: #008000\">'lastupdated'</span>: <span style=\"color: #008000; text-decoration-color: #008000\">'2015-08-01 00:47:13.267000000'</span>,\n",
       "<span style=\"color: #7fbf7f; text-decoration-color: #7fbf7f\">│   │   </span><span style=\"color: #008000; text-decoration-color: #008000\">'year'</span>: <span style=\"color: #008080; text-decoration-color: #008080; font-weight: bold\">1946</span>,\n",
       "<span style=\"color: #7fbf7f; text-decoration-color: #7fbf7f\">│   │   </span><span style=\"color: #008000; text-decoration-color: #008000\">'imdb'</span>: <span style=\"font-weight: bold\">{</span><span style=\"color: #008000; text-decoration-color: #008000\">'rating'</span>: <span style=\"color: #008080; text-decoration-color: #008080; font-weight: bold\">6.7</span>, <span style=\"color: #008000; text-decoration-color: #008000\">'votes'</span>: <span style=\"color: #008080; text-decoration-color: #008080; font-weight: bold\">766</span>, <span style=\"color: #008000; text-decoration-color: #008000\">'id'</span>: <span style=\"color: #008080; text-decoration-color: #008080; font-weight: bold\">38409</span><span style=\"font-weight: bold\">}</span>,\n",
       "<span style=\"color: #7fbf7f; text-decoration-color: #7fbf7f\">│   │   </span><span style=\"color: #008000; text-decoration-color: #008000\">'countries'</span>: <span style=\"font-weight: bold\">[</span><span style=\"color: #008000; text-decoration-color: #008000\">'USA'</span><span style=\"font-weight: bold\">]</span>,\n",
       "<span style=\"color: #7fbf7f; text-decoration-color: #7fbf7f\">│   │   </span><span style=\"color: #008000; text-decoration-color: #008000\">'type'</span>: <span style=\"color: #008000; text-decoration-color: #008000\">'movie'</span>,\n",
       "<span style=\"color: #7fbf7f; text-decoration-color: #7fbf7f\">│   │   </span><span style=\"color: #008000; text-decoration-color: #008000\">'tomatoes'</span>: <span style=\"font-weight: bold\">{</span>\n",
       "<span style=\"color: #7fbf7f; text-decoration-color: #7fbf7f\">│   │   │   </span><span style=\"color: #008000; text-decoration-color: #008000\">'viewer'</span>: <span style=\"font-weight: bold\">{</span><span style=\"color: #008000; text-decoration-color: #008000\">'rating'</span>: <span style=\"color: #008080; text-decoration-color: #008080; font-weight: bold\">3.2</span>, <span style=\"color: #008000; text-decoration-color: #008000\">'numReviews'</span>: <span style=\"color: #008080; text-decoration-color: #008080; font-weight: bold\">92</span>, <span style=\"color: #008000; text-decoration-color: #008000\">'meter'</span>: <span style=\"color: #008080; text-decoration-color: #008080; font-weight: bold\">40</span><span style=\"font-weight: bold\">}</span>,\n",
       "<span style=\"color: #7fbf7f; text-decoration-color: #7fbf7f\">│   │   │   </span><span style=\"color: #008000; text-decoration-color: #008000\">'dvd'</span>: <span style=\"color: #800080; text-decoration-color: #800080; font-weight: bold\">datetime.datetime</span><span style=\"font-weight: bold\">(</span><span style=\"color: #008080; text-decoration-color: #008080; font-weight: bold\">2003</span>, <span style=\"color: #008080; text-decoration-color: #008080; font-weight: bold\">8</span>, <span style=\"color: #008080; text-decoration-color: #008080; font-weight: bold\">5</span>, <span style=\"color: #008080; text-decoration-color: #008080; font-weight: bold\">0</span>, <span style=\"color: #008080; text-decoration-color: #008080; font-weight: bold\">0</span><span style=\"font-weight: bold\">)</span>,\n",
       "<span style=\"color: #7fbf7f; text-decoration-color: #7fbf7f\">│   │   │   </span><span style=\"color: #008000; text-decoration-color: #008000\">'production'</span>: <span style=\"color: #008000; text-decoration-color: #008000\">'VCI'</span>,\n",
       "<span style=\"color: #7fbf7f; text-decoration-color: #7fbf7f\">│   │   │   </span><span style=\"color: #008000; text-decoration-color: #008000\">'lastUpdated'</span>: <span style=\"color: #800080; text-decoration-color: #800080; font-weight: bold\">datetime.datetime</span><span style=\"font-weight: bold\">(</span><span style=\"color: #008080; text-decoration-color: #008080; font-weight: bold\">2015</span>, <span style=\"color: #008080; text-decoration-color: #008080; font-weight: bold\">8</span>, <span style=\"color: #008080; text-decoration-color: #008080; font-weight: bold\">20</span>, <span style=\"color: #008080; text-decoration-color: #008080; font-weight: bold\">18</span>, <span style=\"color: #008080; text-decoration-color: #008080; font-weight: bold\">14</span>, <span style=\"color: #008080; text-decoration-color: #008080; font-weight: bold\">48</span><span style=\"font-weight: bold\">)</span>\n",
       "<span style=\"color: #7fbf7f; text-decoration-color: #7fbf7f\">│   │   </span><span style=\"font-weight: bold\">}</span>\n",
       "<span style=\"color: #7fbf7f; text-decoration-color: #7fbf7f\">│   </span><span style=\"font-weight: bold\">}</span>,\n",
       "<span style=\"color: #7fbf7f; text-decoration-color: #7fbf7f\">│   </span><span style=\"font-weight: bold\">{</span>\n",
       "<span style=\"color: #7fbf7f; text-decoration-color: #7fbf7f\">│   │   </span><span style=\"color: #008000; text-decoration-color: #008000\">'_id'</span>: <span style=\"color: #800080; text-decoration-color: #800080; font-weight: bold\">ObjectId</span><span style=\"font-weight: bold\">(</span><span style=\"color: #008000; text-decoration-color: #008000\">'573a1393f29313caabcde460'</span><span style=\"font-weight: bold\">)</span>,\n",
       "<span style=\"color: #7fbf7f; text-decoration-color: #7fbf7f\">│   │   </span><span style=\"color: #008000; text-decoration-color: #008000\">'plot'</span>: <span style=\"color: #008000; text-decoration-color: #008000\">\"Over-the-hill boxer Bill 'Stoker' Thompson insists he can still win, though his sexy wife Julie pleads with him to quit. But his manager Tiny is so confident he will lose, he takes money ...\"</span>,\n",
       "<span style=\"color: #7fbf7f; text-decoration-color: #7fbf7f\">│   │   </span><span style=\"color: #008000; text-decoration-color: #008000\">'genres'</span>: <span style=\"font-weight: bold\">[</span><span style=\"color: #008000; text-decoration-color: #008000\">'Film-Noir'</span>, <span style=\"color: #008000; text-decoration-color: #008000\">'Sport'</span><span style=\"font-weight: bold\">]</span>,\n",
       "<span style=\"color: #7fbf7f; text-decoration-color: #7fbf7f\">│   │   </span><span style=\"color: #008000; text-decoration-color: #008000\">'runtime'</span>: <span style=\"color: #008080; text-decoration-color: #008080; font-weight: bold\">73</span>,\n",
       "<span style=\"color: #7fbf7f; text-decoration-color: #7fbf7f\">│   │   </span><span style=\"color: #008000; text-decoration-color: #008000\">'rated'</span>: <span style=\"color: #008000; text-decoration-color: #008000\">'APPROVED'</span>,\n",
       "<span style=\"color: #7fbf7f; text-decoration-color: #7fbf7f\">│   │   </span><span style=\"color: #008000; text-decoration-color: #008000\">'cast'</span>: <span style=\"font-weight: bold\">[</span><span style=\"color: #008000; text-decoration-color: #008000\">'Robert Ryan'</span>, <span style=\"color: #008000; text-decoration-color: #008000\">'Audrey Totter'</span>, <span style=\"color: #008000; text-decoration-color: #008000\">'George Tobias'</span>, <span style=\"color: #008000; text-decoration-color: #008000\">'Alan Baxter'</span><span style=\"font-weight: bold\">]</span>,\n",
       "<span style=\"color: #7fbf7f; text-decoration-color: #7fbf7f\">│   │   </span><span style=\"color: #008000; text-decoration-color: #008000\">'num_mflix_comments'</span>: <span style=\"color: #008080; text-decoration-color: #008080; font-weight: bold\">1</span>,\n",
       "<span style=\"color: #7fbf7f; text-decoration-color: #7fbf7f\">│   │   </span><span style=\"color: #008000; text-decoration-color: #008000\">'poster'</span>: <span style=\"color: #008000; text-decoration-color: #008000\">'https://m.media-amazon.com/images/M/MV5BMjEwNjU3NzE1Nl5BMl5BanBnXkFtZTgwMjQ0MDgyMTE@._V1_SY1000_SX677_AL_.jpg'</span>,\n",
       "<span style=\"color: #7fbf7f; text-decoration-color: #7fbf7f\">│   │   </span><span style=\"color: #008000; text-decoration-color: #008000\">'title'</span>: <span style=\"color: #008000; text-decoration-color: #008000\">'The Set-Up'</span>,\n",
       "<span style=\"color: #7fbf7f; text-decoration-color: #7fbf7f\">│   │   </span><span style=\"color: #008000; text-decoration-color: #008000\">'fullplot'</span>: <span style=\"color: #008000; text-decoration-color: #008000\">'Over-the-hill boxer Bill \\'Stoker\\' Thompson insists he can still win, though his sexy wife Julie pleads with him to quit. But his manager Tiny is so confident he will lose, he takes money for a \"dive\" from tough gambler Little Boy...without bothering to tell Stoker. Tension builds as Stoker hopes to \"take\" Tiger Nelson, unaware of what will happen to him if he does.'</span>,\n",
       "<span style=\"color: #7fbf7f; text-decoration-color: #7fbf7f\">│   │   </span><span style=\"color: #008000; text-decoration-color: #008000\">'languages'</span>: <span style=\"font-weight: bold\">[</span><span style=\"color: #008000; text-decoration-color: #008000\">'English'</span><span style=\"font-weight: bold\">]</span>,\n",
       "<span style=\"color: #7fbf7f; text-decoration-color: #7fbf7f\">│   │   </span><span style=\"color: #008000; text-decoration-color: #008000\">'released'</span>: <span style=\"color: #800080; text-decoration-color: #800080; font-weight: bold\">datetime.datetime</span><span style=\"font-weight: bold\">(</span><span style=\"color: #008080; text-decoration-color: #008080; font-weight: bold\">1949</span>, <span style=\"color: #008080; text-decoration-color: #008080; font-weight: bold\">4</span>, <span style=\"color: #008080; text-decoration-color: #008080; font-weight: bold\">2</span>, <span style=\"color: #008080; text-decoration-color: #008080; font-weight: bold\">0</span>, <span style=\"color: #008080; text-decoration-color: #008080; font-weight: bold\">0</span><span style=\"font-weight: bold\">)</span>,\n",
       "<span style=\"color: #7fbf7f; text-decoration-color: #7fbf7f\">│   │   </span><span style=\"color: #008000; text-decoration-color: #008000\">'directors'</span>: <span style=\"font-weight: bold\">[</span><span style=\"color: #008000; text-decoration-color: #008000\">'Robert Wise'</span><span style=\"font-weight: bold\">]</span>,\n",
       "<span style=\"color: #7fbf7f; text-decoration-color: #7fbf7f\">│   │   </span><span style=\"color: #008000; text-decoration-color: #008000\">'writers'</span>: <span style=\"font-weight: bold\">[</span><span style=\"color: #008000; text-decoration-color: #008000\">'Art Cohn (screenplay)'</span>, <span style=\"color: #008000; text-decoration-color: #008000\">'Joseph Moncure March (from the poem by)'</span><span style=\"font-weight: bold\">]</span>,\n",
       "<span style=\"color: #7fbf7f; text-decoration-color: #7fbf7f\">│   │   </span><span style=\"color: #008000; text-decoration-color: #008000\">'awards'</span>: <span style=\"font-weight: bold\">{</span>\n",
       "<span style=\"color: #7fbf7f; text-decoration-color: #7fbf7f\">│   │   │   </span><span style=\"color: #008000; text-decoration-color: #008000\">'wins'</span>: <span style=\"color: #008080; text-decoration-color: #008080; font-weight: bold\">3</span>,\n",
       "<span style=\"color: #7fbf7f; text-decoration-color: #7fbf7f\">│   │   │   </span><span style=\"color: #008000; text-decoration-color: #008000\">'nominations'</span>: <span style=\"color: #008080; text-decoration-color: #008080; font-weight: bold\">1</span>,\n",
       "<span style=\"color: #7fbf7f; text-decoration-color: #7fbf7f\">│   │   │   </span><span style=\"color: #008000; text-decoration-color: #008000\">'text'</span>: <span style=\"color: #008000; text-decoration-color: #008000\">'Nominated for 1 BAFTA Film Award. Another 2 wins &amp; 1 nomination.'</span>\n",
       "<span style=\"color: #7fbf7f; text-decoration-color: #7fbf7f\">│   │   </span><span style=\"font-weight: bold\">}</span>,\n",
       "<span style=\"color: #7fbf7f; text-decoration-color: #7fbf7f\">│   │   </span><span style=\"color: #008000; text-decoration-color: #008000\">'lastupdated'</span>: <span style=\"color: #008000; text-decoration-color: #008000\">'2015-08-26 00:13:18.837000000'</span>,\n",
       "<span style=\"color: #7fbf7f; text-decoration-color: #7fbf7f\">│   │   </span><span style=\"color: #008000; text-decoration-color: #008000\">'year'</span>: <span style=\"color: #008080; text-decoration-color: #008080; font-weight: bold\">1949</span>,\n",
       "<span style=\"color: #7fbf7f; text-decoration-color: #7fbf7f\">│   │   </span><span style=\"color: #008000; text-decoration-color: #008000\">'imdb'</span>: <span style=\"font-weight: bold\">{</span><span style=\"color: #008000; text-decoration-color: #008000\">'rating'</span>: <span style=\"color: #008080; text-decoration-color: #008080; font-weight: bold\">7.8</span>, <span style=\"color: #008000; text-decoration-color: #008000\">'votes'</span>: <span style=\"color: #008080; text-decoration-color: #008080; font-weight: bold\">5309</span>, <span style=\"color: #008000; text-decoration-color: #008000\">'id'</span>: <span style=\"color: #008080; text-decoration-color: #008080; font-weight: bold\">41859</span><span style=\"font-weight: bold\">}</span>,\n",
       "<span style=\"color: #7fbf7f; text-decoration-color: #7fbf7f\">│   │   </span><span style=\"color: #008000; text-decoration-color: #008000\">'countries'</span>: <span style=\"font-weight: bold\">[</span><span style=\"color: #008000; text-decoration-color: #008000\">'USA'</span><span style=\"font-weight: bold\">]</span>,\n",
       "<span style=\"color: #7fbf7f; text-decoration-color: #7fbf7f\">│   │   </span><span style=\"color: #008000; text-decoration-color: #008000\">'type'</span>: <span style=\"color: #008000; text-decoration-color: #008000\">'movie'</span>,\n",
       "<span style=\"color: #7fbf7f; text-decoration-color: #7fbf7f\">│   │   </span><span style=\"color: #008000; text-decoration-color: #008000\">'tomatoes'</span>: <span style=\"font-weight: bold\">{</span>\n",
       "<span style=\"color: #7fbf7f; text-decoration-color: #7fbf7f\">│   │   │   </span><span style=\"color: #008000; text-decoration-color: #008000\">'viewer'</span>: <span style=\"font-weight: bold\">{</span><span style=\"color: #008000; text-decoration-color: #008000\">'rating'</span>: <span style=\"color: #008080; text-decoration-color: #008080; font-weight: bold\">4</span>, <span style=\"color: #008000; text-decoration-color: #008000\">'numReviews'</span>: <span style=\"color: #008080; text-decoration-color: #008080; font-weight: bold\">1692</span>, <span style=\"color: #008000; text-decoration-color: #008000\">'meter'</span>: <span style=\"color: #008080; text-decoration-color: #008080; font-weight: bold\">88</span><span style=\"font-weight: bold\">}</span>,\n",
       "<span style=\"color: #7fbf7f; text-decoration-color: #7fbf7f\">│   │   │   </span><span style=\"color: #008000; text-decoration-color: #008000\">'dvd'</span>: <span style=\"color: #800080; text-decoration-color: #800080; font-weight: bold\">datetime.datetime</span><span style=\"font-weight: bold\">(</span><span style=\"color: #008080; text-decoration-color: #008080; font-weight: bold\">2004</span>, <span style=\"color: #008080; text-decoration-color: #008080; font-weight: bold\">7</span>, <span style=\"color: #008080; text-decoration-color: #008080; font-weight: bold\">6</span>, <span style=\"color: #008080; text-decoration-color: #008080; font-weight: bold\">0</span>, <span style=\"color: #008080; text-decoration-color: #008080; font-weight: bold\">0</span><span style=\"font-weight: bold\">)</span>,\n",
       "<span style=\"color: #7fbf7f; text-decoration-color: #7fbf7f\">│   │   │   </span><span style=\"color: #008000; text-decoration-color: #008000\">'critic'</span>: <span style=\"font-weight: bold\">{</span><span style=\"color: #008000; text-decoration-color: #008000\">'rating'</span>: <span style=\"color: #008080; text-decoration-color: #008080; font-weight: bold\">5.9</span>, <span style=\"color: #008000; text-decoration-color: #008000\">'numReviews'</span>: <span style=\"color: #008080; text-decoration-color: #008080; font-weight: bold\">7</span>, <span style=\"color: #008000; text-decoration-color: #008000\">'meter'</span>: <span style=\"color: #008080; text-decoration-color: #008080; font-weight: bold\">86</span><span style=\"font-weight: bold\">}</span>,\n",
       "<span style=\"color: #7fbf7f; text-decoration-color: #7fbf7f\">│   │   │   </span><span style=\"color: #008000; text-decoration-color: #008000\">'lastUpdated'</span>: <span style=\"color: #800080; text-decoration-color: #800080; font-weight: bold\">datetime.datetime</span><span style=\"font-weight: bold\">(</span><span style=\"color: #008080; text-decoration-color: #008080; font-weight: bold\">2015</span>, <span style=\"color: #008080; text-decoration-color: #008080; font-weight: bold\">7</span>, <span style=\"color: #008080; text-decoration-color: #008080; font-weight: bold\">26</span>, <span style=\"color: #008080; text-decoration-color: #008080; font-weight: bold\">18</span>, <span style=\"color: #008080; text-decoration-color: #008080; font-weight: bold\">33</span>, <span style=\"color: #008080; text-decoration-color: #008080; font-weight: bold\">52</span><span style=\"font-weight: bold\">)</span>,\n",
       "<span style=\"color: #7fbf7f; text-decoration-color: #7fbf7f\">│   │   │   </span><span style=\"color: #008000; text-decoration-color: #008000\">'rotten'</span>: <span style=\"color: #008080; text-decoration-color: #008080; font-weight: bold\">1</span>,\n",
       "<span style=\"color: #7fbf7f; text-decoration-color: #7fbf7f\">│   │   │   </span><span style=\"color: #008000; text-decoration-color: #008000\">'fresh'</span>: <span style=\"color: #008080; text-decoration-color: #008080; font-weight: bold\">6</span>\n",
       "<span style=\"color: #7fbf7f; text-decoration-color: #7fbf7f\">│   │   </span><span style=\"font-weight: bold\">}</span>\n",
       "<span style=\"color: #7fbf7f; text-decoration-color: #7fbf7f\">│   </span><span style=\"font-weight: bold\">}</span>,\n",
       "<span style=\"color: #7fbf7f; text-decoration-color: #7fbf7f\">│   </span><span style=\"font-weight: bold\">{</span>\n",
       "<span style=\"color: #7fbf7f; text-decoration-color: #7fbf7f\">│   │   </span><span style=\"color: #008000; text-decoration-color: #008000\">'_id'</span>: <span style=\"color: #800080; text-decoration-color: #800080; font-weight: bold\">ObjectId</span><span style=\"font-weight: bold\">(</span><span style=\"color: #008000; text-decoration-color: #008000\">'573a1393f29313caabcde4cb'</span><span style=\"font-weight: bold\">)</span>,\n",
       "<span style=\"color: #7fbf7f; text-decoration-color: #7fbf7f\">│   │   </span><span style=\"color: #008000; text-decoration-color: #008000\">'plot'</span>: <span style=\"color: #008000; text-decoration-color: #008000\">'Pulp novelist Holly Martins travels to shadowy, postwar Vienna, only to find himself investigating the mysterious death of an old friend, Harry Lime.'</span>,\n",
       "<span style=\"color: #7fbf7f; text-decoration-color: #7fbf7f\">│   │   </span><span style=\"color: #008000; text-decoration-color: #008000\">'genres'</span>: <span style=\"font-weight: bold\">[</span><span style=\"color: #008000; text-decoration-color: #008000\">'Film-Noir'</span>, <span style=\"color: #008000; text-decoration-color: #008000\">'Mystery'</span>, <span style=\"color: #008000; text-decoration-color: #008000\">'Thriller'</span><span style=\"font-weight: bold\">]</span>,\n",
       "<span style=\"color: #7fbf7f; text-decoration-color: #7fbf7f\">│   │   </span><span style=\"color: #008000; text-decoration-color: #008000\">'runtime'</span>: <span style=\"color: #008080; text-decoration-color: #008080; font-weight: bold\">93</span>,\n",
       "<span style=\"color: #7fbf7f; text-decoration-color: #7fbf7f\">│   │   </span><span style=\"color: #008000; text-decoration-color: #008000\">'rated'</span>: <span style=\"color: #008000; text-decoration-color: #008000\">'NOT RATED'</span>,\n",
       "<span style=\"color: #7fbf7f; text-decoration-color: #7fbf7f\">│   │   </span><span style=\"color: #008000; text-decoration-color: #008000\">'cast'</span>: <span style=\"font-weight: bold\">[</span><span style=\"color: #008000; text-decoration-color: #008000\">'Joseph Cotten'</span>, <span style=\"color: #008000; text-decoration-color: #008000\">'Alida Valli'</span>, <span style=\"color: #008000; text-decoration-color: #008000\">'Orson Welles'</span>, <span style=\"color: #008000; text-decoration-color: #008000\">'Trevor Howard'</span><span style=\"font-weight: bold\">]</span>,\n",
       "<span style=\"color: #7fbf7f; text-decoration-color: #7fbf7f\">│   │   </span><span style=\"color: #008000; text-decoration-color: #008000\">'poster'</span>: <span style=\"color: #008000; text-decoration-color: #008000\">'https://m.media-amazon.com/images/M/MV5BYjE2OTdhMWUtOGJlMy00ZDViLWIzZjgtYjZkZGZmMDZjYmEyXkEyXkFqcGdeQXVyNzkwMjQ5NzM@._V1_SY1000_SX677_AL_.jpg'</span>,\n",
       "<span style=\"color: #7fbf7f; text-decoration-color: #7fbf7f\">│   │   </span><span style=\"color: #008000; text-decoration-color: #008000\">'title'</span>: <span style=\"color: #008000; text-decoration-color: #008000\">'The Third Man'</span>,\n",
       "<span style=\"color: #7fbf7f; text-decoration-color: #7fbf7f\">│   │   </span><span style=\"color: #008000; text-decoration-color: #008000\">'fullplot'</span>: <span style=\"color: #008000; text-decoration-color: #008000\">\"An out of work pulp fiction novelist, Holly Martins, arrives in a post war Vienna divided into sectors by the victorious allies, and where a shortage of supplies has lead to a flourishing black market. He arrives at the invitation of an ex-school friend, Harry Lime, who has offered him a job, only to discover that Lime has recently died in a peculiar traffic accident. From talking to Lime's friends and associates Martins soon notices that some of the stories are inconsistent, and determines to discover what really happened to Harry Lime.\"</span>,\n",
       "<span style=\"color: #7fbf7f; text-decoration-color: #7fbf7f\">│   │   </span><span style=\"color: #008000; text-decoration-color: #008000\">'languages'</span>: <span style=\"font-weight: bold\">[</span><span style=\"color: #008000; text-decoration-color: #008000\">'English'</span>, <span style=\"color: #008000; text-decoration-color: #008000\">'German'</span>, <span style=\"color: #008000; text-decoration-color: #008000\">'Russian'</span><span style=\"font-weight: bold\">]</span>,\n",
       "<span style=\"color: #7fbf7f; text-decoration-color: #7fbf7f\">│   │   </span><span style=\"color: #008000; text-decoration-color: #008000\">'released'</span>: <span style=\"color: #800080; text-decoration-color: #800080; font-weight: bold\">datetime.datetime</span><span style=\"font-weight: bold\">(</span><span style=\"color: #008080; text-decoration-color: #008080; font-weight: bold\">1949</span>, <span style=\"color: #008080; text-decoration-color: #008080; font-weight: bold\">8</span>, <span style=\"color: #008080; text-decoration-color: #008080; font-weight: bold\">31</span>, <span style=\"color: #008080; text-decoration-color: #008080; font-weight: bold\">0</span>, <span style=\"color: #008080; text-decoration-color: #008080; font-weight: bold\">0</span><span style=\"font-weight: bold\">)</span>,\n",
       "<span style=\"color: #7fbf7f; text-decoration-color: #7fbf7f\">│   │   </span><span style=\"color: #008000; text-decoration-color: #008000\">'directors'</span>: <span style=\"font-weight: bold\">[</span><span style=\"color: #008000; text-decoration-color: #008000\">'Carol Reed'</span><span style=\"font-weight: bold\">]</span>,\n",
       "<span style=\"color: #7fbf7f; text-decoration-color: #7fbf7f\">│   │   </span><span style=\"color: #008000; text-decoration-color: #008000\">'writers'</span>: <span style=\"font-weight: bold\">[</span><span style=\"color: #008000; text-decoration-color: #008000\">'Graham Greene (by)'</span>, <span style=\"color: #008000; text-decoration-color: #008000\">'Graham Greene (screen play)'</span><span style=\"font-weight: bold\">]</span>,\n",
       "<span style=\"color: #7fbf7f; text-decoration-color: #7fbf7f\">│   │   </span><span style=\"color: #008000; text-decoration-color: #008000\">'awards'</span>: <span style=\"font-weight: bold\">{</span><span style=\"color: #008000; text-decoration-color: #008000\">'wins'</span>: <span style=\"color: #008080; text-decoration-color: #008080; font-weight: bold\">5</span>, <span style=\"color: #008000; text-decoration-color: #008000\">'nominations'</span>: <span style=\"color: #008080; text-decoration-color: #008080; font-weight: bold\">4</span>, <span style=\"color: #008000; text-decoration-color: #008000\">'text'</span>: <span style=\"color: #008000; text-decoration-color: #008000\">'Won 1 Oscar. Another 4 wins &amp; 4 nominations.'</span><span style=\"font-weight: bold\">}</span>,\n",
       "<span style=\"color: #7fbf7f; text-decoration-color: #7fbf7f\">│   │   </span><span style=\"color: #008000; text-decoration-color: #008000\">'lastupdated'</span>: <span style=\"color: #008000; text-decoration-color: #008000\">'2015-09-05 00:01:22.347000000'</span>,\n",
       "<span style=\"color: #7fbf7f; text-decoration-color: #7fbf7f\">│   │   </span><span style=\"color: #008000; text-decoration-color: #008000\">'year'</span>: <span style=\"color: #008080; text-decoration-color: #008080; font-weight: bold\">1949</span>,\n",
       "<span style=\"color: #7fbf7f; text-decoration-color: #7fbf7f\">│   │   </span><span style=\"color: #008000; text-decoration-color: #008000\">'imdb'</span>: <span style=\"font-weight: bold\">{</span><span style=\"color: #008000; text-decoration-color: #008000\">'rating'</span>: <span style=\"color: #008080; text-decoration-color: #008080; font-weight: bold\">8.3</span>, <span style=\"color: #008000; text-decoration-color: #008000\">'votes'</span>: <span style=\"color: #008080; text-decoration-color: #008080; font-weight: bold\">102915</span>, <span style=\"color: #008000; text-decoration-color: #008000\">'id'</span>: <span style=\"color: #008080; text-decoration-color: #008080; font-weight: bold\">41959</span><span style=\"font-weight: bold\">}</span>,\n",
       "<span style=\"color: #7fbf7f; text-decoration-color: #7fbf7f\">│   │   </span><span style=\"color: #008000; text-decoration-color: #008000\">'countries'</span>: <span style=\"font-weight: bold\">[</span><span style=\"color: #008000; text-decoration-color: #008000\">'UK'</span><span style=\"font-weight: bold\">]</span>,\n",
       "<span style=\"color: #7fbf7f; text-decoration-color: #7fbf7f\">│   │   </span><span style=\"color: #008000; text-decoration-color: #008000\">'type'</span>: <span style=\"color: #008000; text-decoration-color: #008000\">'movie'</span>,\n",
       "<span style=\"color: #7fbf7f; text-decoration-color: #7fbf7f\">│   │   </span><span style=\"color: #008000; text-decoration-color: #008000\">'tomatoes'</span>: <span style=\"font-weight: bold\">{</span>\n",
       "<span style=\"color: #7fbf7f; text-decoration-color: #7fbf7f\">│   │   │   </span><span style=\"color: #008000; text-decoration-color: #008000\">'website'</span>: <span style=\"color: #008000; text-decoration-color: #008000\">'http://www.rialtopictures.com/thirdman'</span>,\n",
       "<span style=\"color: #7fbf7f; text-decoration-color: #7fbf7f\">│   │   │   </span><span style=\"color: #008000; text-decoration-color: #008000\">'viewer'</span>: <span style=\"font-weight: bold\">{</span><span style=\"color: #008000; text-decoration-color: #008000\">'rating'</span>: <span style=\"color: #008080; text-decoration-color: #008080; font-weight: bold\">4.3</span>, <span style=\"color: #008000; text-decoration-color: #008000\">'numReviews'</span>: <span style=\"color: #008080; text-decoration-color: #008080; font-weight: bold\">51770</span>, <span style=\"color: #008000; text-decoration-color: #008000\">'meter'</span>: <span style=\"color: #008080; text-decoration-color: #008080; font-weight: bold\">94</span><span style=\"font-weight: bold\">}</span>,\n",
       "<span style=\"color: #7fbf7f; text-decoration-color: #7fbf7f\">│   │   │   </span><span style=\"color: #008000; text-decoration-color: #008000\">'dvd'</span>: <span style=\"color: #800080; text-decoration-color: #800080; font-weight: bold\">datetime.datetime</span><span style=\"font-weight: bold\">(</span><span style=\"color: #008080; text-decoration-color: #008080; font-weight: bold\">1999</span>, <span style=\"color: #008080; text-decoration-color: #008080; font-weight: bold\">11</span>, <span style=\"color: #008080; text-decoration-color: #008080; font-weight: bold\">30</span>, <span style=\"color: #008080; text-decoration-color: #008080; font-weight: bold\">0</span>, <span style=\"color: #008080; text-decoration-color: #008080; font-weight: bold\">0</span><span style=\"font-weight: bold\">)</span>,\n",
       "<span style=\"color: #7fbf7f; text-decoration-color: #7fbf7f\">│   │   │   </span><span style=\"color: #008000; text-decoration-color: #008000\">'critic'</span>: <span style=\"font-weight: bold\">{</span><span style=\"color: #008000; text-decoration-color: #008000\">'rating'</span>: <span style=\"color: #008080; text-decoration-color: #008080; font-weight: bold\">9.3</span>, <span style=\"color: #008000; text-decoration-color: #008000\">'numReviews'</span>: <span style=\"color: #008080; text-decoration-color: #008080; font-weight: bold\">76</span>, <span style=\"color: #008000; text-decoration-color: #008000\">'meter'</span>: <span style=\"color: #008080; text-decoration-color: #008080; font-weight: bold\">100</span><span style=\"font-weight: bold\">}</span>,\n",
       "<span style=\"color: #7fbf7f; text-decoration-color: #7fbf7f\">│   │   │   </span><span style=\"color: #008000; text-decoration-color: #008000\">'boxOffice'</span>: <span style=\"color: #008000; text-decoration-color: #008000\">'$0.4M'</span>,\n",
       "<span style=\"color: #7fbf7f; text-decoration-color: #7fbf7f\">│   │   │   </span><span style=\"color: #008000; text-decoration-color: #008000\">'consensus'</span>: <span style=\"color: #008000; text-decoration-color: #008000\">'This atmospheric thriller is one of the undisputed masterpieces of cinema, and boasts iconic performances from Joseph Cotten and Orson Welles.'</span>,\n",
       "<span style=\"color: #7fbf7f; text-decoration-color: #7fbf7f\">│   │   │   </span><span style=\"color: #008000; text-decoration-color: #008000\">'rotten'</span>: <span style=\"color: #008080; text-decoration-color: #008080; font-weight: bold\">0</span>,\n",
       "<span style=\"color: #7fbf7f; text-decoration-color: #7fbf7f\">│   │   │   </span><span style=\"color: #008000; text-decoration-color: #008000\">'production'</span>: <span style=\"color: #008000; text-decoration-color: #008000\">'Rialto Pictures'</span>,\n",
       "<span style=\"color: #7fbf7f; text-decoration-color: #7fbf7f\">│   │   │   </span><span style=\"color: #008000; text-decoration-color: #008000\">'lastUpdated'</span>: <span style=\"color: #800080; text-decoration-color: #800080; font-weight: bold\">datetime.datetime</span><span style=\"font-weight: bold\">(</span><span style=\"color: #008080; text-decoration-color: #008080; font-weight: bold\">2015</span>, <span style=\"color: #008080; text-decoration-color: #008080; font-weight: bold\">9</span>, <span style=\"color: #008080; text-decoration-color: #008080; font-weight: bold\">17</span>, <span style=\"color: #008080; text-decoration-color: #008080; font-weight: bold\">17</span>, <span style=\"color: #008080; text-decoration-color: #008080; font-weight: bold\">25</span>, <span style=\"color: #008080; text-decoration-color: #008080; font-weight: bold\">35</span><span style=\"font-weight: bold\">)</span>,\n",
       "<span style=\"color: #7fbf7f; text-decoration-color: #7fbf7f\">│   │   │   </span><span style=\"color: #008000; text-decoration-color: #008000\">'fresh'</span>: <span style=\"color: #008080; text-decoration-color: #008080; font-weight: bold\">76</span>\n",
       "<span style=\"color: #7fbf7f; text-decoration-color: #7fbf7f\">│   │   </span><span style=\"font-weight: bold\">}</span>\n",
       "<span style=\"color: #7fbf7f; text-decoration-color: #7fbf7f\">│   </span><span style=\"font-weight: bold\">}</span>\n",
       "<span style=\"font-weight: bold\">]</span>\n",
       "</pre>\n"
      ],
      "text/plain": [
       "\u001B[1m[\u001B[0m\n",
       "\u001B[2;32m│   \u001B[0m\u001B[1m{\u001B[0m\n",
       "\u001B[2;32m│   │   \u001B[0m\u001B[32m'_id'\u001B[0m: \u001B[1;35mObjectId\u001B[0m\u001B[1m(\u001B[0m\u001B[32m'573a1393f29313caabcdc814'\u001B[0m\u001B[1m)\u001B[0m,\n",
       "\u001B[2;32m│   │   \u001B[0m\u001B[32m'plot'\u001B[0m: \u001B[32m\"An American man marries a Serbian immigrant who fears that she will turn into the cat person of her homeland's fables if they are intimate together.\"\u001B[0m,\n",
       "\u001B[2;32m│   │   \u001B[0m\u001B[32m'genres'\u001B[0m: \u001B[1m[\u001B[0m\u001B[32m'Horror'\u001B[0m, \u001B[32m'Thriller'\u001B[0m\u001B[1m]\u001B[0m,\n",
       "\u001B[2;32m│   │   \u001B[0m\u001B[32m'runtime'\u001B[0m: \u001B[1;36m73\u001B[0m,\n",
       "\u001B[2;32m│   │   \u001B[0m\u001B[32m'rated'\u001B[0m: \u001B[32m'APPROVED'\u001B[0m,\n",
       "\u001B[2;32m│   │   \u001B[0m\u001B[32m'cast'\u001B[0m: \u001B[1m[\u001B[0m\u001B[32m'Simone Simon'\u001B[0m, \u001B[32m'Kent Smith'\u001B[0m, \u001B[32m'Tom Conway'\u001B[0m, \u001B[32m'Jane Randolph'\u001B[0m\u001B[1m]\u001B[0m,\n",
       "\u001B[2;32m│   │   \u001B[0m\u001B[32m'poster'\u001B[0m: \u001B[32m'https://m.media-amazon.com/images/M/MV5BNzI4YWY0NWQtNWI5YS00MGE4LWE4YTgtMzBmOWIwMzdiYTRiL2ltYWdlL2ltYWdlXkEyXkFqcGdeQXVyNjc1NTYyMjg@._V1_SY1000_SX677_AL_.jpg'\u001B[0m,\n",
       "\u001B[2;32m│   │   \u001B[0m\u001B[32m'title'\u001B[0m: \u001B[32m'Cat People'\u001B[0m,\n",
       "\u001B[2;32m│   │   \u001B[0m\u001B[32m'fullplot'\u001B[0m: \u001B[32m'Irena Dubrovna, a beautiful and mysterious Serbian-born fashion artist living in New York City, falls in love with and marries average-Joe American Oliver Reed. Their marriage suffers though, as Irena believes that she suffers from an ancient curse- whenever emotionally aroused, she will turn into a panther and kill. Oliver thinks that is absurd and childish, so he sends her to psychiatrist Dr. Judd to cure her. Easier said than done...'\u001B[0m,\n",
       "\u001B[2;32m│   │   \u001B[0m\u001B[32m'languages'\u001B[0m: \u001B[1m[\u001B[0m\u001B[32m'English'\u001B[0m, \u001B[32m'Czech'\u001B[0m, \u001B[32m'Serbian'\u001B[0m\u001B[1m]\u001B[0m,\n",
       "\u001B[2;32m│   │   \u001B[0m\u001B[32m'released'\u001B[0m: \u001B[1;35mdatetime.datetime\u001B[0m\u001B[1m(\u001B[0m\u001B[1;36m1942\u001B[0m, \u001B[1;36m12\u001B[0m, \u001B[1;36m25\u001B[0m, \u001B[1;36m0\u001B[0m, \u001B[1;36m0\u001B[0m\u001B[1m)\u001B[0m,\n",
       "\u001B[2;32m│   │   \u001B[0m\u001B[32m'directors'\u001B[0m: \u001B[1m[\u001B[0m\u001B[32m'Jacques Tourneur'\u001B[0m\u001B[1m]\u001B[0m,\n",
       "\u001B[2;32m│   │   \u001B[0m\u001B[32m'writers'\u001B[0m: \u001B[1m[\u001B[0m\u001B[32m'DeWitt Bodeen'\u001B[0m\u001B[1m]\u001B[0m,\n",
       "\u001B[2;32m│   │   \u001B[0m\u001B[32m'awards'\u001B[0m: \u001B[1m{\u001B[0m\u001B[32m'wins'\u001B[0m: \u001B[1;36m1\u001B[0m, \u001B[32m'nominations'\u001B[0m: \u001B[1;36m2\u001B[0m, \u001B[32m'text'\u001B[0m: \u001B[32m'1 win & 2 nominations.'\u001B[0m\u001B[1m}\u001B[0m,\n",
       "\u001B[2;32m│   │   \u001B[0m\u001B[32m'lastupdated'\u001B[0m: \u001B[32m'2015-08-21 00:53:54.453000000'\u001B[0m,\n",
       "\u001B[2;32m│   │   \u001B[0m\u001B[32m'year'\u001B[0m: \u001B[1;36m1942\u001B[0m,\n",
       "\u001B[2;32m│   │   \u001B[0m\u001B[32m'imdb'\u001B[0m: \u001B[1m{\u001B[0m\u001B[32m'rating'\u001B[0m: \u001B[1;36m7.4\u001B[0m, \u001B[32m'votes'\u001B[0m: \u001B[1;36m11589\u001B[0m, \u001B[32m'id'\u001B[0m: \u001B[1;36m34587\u001B[0m\u001B[1m}\u001B[0m,\n",
       "\u001B[2;32m│   │   \u001B[0m\u001B[32m'countries'\u001B[0m: \u001B[1m[\u001B[0m\u001B[32m'USA'\u001B[0m\u001B[1m]\u001B[0m,\n",
       "\u001B[2;32m│   │   \u001B[0m\u001B[32m'type'\u001B[0m: \u001B[32m'movie'\u001B[0m,\n",
       "\u001B[2;32m│   │   \u001B[0m\u001B[32m'tomatoes'\u001B[0m: \u001B[1m{\u001B[0m\n",
       "\u001B[2;32m│   │   │   \u001B[0m\u001B[32m'viewer'\u001B[0m: \u001B[1m{\u001B[0m\u001B[32m'rating'\u001B[0m: \u001B[1;36m3.6\u001B[0m, \u001B[32m'numReviews'\u001B[0m: \u001B[1;36m7115\u001B[0m\u001B[1m}\u001B[0m,\n",
       "\u001B[2;32m│   │   │   \u001B[0m\u001B[32m'critic'\u001B[0m: \u001B[1m{\u001B[0m\u001B[32m'rating'\u001B[0m: \u001B[1;36m8.3\u001B[0m, \u001B[32m'numReviews'\u001B[0m: \u001B[1;36m40\u001B[0m, \u001B[32m'meter'\u001B[0m: \u001B[1;36m93\u001B[0m\u001B[1m}\u001B[0m,\n",
       "\u001B[2;32m│   │   │   \u001B[0m\u001B[32m'lastUpdated'\u001B[0m: \u001B[1;35mdatetime.datetime\u001B[0m\u001B[1m(\u001B[0m\u001B[1;36m2015\u001B[0m, \u001B[1;36m9\u001B[0m, \u001B[1;36m15\u001B[0m, \u001B[1;36m17\u001B[0m, \u001B[1;36m3\u001B[0m, \u001B[1;36m25\u001B[0m\u001B[1m)\u001B[0m,\n",
       "\u001B[2;32m│   │   │   \u001B[0m\u001B[32m'consensus'\u001B[0m: \u001B[32m'Influential noir director Jacques Tourneau infused this sexy, moody horror film with some sly commentary about the psychology and the taboos of desire.'\u001B[0m,\n",
       "\u001B[2;32m│   │   │   \u001B[0m\u001B[32m'rotten'\u001B[0m: \u001B[1;36m3\u001B[0m,\n",
       "\u001B[2;32m│   │   │   \u001B[0m\u001B[32m'production'\u001B[0m: \u001B[32m'RKO Pictures'\u001B[0m,\n",
       "\u001B[2;32m│   │   │   \u001B[0m\u001B[32m'fresh'\u001B[0m: \u001B[1;36m37\u001B[0m\n",
       "\u001B[2;32m│   │   \u001B[0m\u001B[1m}\u001B[0m\n",
       "\u001B[2;32m│   \u001B[0m\u001B[1m}\u001B[0m,\n",
       "\u001B[2;32m│   \u001B[0m\u001B[1m{\u001B[0m\n",
       "\u001B[2;32m│   │   \u001B[0m\u001B[32m'_id'\u001B[0m: \u001B[1;35mObjectId\u001B[0m\u001B[1m(\u001B[0m\u001B[32m'573a1393f29313caabcdcd9d'\u001B[0m\u001B[1m)\u001B[0m,\n",
       "\u001B[2;32m│   │   \u001B[0m\u001B[32m'plot'\u001B[0m: \u001B[32m'A young Canadian nurse \u001B[0m\u001B[32m(\u001B[0m\u001B[32mBetsy\u001B[0m\u001B[32m)\u001B[0m\u001B[32m comes to the West Indies to care for Jessica, the wife of a plantation manager \u001B[0m\u001B[32m(\u001B[0m\u001B[32mPaul Holland\u001B[0m\u001B[32m)\u001B[0m\u001B[32m. Jessica seems to be suffering from a kind of mental paralysis ...'\u001B[0m,\n",
       "\u001B[2;32m│   │   \u001B[0m\u001B[32m'genres'\u001B[0m: \u001B[1m[\u001B[0m\u001B[32m'Horror'\u001B[0m\u001B[1m]\u001B[0m,\n",
       "\u001B[2;32m│   │   \u001B[0m\u001B[32m'runtime'\u001B[0m: \u001B[1;36m69\u001B[0m,\n",
       "\u001B[2;32m│   │   \u001B[0m\u001B[32m'rated'\u001B[0m: \u001B[32m'APPROVED'\u001B[0m,\n",
       "\u001B[2;32m│   │   \u001B[0m\u001B[32m'cast'\u001B[0m: \u001B[1m[\u001B[0m\u001B[32m'James Ellison'\u001B[0m, \u001B[32m'Frances Dee'\u001B[0m, \u001B[32m'Tom Conway'\u001B[0m, \u001B[32m'Edith Barrett'\u001B[0m\u001B[1m]\u001B[0m,\n",
       "\u001B[2;32m│   │   \u001B[0m\u001B[32m'num_mflix_comments'\u001B[0m: \u001B[1;36m1\u001B[0m,\n",
       "\u001B[2;32m│   │   \u001B[0m\u001B[32m'poster'\u001B[0m: \u001B[32m'https://m.media-amazon.com/images/M/MV5BZjQzMzliN2YtYTVhNC00Zjc4LThjMmYtMTE0ZGUzMWNmYzJlXkEyXkFqcGdeQXVyMTYxNjkxOQ@@._V1_SY1000_SX677_AL_.jpg'\u001B[0m,\n",
       "\u001B[2;32m│   │   \u001B[0m\u001B[32m'title'\u001B[0m: \u001B[32m'I Walked with a Zombie'\u001B[0m,\n",
       "\u001B[2;32m│   │   \u001B[0m\u001B[32m'fullplot'\u001B[0m: \u001B[32m'A young Canadian nurse \u001B[0m\u001B[32m(\u001B[0m\u001B[32mBetsy\u001B[0m\u001B[32m)\u001B[0m\u001B[32m comes to the West Indies to care for Jessica, the wife of a plantation manager \u001B[0m\u001B[32m(\u001B[0m\u001B[32mPaul Holland\u001B[0m\u001B[32m)\u001B[0m\u001B[32m. Jessica seems to be suffering from a kind of mental paralysis as a result of fever. When she falls in love with Paul, Betsy determines to cure Jessica even if she needs to use a voodoo ceremony, to give Paul what she thinks he wants.'\u001B[0m,\n",
       "\u001B[2;32m│   │   \u001B[0m\u001B[32m'languages'\u001B[0m: \u001B[1m[\u001B[0m\u001B[32m'English'\u001B[0m\u001B[1m]\u001B[0m,\n",
       "\u001B[2;32m│   │   \u001B[0m\u001B[32m'released'\u001B[0m: \u001B[1;35mdatetime.datetime\u001B[0m\u001B[1m(\u001B[0m\u001B[1;36m1943\u001B[0m, \u001B[1;36m4\u001B[0m, \u001B[1;36m30\u001B[0m, \u001B[1;36m0\u001B[0m, \u001B[1;36m0\u001B[0m\u001B[1m)\u001B[0m,\n",
       "\u001B[2;32m│   │   \u001B[0m\u001B[32m'directors'\u001B[0m: \u001B[1m[\u001B[0m\u001B[32m'Jacques Tourneur'\u001B[0m\u001B[1m]\u001B[0m,\n",
       "\u001B[2;32m│   │   \u001B[0m\u001B[32m'writers'\u001B[0m: \u001B[1m[\u001B[0m\u001B[32m'Curt Siodmak \u001B[0m\u001B[32m(\u001B[0m\u001B[32mscreenplay\u001B[0m\u001B[32m)\u001B[0m\u001B[32m'\u001B[0m, \u001B[32m'Ardel Wray \u001B[0m\u001B[32m(\u001B[0m\u001B[32mscreenplay\u001B[0m\u001B[32m)\u001B[0m\u001B[32m'\u001B[0m, \u001B[32m'Inez Wallace \u001B[0m\u001B[32m(\u001B[0m\u001B[32moriginal story\u001B[0m\u001B[32m)\u001B[0m\u001B[32m'\u001B[0m\u001B[1m]\u001B[0m,\n",
       "\u001B[2;32m│   │   \u001B[0m\u001B[32m'awards'\u001B[0m: \u001B[1m{\u001B[0m\u001B[32m'wins'\u001B[0m: \u001B[1;36m0\u001B[0m, \u001B[32m'nominations'\u001B[0m: \u001B[1;36m2\u001B[0m, \u001B[32m'text'\u001B[0m: \u001B[32m'2 nominations.'\u001B[0m\u001B[1m}\u001B[0m,\n",
       "\u001B[2;32m│   │   \u001B[0m\u001B[32m'lastupdated'\u001B[0m: \u001B[32m'2015-08-16 00:16:16.823000000'\u001B[0m,\n",
       "\u001B[2;32m│   │   \u001B[0m\u001B[32m'year'\u001B[0m: \u001B[1;36m1943\u001B[0m,\n",
       "\u001B[2;32m│   │   \u001B[0m\u001B[32m'imdb'\u001B[0m: \u001B[1m{\u001B[0m\u001B[32m'rating'\u001B[0m: \u001B[1;36m7.3\u001B[0m, \u001B[32m'votes'\u001B[0m: \u001B[1;36m6893\u001B[0m, \u001B[32m'id'\u001B[0m: \u001B[1;36m36027\u001B[0m\u001B[1m}\u001B[0m,\n",
       "\u001B[2;32m│   │   \u001B[0m\u001B[32m'countries'\u001B[0m: \u001B[1m[\u001B[0m\u001B[32m'USA'\u001B[0m\u001B[1m]\u001B[0m,\n",
       "\u001B[2;32m│   │   \u001B[0m\u001B[32m'type'\u001B[0m: \u001B[32m'movie'\u001B[0m,\n",
       "\u001B[2;32m│   │   \u001B[0m\u001B[32m'tomatoes'\u001B[0m: \u001B[1m{\u001B[0m\n",
       "\u001B[2;32m│   │   │   \u001B[0m\u001B[32m'viewer'\u001B[0m: \u001B[1m{\u001B[0m\u001B[32m'rating'\u001B[0m: \u001B[1;36m3.6\u001B[0m, \u001B[32m'numReviews'\u001B[0m: \u001B[1;36m4884\u001B[0m, \u001B[32m'meter'\u001B[0m: \u001B[1;36m75\u001B[0m\u001B[1m}\u001B[0m,\n",
       "\u001B[2;32m│   │   │   \u001B[0m\u001B[32m'dvd'\u001B[0m: \u001B[1;35mdatetime.datetime\u001B[0m\u001B[1m(\u001B[0m\u001B[1;36m2005\u001B[0m, \u001B[1;36m10\u001B[0m, \u001B[1;36m4\u001B[0m, \u001B[1;36m0\u001B[0m, \u001B[1;36m0\u001B[0m\u001B[1m)\u001B[0m,\n",
       "\u001B[2;32m│   │   │   \u001B[0m\u001B[32m'critic'\u001B[0m: \u001B[1m{\u001B[0m\u001B[32m'rating'\u001B[0m: \u001B[1;36m8.1\u001B[0m, \u001B[32m'numReviews'\u001B[0m: \u001B[1;36m26\u001B[0m, \u001B[32m'meter'\u001B[0m: \u001B[1;36m92\u001B[0m\u001B[1m}\u001B[0m,\n",
       "\u001B[2;32m│   │   │   \u001B[0m\u001B[32m'lastUpdated'\u001B[0m: \u001B[1;35mdatetime.datetime\u001B[0m\u001B[1m(\u001B[0m\u001B[1;36m2015\u001B[0m, \u001B[1;36m8\u001B[0m, \u001B[1;36m26\u001B[0m, \u001B[1;36m18\u001B[0m, \u001B[1;36m16\u001B[0m, \u001B[1;36m16\u001B[0m\u001B[1m)\u001B[0m,\n",
       "\u001B[2;32m│   │   │   \u001B[0m\u001B[32m'consensus'\u001B[0m: \u001B[32m\"Evocative direction by Jacques Tourneur collides with the low-rent production values of exploitateer Val Lewton in I Walked with a Zombie, a sultry sleeper that's simultaneously smarmy, eloquent and fascinating.\"\u001B[0m,\n",
       "\u001B[2;32m│   │   │   \u001B[0m\u001B[32m'rotten'\u001B[0m: \u001B[1;36m2\u001B[0m,\n",
       "\u001B[2;32m│   │   │   \u001B[0m\u001B[32m'production'\u001B[0m: \u001B[32m'Warner Home Video'\u001B[0m,\n",
       "\u001B[2;32m│   │   │   \u001B[0m\u001B[32m'fresh'\u001B[0m: \u001B[1;36m24\u001B[0m\n",
       "\u001B[2;32m│   │   \u001B[0m\u001B[1m}\u001B[0m\n",
       "\u001B[2;32m│   \u001B[0m\u001B[1m}\u001B[0m,\n",
       "\u001B[2;32m│   \u001B[0m\u001B[1m{\u001B[0m\n",
       "\u001B[2;32m│   │   \u001B[0m\u001B[32m'_id'\u001B[0m: \u001B[1;35mObjectId\u001B[0m\u001B[1m(\u001B[0m\u001B[32m'573a1393f29313caabcdcdf5'\u001B[0m\u001B[1m)\u001B[0m,\n",
       "\u001B[2;32m│   │   \u001B[0m\u001B[32m'plot'\u001B[0m: \u001B[32m'A seemingly tame leopard used for a publicity stunt escapes and kills a young girl, spreading panic throughout a sleepy new Mexico town.'\u001B[0m,\n",
       "\u001B[2;32m│   │   \u001B[0m\u001B[32m'genres'\u001B[0m: \u001B[1m[\u001B[0m\u001B[32m'Horror'\u001B[0m, \u001B[32m'Thriller'\u001B[0m\u001B[1m]\u001B[0m,\n",
       "\u001B[2;32m│   │   \u001B[0m\u001B[32m'runtime'\u001B[0m: \u001B[1;36m66\u001B[0m,\n",
       "\u001B[2;32m│   │   \u001B[0m\u001B[32m'rated'\u001B[0m: \u001B[32m'APPROVED'\u001B[0m,\n",
       "\u001B[2;32m│   │   \u001B[0m\u001B[32m'cast'\u001B[0m: \u001B[1m[\u001B[0m\u001B[32m\"Dennis O'Keefe\"\u001B[0m, \u001B[32m'Margo'\u001B[0m, \u001B[32m'Jean Brooks'\u001B[0m, \u001B[32m'Isabel Jewell'\u001B[0m\u001B[1m]\u001B[0m,\n",
       "\u001B[2;32m│   │   \u001B[0m\u001B[32m'num_mflix_comments'\u001B[0m: \u001B[1;36m1\u001B[0m,\n",
       "\u001B[2;32m│   │   \u001B[0m\u001B[32m'poster'\u001B[0m: \u001B[32m'https://m.media-amazon.com/images/M/MV5BYmU4ZDI5NGMtYzM1OC00YTQ3LWI1NTEtNGM0Mzc0ZDA5NzI4XkEyXkFqcGdeQXVyMTQxNzMzNDI@._V1_SY1000_SX677_AL_.jpg'\u001B[0m,\n",
       "\u001B[2;32m│   │   \u001B[0m\u001B[32m'title'\u001B[0m: \u001B[32m'The Leopard Man'\u001B[0m,\n",
       "\u001B[2;32m│   │   \u001B[0m\u001B[32m'fullplot'\u001B[0m: \u001B[32m'At the encouragement of her manager, a nightclub performer in New Mexico \u001B[0m\u001B[32m(\u001B[0m\u001B[32mKiki Walker\u001B[0m\u001B[32m)\u001B[0m\u001B[32m takes a leashed leopard into the club as a publicity gimmick. But her rival, angered by the attempt to upstage, scares the animal and it bolts. In the days that follow, people are mauled and the countryside is combed for the loose creature. But Kiki and her manager begin to wonder if maybe the leopard is not responsible for the killings.'\u001B[0m,\n",
       "\u001B[2;32m│   │   \u001B[0m\u001B[32m'languages'\u001B[0m: \u001B[1m[\u001B[0m\u001B[32m'English'\u001B[0m, \u001B[32m'Spanish'\u001B[0m\u001B[1m]\u001B[0m,\n",
       "\u001B[2;32m│   │   \u001B[0m\u001B[32m'released'\u001B[0m: \u001B[1;35mdatetime.datetime\u001B[0m\u001B[1m(\u001B[0m\u001B[1;36m1943\u001B[0m, \u001B[1;36m5\u001B[0m, \u001B[1;36m8\u001B[0m, \u001B[1;36m0\u001B[0m, \u001B[1;36m0\u001B[0m\u001B[1m)\u001B[0m,\n",
       "\u001B[2;32m│   │   \u001B[0m\u001B[32m'directors'\u001B[0m: \u001B[1m[\u001B[0m\u001B[32m'Jacques Tourneur'\u001B[0m\u001B[1m]\u001B[0m,\n",
       "\u001B[2;32m│   │   \u001B[0m\u001B[32m'writers'\u001B[0m: \u001B[1m[\u001B[0m\u001B[32m'Ardel Wray \u001B[0m\u001B[32m(\u001B[0m\u001B[32mscreenplay\u001B[0m\u001B[32m)\u001B[0m\u001B[32m'\u001B[0m, \u001B[32m'Edward Dein \u001B[0m\u001B[32m(\u001B[0m\u001B[32madditional dialogue\u001B[0m\u001B[32m)\u001B[0m\u001B[32m'\u001B[0m, \u001B[32m'Cornell Woolrich \u001B[0m\u001B[32m(\u001B[0m\u001B[32mnovel\u001B[0m\u001B[32m)\u001B[0m\u001B[32m'\u001B[0m\u001B[1m]\u001B[0m,\n",
       "\u001B[2;32m│   │   \u001B[0m\u001B[32m'awards'\u001B[0m: \u001B[1m{\u001B[0m\u001B[32m'wins'\u001B[0m: \u001B[1;36m0\u001B[0m, \u001B[32m'nominations'\u001B[0m: \u001B[1;36m2\u001B[0m, \u001B[32m'text'\u001B[0m: \u001B[32m'2 nominations.'\u001B[0m\u001B[1m}\u001B[0m,\n",
       "\u001B[2;32m│   │   \u001B[0m\u001B[32m'lastupdated'\u001B[0m: \u001B[32m'2015-08-05 00:17:53.897000000'\u001B[0m,\n",
       "\u001B[2;32m│   │   \u001B[0m\u001B[32m'year'\u001B[0m: \u001B[1;36m1943\u001B[0m,\n",
       "\u001B[2;32m│   │   \u001B[0m\u001B[32m'imdb'\u001B[0m: \u001B[1m{\u001B[0m\u001B[32m'rating'\u001B[0m: \u001B[1;36m6.9\u001B[0m, \u001B[32m'votes'\u001B[0m: \u001B[1;36m2889\u001B[0m, \u001B[32m'id'\u001B[0m: \u001B[1;36m36104\u001B[0m\u001B[1m}\u001B[0m,\n",
       "\u001B[2;32m│   │   \u001B[0m\u001B[32m'countries'\u001B[0m: \u001B[1m[\u001B[0m\u001B[32m'USA'\u001B[0m\u001B[1m]\u001B[0m,\n",
       "\u001B[2;32m│   │   \u001B[0m\u001B[32m'type'\u001B[0m: \u001B[32m'movie'\u001B[0m,\n",
       "\u001B[2;32m│   │   \u001B[0m\u001B[32m'tomatoes'\u001B[0m: \u001B[1m{\u001B[0m\n",
       "\u001B[2;32m│   │   │   \u001B[0m\u001B[32m'viewer'\u001B[0m: \u001B[1m{\u001B[0m\u001B[32m'rating'\u001B[0m: \u001B[1;36m3.5\u001B[0m, \u001B[32m'numReviews'\u001B[0m: \u001B[1;36m1375\u001B[0m, \u001B[32m'meter'\u001B[0m: \u001B[1;36m67\u001B[0m\u001B[1m}\u001B[0m,\n",
       "\u001B[2;32m│   │   │   \u001B[0m\u001B[32m'fresh'\u001B[0m: \u001B[1;36m15\u001B[0m,\n",
       "\u001B[2;32m│   │   │   \u001B[0m\u001B[32m'critic'\u001B[0m: \u001B[1m{\u001B[0m\u001B[32m'rating'\u001B[0m: \u001B[1;36m7.4\u001B[0m, \u001B[32m'numReviews'\u001B[0m: \u001B[1;36m17\u001B[0m, \u001B[32m'meter'\u001B[0m: \u001B[1;36m88\u001B[0m\u001B[1m}\u001B[0m,\n",
       "\u001B[2;32m│   │   │   \u001B[0m\u001B[32m'rotten'\u001B[0m: \u001B[1;36m2\u001B[0m,\n",
       "\u001B[2;32m│   │   │   \u001B[0m\u001B[32m'lastUpdated'\u001B[0m: \u001B[1;35mdatetime.datetime\u001B[0m\u001B[1m(\u001B[0m\u001B[1;36m2015\u001B[0m, \u001B[1;36m8\u001B[0m, \u001B[1;36m27\u001B[0m, \u001B[1;36m18\u001B[0m, \u001B[1;36m6\u001B[0m, \u001B[1;36m2\u001B[0m\u001B[1m)\u001B[0m\n",
       "\u001B[2;32m│   │   \u001B[0m\u001B[1m}\u001B[0m\n",
       "\u001B[2;32m│   \u001B[0m\u001B[1m}\u001B[0m,\n",
       "\u001B[2;32m│   \u001B[0m\u001B[1m{\u001B[0m\n",
       "\u001B[2;32m│   │   \u001B[0m\u001B[32m'_id'\u001B[0m: \u001B[1;35mObjectId\u001B[0m\u001B[1m(\u001B[0m\u001B[32m'573a1393f29313caabcdd38c'\u001B[0m\u001B[1m)\u001B[0m,\n",
       "\u001B[2;32m│   │   \u001B[0m\u001B[32m'plot'\u001B[0m: \u001B[32m'A ruthless doctor and his young prize student find themselves continually harassed by their murderous supplier of illegal cadavers.'\u001B[0m,\n",
       "\u001B[2;32m│   │   \u001B[0m\u001B[32m'genres'\u001B[0m: \u001B[1m[\u001B[0m\u001B[32m'Horror'\u001B[0m, \u001B[32m'Thriller'\u001B[0m\u001B[1m]\u001B[0m,\n",
       "\u001B[2;32m│   │   \u001B[0m\u001B[32m'runtime'\u001B[0m: \u001B[1;36m77\u001B[0m,\n",
       "\u001B[2;32m│   │   \u001B[0m\u001B[32m'rated'\u001B[0m: \u001B[32m'APPROVED'\u001B[0m,\n",
       "\u001B[2;32m│   │   \u001B[0m\u001B[32m'title'\u001B[0m: \u001B[32m'The Body Snatcher'\u001B[0m,\n",
       "\u001B[2;32m│   │   \u001B[0m\u001B[32m'num_mflix_comments'\u001B[0m: \u001B[1;36m1\u001B[0m,\n",
       "\u001B[2;32m│   │   \u001B[0m\u001B[32m'poster'\u001B[0m: \u001B[32m'https://m.media-amazon.com/images/M/MV5BNzNmOTE0YTktZGZmYS00N2RhLWI5NTgtYTAyZjZhYWExMmRmXkEyXkFqcGdeQXVyMTQxNzMzNDI@._V1_SY1000_SX677_AL_.jpg'\u001B[0m,\n",
       "\u001B[2;32m│   │   \u001B[0m\u001B[32m'countries'\u001B[0m: \u001B[1m[\u001B[0m\u001B[32m'USA'\u001B[0m\u001B[1m]\u001B[0m,\n",
       "\u001B[2;32m│   │   \u001B[0m\u001B[32m'fullplot'\u001B[0m: \u001B[32m\"In Edinburgh in 1831, Dr. Wolfe MacFarlane runs a medical school where Donald Fettes is a student. Fettes is interested in helping a young girl who has lost the use of her legs. He is certain that MacFarlane's surgical skills could be put to great use but he is reluctant to do so. The good Dr. MacFarlane has a secret that soon becomes all too obvious to young Fettes, who has only recently been promoted as his assistant: he has been paying a local cabbie, John Gray, to supply him with dead bodies for anatomical research. Gray constantly harasses MacFarlane and clearly has a hold over him dating to a famous trial many years before where Gray refused to identify the man for whom he was robbing graves. Fettes isn't aware of any of this but soon realizes exactly how Gray obtains the bodies they use in their anatomy classes.\"\u001B[0m,\n",
       "\u001B[2;32m│   │   \u001B[0m\u001B[32m'languages'\u001B[0m: \u001B[1m[\u001B[0m\u001B[32m'English'\u001B[0m\u001B[1m]\u001B[0m,\n",
       "\u001B[2;32m│   │   \u001B[0m\u001B[32m'cast'\u001B[0m: \u001B[1m[\u001B[0m\u001B[32m'Boris Karloff'\u001B[0m, \u001B[32m'Bela Lugosi'\u001B[0m, \u001B[32m'Henry Daniell'\u001B[0m, \u001B[32m'Edith Atwater'\u001B[0m\u001B[1m]\u001B[0m,\n",
       "\u001B[2;32m│   │   \u001B[0m\u001B[32m'directors'\u001B[0m: \u001B[1m[\u001B[0m\u001B[32m'Robert Wise'\u001B[0m\u001B[1m]\u001B[0m,\n",
       "\u001B[2;32m│   │   \u001B[0m\u001B[32m'writers'\u001B[0m: \u001B[1m[\u001B[0m\n",
       "\u001B[2;32m│   │   │   \u001B[0m\u001B[32m'Robert Louis Stevenson \u001B[0m\u001B[32m(\u001B[0m\u001B[32mshort story\u001B[0m\u001B[32m)\u001B[0m\u001B[32m'\u001B[0m,\n",
       "\u001B[2;32m│   │   │   \u001B[0m\u001B[32m'Philip MacDonald \u001B[0m\u001B[32m(\u001B[0m\u001B[32mwritten for the screen by\u001B[0m\u001B[32m)\u001B[0m\u001B[32m'\u001B[0m,\n",
       "\u001B[2;32m│   │   │   \u001B[0m\u001B[32m'Val Lewton \u001B[0m\u001B[32m(\u001B[0m\u001B[32mwritten for the screen by\u001B[0m\u001B[32m)\u001B[0m\u001B[32m'\u001B[0m\n",
       "\u001B[2;32m│   │   \u001B[0m\u001B[1m]\u001B[0m,\n",
       "\u001B[2;32m│   │   \u001B[0m\u001B[32m'awards'\u001B[0m: \u001B[1m{\u001B[0m\u001B[32m'wins'\u001B[0m: \u001B[1;36m0\u001B[0m, \u001B[32m'nominations'\u001B[0m: \u001B[1;36m3\u001B[0m, \u001B[32m'text'\u001B[0m: \u001B[32m'3 nominations.'\u001B[0m\u001B[1m}\u001B[0m,\n",
       "\u001B[2;32m│   │   \u001B[0m\u001B[32m'lastupdated'\u001B[0m: \u001B[32m'2015-08-16 01:24:24.840000000'\u001B[0m,\n",
       "\u001B[2;32m│   │   \u001B[0m\u001B[32m'year'\u001B[0m: \u001B[1;36m1945\u001B[0m,\n",
       "\u001B[2;32m│   │   \u001B[0m\u001B[32m'imdb'\u001B[0m: \u001B[1m{\u001B[0m\u001B[32m'rating'\u001B[0m: \u001B[1;36m7.4\u001B[0m, \u001B[32m'votes'\u001B[0m: \u001B[1;36m5509\u001B[0m, \u001B[32m'id'\u001B[0m: \u001B[1;36m37549\u001B[0m\u001B[1m}\u001B[0m,\n",
       "\u001B[2;32m│   │   \u001B[0m\u001B[32m'type'\u001B[0m: \u001B[32m'movie'\u001B[0m,\n",
       "\u001B[2;32m│   │   \u001B[0m\u001B[32m'tomatoes'\u001B[0m: \u001B[1m{\u001B[0m\n",
       "\u001B[2;32m│   │   │   \u001B[0m\u001B[32m'viewer'\u001B[0m: \u001B[1m{\u001B[0m\u001B[32m'rating'\u001B[0m: \u001B[1;36m3.5\u001B[0m, \u001B[32m'numReviews'\u001B[0m: \u001B[1;36m3664\u001B[0m, \u001B[32m'meter'\u001B[0m: \u001B[1;36m75\u001B[0m\u001B[1m}\u001B[0m,\n",
       "\u001B[2;32m│   │   │   \u001B[0m\u001B[32m'critic'\u001B[0m: \u001B[1m{\u001B[0m\u001B[32m'rating'\u001B[0m: \u001B[1;36m6.8\u001B[0m, \u001B[32m'numReviews'\u001B[0m: \u001B[1;36m16\u001B[0m, \u001B[32m'meter'\u001B[0m: \u001B[1;36m81\u001B[0m\u001B[1m}\u001B[0m,\n",
       "\u001B[2;32m│   │   │   \u001B[0m\u001B[32m'lastUpdated'\u001B[0m: \u001B[1;35mdatetime.datetime\u001B[0m\u001B[1m(\u001B[0m\u001B[1;36m2015\u001B[0m, \u001B[1;36m8\u001B[0m, \u001B[1;36m21\u001B[0m, \u001B[1;36m19\u001B[0m, \u001B[1;36m11\u001B[0m, \u001B[1;36m47\u001B[0m\u001B[1m)\u001B[0m,\n",
       "\u001B[2;32m│   │   │   \u001B[0m\u001B[32m'rotten'\u001B[0m: \u001B[1;36m3\u001B[0m,\n",
       "\u001B[2;32m│   │   │   \u001B[0m\u001B[32m'production'\u001B[0m: \u001B[32m'RKO Pictures'\u001B[0m,\n",
       "\u001B[2;32m│   │   │   \u001B[0m\u001B[32m'fresh'\u001B[0m: \u001B[1;36m13\u001B[0m\n",
       "\u001B[2;32m│   │   \u001B[0m\u001B[1m}\u001B[0m\n",
       "\u001B[2;32m│   \u001B[0m\u001B[1m}\u001B[0m,\n",
       "\u001B[2;32m│   \u001B[0m\u001B[1m{\u001B[0m\n",
       "\u001B[2;32m│   │   \u001B[0m\u001B[32m'_id'\u001B[0m: \u001B[1;35mObjectId\u001B[0m\u001B[1m(\u001B[0m\u001B[32m'573a1393f29313caabcdd3ed'\u001B[0m\u001B[1m)\u001B[0m,\n",
       "\u001B[2;32m│   │   \u001B[0m\u001B[32m'plot'\u001B[0m: \u001B[32m'An architect senses impending doom as his half-remembered recurring dream turns into reality. The guests at the country house encourage him to stay as they take turns telling supernatural tales.'\u001B[0m,\n",
       "\u001B[2;32m│   │   \u001B[0m\u001B[32m'genres'\u001B[0m: \u001B[1m[\u001B[0m\u001B[32m'Horror'\u001B[0m\u001B[1m]\u001B[0m,\n",
       "\u001B[2;32m│   │   \u001B[0m\u001B[32m'runtime'\u001B[0m: \u001B[1;36m77\u001B[0m,\n",
       "\u001B[2;32m│   │   \u001B[0m\u001B[32m'rated'\u001B[0m: \u001B[32m'APPROVED'\u001B[0m,\n",
       "\u001B[2;32m│   │   \u001B[0m\u001B[32m'cast'\u001B[0m: \u001B[1m[\u001B[0m\u001B[32m'Mervyn Johns'\u001B[0m, \u001B[32m'Roland Culver'\u001B[0m, \u001B[32m'Mary Merrall'\u001B[0m, \u001B[32m'Googie Withers'\u001B[0m\u001B[1m]\u001B[0m,\n",
       "\u001B[2;32m│   │   \u001B[0m\u001B[32m'num_mflix_comments'\u001B[0m: \u001B[1;36m1\u001B[0m,\n",
       "\u001B[2;32m│   │   \u001B[0m\u001B[32m'poster'\u001B[0m: \u001B[32m'https://m.media-amazon.com/images/M/MV5BYTY2OTJjZjgtMzExMy00MWJlLTg2N2ItM2NhMDQxNTNkNjFhXkEyXkFqcGdeQXVyMjI4MjA5MzA@._V1_SY1000_SX677_AL_.jpg'\u001B[0m,\n",
       "\u001B[2;32m│   │   \u001B[0m\u001B[32m'title'\u001B[0m: \u001B[32m'Dead of Night'\u001B[0m,\n",
       "\u001B[2;32m│   │   \u001B[0m\u001B[32m'fullplot'\u001B[0m: \u001B[32m\"Architect Walter Craig, seeking the possibility of some work at a country farmhouse, soon finds himself once again stuck in his recurring nightmare. Dreading the end of the dream that he knows is coming, he must first listen to all the assembled guests' own bizarre tales.\"\u001B[0m,\n",
       "\u001B[2;32m│   │   \u001B[0m\u001B[32m'languages'\u001B[0m: \u001B[1m[\u001B[0m\u001B[32m'English'\u001B[0m, \u001B[32m'French'\u001B[0m\u001B[1m]\u001B[0m,\n",
       "\u001B[2;32m│   │   \u001B[0m\u001B[32m'released'\u001B[0m: \u001B[1;35mdatetime.datetime\u001B[0m\u001B[1m(\u001B[0m\u001B[1;36m1945\u001B[0m, \u001B[1;36m10\u001B[0m, \u001B[1;36m15\u001B[0m, \u001B[1;36m0\u001B[0m, \u001B[1;36m0\u001B[0m\u001B[1m)\u001B[0m,\n",
       "\u001B[2;32m│   │   \u001B[0m\u001B[32m'directors'\u001B[0m: \u001B[1m[\u001B[0m\u001B[32m'Alberto Cavalcanti'\u001B[0m, \u001B[32m'Charles Crichton'\u001B[0m, \u001B[32m'Basil Dearden'\u001B[0m, \u001B[32m'Robert Hamer'\u001B[0m\u001B[1m]\u001B[0m,\n",
       "\u001B[2;32m│   │   \u001B[0m\u001B[32m'writers'\u001B[0m: \u001B[1m[\u001B[0m\n",
       "\u001B[2;32m│   │   │   \u001B[0m\u001B[32m'H.G. Wells \u001B[0m\u001B[32m(\u001B[0m\u001B[32moriginal story\u001B[0m\u001B[32m)\u001B[0m\u001B[32m'\u001B[0m,\n",
       "\u001B[2;32m│   │   │   \u001B[0m\u001B[32m'E.F. Benson \u001B[0m\u001B[32m(\u001B[0m\u001B[32moriginal story\u001B[0m\u001B[32m)\u001B[0m\u001B[32m'\u001B[0m,\n",
       "\u001B[2;32m│   │   │   \u001B[0m\u001B[32m'John Baines \u001B[0m\u001B[32m(\u001B[0m\u001B[32moriginal story\u001B[0m\u001B[32m)\u001B[0m\u001B[32m'\u001B[0m,\n",
       "\u001B[2;32m│   │   │   \u001B[0m\u001B[32m'Angus MacPhail \u001B[0m\u001B[32m(\u001B[0m\u001B[32moriginal story\u001B[0m\u001B[32m)\u001B[0m\u001B[32m'\u001B[0m,\n",
       "\u001B[2;32m│   │   │   \u001B[0m\u001B[32m'John Baines \u001B[0m\u001B[32m(\u001B[0m\u001B[32mscreenplay\u001B[0m\u001B[32m)\u001B[0m\u001B[32m'\u001B[0m,\n",
       "\u001B[2;32m│   │   │   \u001B[0m\u001B[32m'Angus MacPhail \u001B[0m\u001B[32m(\u001B[0m\u001B[32mscreenplay\u001B[0m\u001B[32m)\u001B[0m\u001B[32m'\u001B[0m,\n",
       "\u001B[2;32m│   │   │   \u001B[0m\u001B[32m'T.E.B. Clarke \u001B[0m\u001B[32m(\u001B[0m\u001B[32madditional dialogue\u001B[0m\u001B[32m)\u001B[0m\u001B[32m'\u001B[0m\n",
       "\u001B[2;32m│   │   \u001B[0m\u001B[1m]\u001B[0m,\n",
       "\u001B[2;32m│   │   \u001B[0m\u001B[32m'awards'\u001B[0m: \u001B[1m{\u001B[0m\u001B[32m'wins'\u001B[0m: \u001B[1;36m1\u001B[0m, \u001B[32m'nominations'\u001B[0m: \u001B[1;36m1\u001B[0m, \u001B[32m'text'\u001B[0m: \u001B[32m'1 win & 1 nomination.'\u001B[0m\u001B[1m}\u001B[0m,\n",
       "\u001B[2;32m│   │   \u001B[0m\u001B[32m'lastupdated'\u001B[0m: \u001B[32m'2015-09-15 04:38:12.500000000'\u001B[0m,\n",
       "\u001B[2;32m│   │   \u001B[0m\u001B[32m'year'\u001B[0m: \u001B[1;36m1945\u001B[0m,\n",
       "\u001B[2;32m│   │   \u001B[0m\u001B[32m'imdb'\u001B[0m: \u001B[1m{\u001B[0m\u001B[32m'rating'\u001B[0m: \u001B[1;36m7.7\u001B[0m, \u001B[32m'votes'\u001B[0m: \u001B[1;36m7116\u001B[0m, \u001B[32m'id'\u001B[0m: \u001B[1;36m37635\u001B[0m\u001B[1m}\u001B[0m,\n",
       "\u001B[2;32m│   │   \u001B[0m\u001B[32m'countries'\u001B[0m: \u001B[1m[\u001B[0m\u001B[32m'UK'\u001B[0m\u001B[1m]\u001B[0m,\n",
       "\u001B[2;32m│   │   \u001B[0m\u001B[32m'type'\u001B[0m: \u001B[32m'movie'\u001B[0m,\n",
       "\u001B[2;32m│   │   \u001B[0m\u001B[32m'tomatoes'\u001B[0m: \u001B[1m{\u001B[0m\n",
       "\u001B[2;32m│   │   │   \u001B[0m\u001B[32m'viewer'\u001B[0m: \u001B[1m{\u001B[0m\u001B[32m'rating'\u001B[0m: \u001B[1;36m4\u001B[0m, \u001B[32m'numReviews'\u001B[0m: \u001B[1;36m3194\u001B[0m, \u001B[32m'meter'\u001B[0m: \u001B[1;36m88\u001B[0m\u001B[1m}\u001B[0m,\n",
       "\u001B[2;32m│   │   │   \u001B[0m\u001B[32m'dvd'\u001B[0m: \u001B[1;35mdatetime.datetime\u001B[0m\u001B[1m(\u001B[0m\u001B[1;36m2009\u001B[0m, \u001B[1;36m1\u001B[0m, \u001B[1;36m27\u001B[0m, \u001B[1;36m0\u001B[0m, \u001B[1;36m0\u001B[0m\u001B[1m)\u001B[0m,\n",
       "\u001B[2;32m│   │   │   \u001B[0m\u001B[32m'critic'\u001B[0m: \u001B[1m{\u001B[0m\u001B[32m'rating'\u001B[0m: \u001B[1;36m8\u001B[0m, \u001B[32m'numReviews'\u001B[0m: \u001B[1;36m27\u001B[0m, \u001B[32m'meter'\u001B[0m: \u001B[1;36m96\u001B[0m\u001B[1m}\u001B[0m,\n",
       "\u001B[2;32m│   │   │   \u001B[0m\u001B[32m'lastUpdated'\u001B[0m: \u001B[1;35mdatetime.datetime\u001B[0m\u001B[1m(\u001B[0m\u001B[1;36m2015\u001B[0m, \u001B[1;36m7\u001B[0m, \u001B[1;36m26\u001B[0m, \u001B[1;36m18\u001B[0m, \u001B[1;36m40\u001B[0m, \u001B[1;36m43\u001B[0m\u001B[1m)\u001B[0m,\n",
       "\u001B[2;32m│   │   │   \u001B[0m\u001B[32m'consensus'\u001B[0m: \u001B[32m'With four accomplished directors contributing, Dead of Night is a classic horror anthology that remains highly influential.'\u001B[0m,\n",
       "\u001B[2;32m│   │   │   \u001B[0m\u001B[32m'rotten'\u001B[0m: \u001B[1;36m1\u001B[0m,\n",
       "\u001B[2;32m│   │   │   \u001B[0m\u001B[32m'production'\u001B[0m: \u001B[32m'Universal Pictures'\u001B[0m,\n",
       "\u001B[2;32m│   │   │   \u001B[0m\u001B[32m'fresh'\u001B[0m: \u001B[1;36m26\u001B[0m\n",
       "\u001B[2;32m│   │   \u001B[0m\u001B[1m}\u001B[0m\n",
       "\u001B[2;32m│   \u001B[0m\u001B[1m}\u001B[0m,\n",
       "\u001B[2;32m│   \u001B[0m\u001B[1m{\u001B[0m\n",
       "\u001B[2;32m│   │   \u001B[0m\u001B[32m'_id'\u001B[0m: \u001B[1;35mObjectId\u001B[0m\u001B[1m(\u001B[0m\u001B[32m'573a1393f29313caabcdd5bc'\u001B[0m\u001B[1m)\u001B[0m,\n",
       "\u001B[2;32m│   │   \u001B[0m\u001B[32m'plot'\u001B[0m: \u001B[32m'A psychiatrist protects the identity of an amnesia patient accused of murder while attempting to recover his memory.'\u001B[0m,\n",
       "\u001B[2;32m│   │   \u001B[0m\u001B[32m'genres'\u001B[0m: \u001B[1m[\u001B[0m\u001B[32m'Film-Noir'\u001B[0m, \u001B[32m'Mystery'\u001B[0m, \u001B[32m'Romance'\u001B[0m\u001B[1m]\u001B[0m,\n",
       "\u001B[2;32m│   │   \u001B[0m\u001B[32m'runtime'\u001B[0m: \u001B[1;36m111\u001B[0m,\n",
       "\u001B[2;32m│   │   \u001B[0m\u001B[32m'rated'\u001B[0m: \u001B[32m'UNRATED'\u001B[0m,\n",
       "\u001B[2;32m│   │   \u001B[0m\u001B[32m'cast'\u001B[0m: \u001B[1m[\u001B[0m\u001B[32m'Ingrid Bergman'\u001B[0m, \u001B[32m'Gregory Peck'\u001B[0m, \u001B[32m'Michael Chekhov'\u001B[0m, \u001B[32m'Leo G. Carroll'\u001B[0m\u001B[1m]\u001B[0m,\n",
       "\u001B[2;32m│   │   \u001B[0m\u001B[32m'num_mflix_comments'\u001B[0m: \u001B[1;36m2\u001B[0m,\n",
       "\u001B[2;32m│   │   \u001B[0m\u001B[32m'poster'\u001B[0m: \u001B[32m'https://m.media-amazon.com/images/M/MV5BMTM2NDI5Nzg5Nl5BMl5BanBnXkFtZTcwNDk3NzI0NA@@._V1_SY1000_SX677_AL_.jpg'\u001B[0m,\n",
       "\u001B[2;32m│   │   \u001B[0m\u001B[32m'title'\u001B[0m: \u001B[32m'Spellbound'\u001B[0m,\n",
       "\u001B[2;32m│   │   \u001B[0m\u001B[32m'fullplot'\u001B[0m: \u001B[32m'The head of the Green Manors mental asylum Dr. Murchison is retiring to be replaced by Dr. Edwardes, a famous psychiatrist. Edwardes arrives and is immediately attracted to the beautiful but cold Dr. Constance Petersen. However, it soon becomes apparent that Dr. Edwardes is in fact a paranoid amnesiac impostor. He goes on the run with Constance who tries to help his condition and solve the mystery of what happened to the real Dr. Edwardes.'\u001B[0m,\n",
       "\u001B[2;32m│   │   \u001B[0m\u001B[32m'languages'\u001B[0m: \u001B[1m[\u001B[0m\u001B[32m'English'\u001B[0m\u001B[1m]\u001B[0m,\n",
       "\u001B[2;32m│   │   \u001B[0m\u001B[32m'released'\u001B[0m: \u001B[1;35mdatetime.datetime\u001B[0m\u001B[1m(\u001B[0m\u001B[1;36m1945\u001B[0m, \u001B[1;36m12\u001B[0m, \u001B[1;36m28\u001B[0m, \u001B[1;36m0\u001B[0m, \u001B[1;36m0\u001B[0m\u001B[1m)\u001B[0m,\n",
       "\u001B[2;32m│   │   \u001B[0m\u001B[32m'directors'\u001B[0m: \u001B[1m[\u001B[0m\u001B[32m'Alfred Hitchcock'\u001B[0m\u001B[1m]\u001B[0m,\n",
       "\u001B[2;32m│   │   \u001B[0m\u001B[32m'writers'\u001B[0m: \u001B[1m[\u001B[0m\n",
       "\u001B[2;32m│   │   │   \u001B[0m\u001B[32m'Ben Hecht \u001B[0m\u001B[32m(\u001B[0m\u001B[32mscreen play\u001B[0m\u001B[32m)\u001B[0m\u001B[32m'\u001B[0m,\n",
       "\u001B[2;32m│   │   │   \u001B[0m\u001B[32m'Frances Beeding \u001B[0m\u001B[32m(\u001B[0m\u001B[32msuggested by novel: \"The House of Dr. Edwardes\"\u001B[0m\u001B[32m)\u001B[0m\u001B[32m'\u001B[0m,\n",
       "\u001B[2;32m│   │   │   \u001B[0m\u001B[32m'Angus MacPhail \u001B[0m\u001B[32m(\u001B[0m\u001B[32madaptation\u001B[0m\u001B[32m)\u001B[0m\u001B[32m'\u001B[0m\n",
       "\u001B[2;32m│   │   \u001B[0m\u001B[1m]\u001B[0m,\n",
       "\u001B[2;32m│   │   \u001B[0m\u001B[32m'awards'\u001B[0m: \u001B[1m{\u001B[0m\u001B[32m'wins'\u001B[0m: \u001B[1;36m2\u001B[0m, \u001B[32m'nominations'\u001B[0m: \u001B[1;36m6\u001B[0m, \u001B[32m'text'\u001B[0m: \u001B[32m'Won 1 Oscar. Another 1 win & 6 nominations.'\u001B[0m\u001B[1m}\u001B[0m,\n",
       "\u001B[2;32m│   │   \u001B[0m\u001B[32m'lastupdated'\u001B[0m: \u001B[32m'2015-09-13 00:08:07.040000000'\u001B[0m,\n",
       "\u001B[2;32m│   │   \u001B[0m\u001B[32m'year'\u001B[0m: \u001B[1;36m1945\u001B[0m,\n",
       "\u001B[2;32m│   │   \u001B[0m\u001B[32m'imdb'\u001B[0m: \u001B[1m{\u001B[0m\u001B[32m'rating'\u001B[0m: \u001B[1;36m7.7\u001B[0m, \u001B[32m'votes'\u001B[0m: \u001B[1;36m30640\u001B[0m, \u001B[32m'id'\u001B[0m: \u001B[1;36m38109\u001B[0m\u001B[1m}\u001B[0m,\n",
       "\u001B[2;32m│   │   \u001B[0m\u001B[32m'countries'\u001B[0m: \u001B[1m[\u001B[0m\u001B[32m'USA'\u001B[0m\u001B[1m]\u001B[0m,\n",
       "\u001B[2;32m│   │   \u001B[0m\u001B[32m'type'\u001B[0m: \u001B[32m'movie'\u001B[0m,\n",
       "\u001B[2;32m│   │   \u001B[0m\u001B[32m'tomatoes'\u001B[0m: \u001B[1m{\u001B[0m\n",
       "\u001B[2;32m│   │   │   \u001B[0m\u001B[32m'viewer'\u001B[0m: \u001B[1m{\u001B[0m\u001B[32m'rating'\u001B[0m: \u001B[1;36m3.8\u001B[0m, \u001B[32m'numReviews'\u001B[0m: \u001B[1;36m16640\u001B[0m, \u001B[32m'meter'\u001B[0m: \u001B[1;36m83\u001B[0m\u001B[1m}\u001B[0m,\n",
       "\u001B[2;32m│   │   │   \u001B[0m\u001B[32m'dvd'\u001B[0m: \u001B[1;35mdatetime.datetime\u001B[0m\u001B[1m(\u001B[0m\u001B[1;36m2001\u001B[0m, \u001B[1;36m3\u001B[0m, \u001B[1;36m13\u001B[0m, \u001B[1;36m0\u001B[0m, \u001B[1;36m0\u001B[0m\u001B[1m)\u001B[0m,\n",
       "\u001B[2;32m│   │   │   \u001B[0m\u001B[32m'critic'\u001B[0m: \u001B[1m{\u001B[0m\u001B[32m'rating'\u001B[0m: \u001B[1;36m7.2\u001B[0m, \u001B[32m'numReviews'\u001B[0m: \u001B[1;36m35\u001B[0m, \u001B[32m'meter'\u001B[0m: \u001B[1;36m83\u001B[0m\u001B[1m}\u001B[0m,\n",
       "\u001B[2;32m│   │   │   \u001B[0m\u001B[32m'lastUpdated'\u001B[0m: \u001B[1;35mdatetime.datetime\u001B[0m\u001B[1m(\u001B[0m\u001B[1;36m2015\u001B[0m, \u001B[1;36m8\u001B[0m, \u001B[1;36m23\u001B[0m, \u001B[1;36m19\u001B[0m, \u001B[1;36m19\u001B[0m, \u001B[1;36m48\u001B[0m\u001B[1m)\u001B[0m,\n",
       "\u001B[2;32m│   │   │   \u001B[0m\u001B[32m'rotten'\u001B[0m: \u001B[1;36m6\u001B[0m,\n",
       "\u001B[2;32m│   │   │   \u001B[0m\u001B[32m'production'\u001B[0m: \u001B[32m'Twentieth Century Fox Home Entertainment'\u001B[0m,\n",
       "\u001B[2;32m│   │   │   \u001B[0m\u001B[32m'fresh'\u001B[0m: \u001B[1;36m29\u001B[0m\n",
       "\u001B[2;32m│   │   \u001B[0m\u001B[1m}\u001B[0m\n",
       "\u001B[2;32m│   \u001B[0m\u001B[1m}\u001B[0m,\n",
       "\u001B[2;32m│   \u001B[0m\u001B[1m{\u001B[0m\n",
       "\u001B[2;32m│   │   \u001B[0m\u001B[32m'_id'\u001B[0m: \u001B[1;35mObjectId\u001B[0m\u001B[1m(\u001B[0m\u001B[32m'573a1393f29313caabcdd6e7'\u001B[0m\u001B[1m)\u001B[0m,\n",
       "\u001B[2;32m│   │   \u001B[0m\u001B[32m'plot'\u001B[0m: \u001B[32m\"Chuck Scott gets a job as chauffeur to tough guy Eddie Roman; but Chuck's involvement with Eddie's fearful wife becomes a nightmare.\"\u001B[0m,\n",
       "\u001B[2;32m│   │   \u001B[0m\u001B[32m'genres'\u001B[0m: \u001B[1m[\u001B[0m\u001B[32m'Film-Noir'\u001B[0m\u001B[1m]\u001B[0m,\n",
       "\u001B[2;32m│   │   \u001B[0m\u001B[32m'runtime'\u001B[0m: \u001B[1;36m86\u001B[0m,\n",
       "\u001B[2;32m│   │   \u001B[0m\u001B[32m'rated'\u001B[0m: \u001B[32m'APPROVED'\u001B[0m,\n",
       "\u001B[2;32m│   │   \u001B[0m\u001B[32m'cast'\u001B[0m: \u001B[1m[\u001B[0m\u001B[32m'Robert Cummings'\u001B[0m, \u001B[32m'Michèle Morgan'\u001B[0m, \u001B[32m'Steve Cochran'\u001B[0m, \u001B[32m'Lloyd Corrigan'\u001B[0m\u001B[1m]\u001B[0m,\n",
       "\u001B[2;32m│   │   \u001B[0m\u001B[32m'num_mflix_comments'\u001B[0m: \u001B[1;36m1\u001B[0m,\n",
       "\u001B[2;32m│   │   \u001B[0m\u001B[32m'poster'\u001B[0m: \u001B[32m'https://m.media-amazon.com/images/M/MV5BNDI3OTM4NzMtNzQxMC00M2YxLWFmOTctNmUyNDBmMzIwZGI0XkEyXkFqcGdeQXVyMjUxODE0MDY@._V1_SY1000_SX677_AL_.jpg'\u001B[0m,\n",
       "\u001B[2;32m│   │   \u001B[0m\u001B[32m'title'\u001B[0m: \u001B[32m'The Chase'\u001B[0m,\n",
       "\u001B[2;32m│   │   \u001B[0m\u001B[32m'fullplot'\u001B[0m: \u001B[32m\"Returning a lost wallet gains unemployed veteran Chuck Scott a job as chauffeur to Eddie Roman, a seeming gangster whose enemies have a way of meeting violent ends. The job proves nerve-wracking, and soon Chuck finds himself pledged to help Eddie's lovely, fearful, prisoner-wife Lorna to escape. The result leaves Chuck caught like a rat in a trap, vainly seeking a way out through dark streets. But the real chase begins when the strange plot virtually starts all over again...\"\u001B[0m,\n",
       "\u001B[2;32m│   │   \u001B[0m\u001B[32m'languages'\u001B[0m: \u001B[1m[\u001B[0m\u001B[32m'English'\u001B[0m, \u001B[32m'Spanish'\u001B[0m\u001B[1m]\u001B[0m,\n",
       "\u001B[2;32m│   │   \u001B[0m\u001B[32m'released'\u001B[0m: \u001B[1;35mdatetime.datetime\u001B[0m\u001B[1m(\u001B[0m\u001B[1;36m1946\u001B[0m, \u001B[1;36m11\u001B[0m, \u001B[1;36m16\u001B[0m, \u001B[1;36m0\u001B[0m, \u001B[1;36m0\u001B[0m\u001B[1m)\u001B[0m,\n",
       "\u001B[2;32m│   │   \u001B[0m\u001B[32m'directors'\u001B[0m: \u001B[1m[\u001B[0m\u001B[32m'Arthur Ripley'\u001B[0m\u001B[1m]\u001B[0m,\n",
       "\u001B[2;32m│   │   \u001B[0m\u001B[32m'writers'\u001B[0m: \u001B[1m[\u001B[0m\u001B[32m'Philip Yordan \u001B[0m\u001B[32m(\u001B[0m\u001B[32mwritten for the screen by\u001B[0m\u001B[32m)\u001B[0m\u001B[32m'\u001B[0m, \u001B[32m'Cornell Woolrich \u001B[0m\u001B[32m(\u001B[0m\u001B[32mbook\u001B[0m\u001B[32m)\u001B[0m\u001B[32m'\u001B[0m\u001B[1m]\u001B[0m,\n",
       "\u001B[2;32m│   │   \u001B[0m\u001B[32m'awards'\u001B[0m: \u001B[1m{\u001B[0m\u001B[32m'wins'\u001B[0m: \u001B[1;36m0\u001B[0m, \u001B[32m'nominations'\u001B[0m: \u001B[1;36m1\u001B[0m, \u001B[32m'text'\u001B[0m: \u001B[32m'1 nomination.'\u001B[0m\u001B[1m}\u001B[0m,\n",
       "\u001B[2;32m│   │   \u001B[0m\u001B[32m'lastupdated'\u001B[0m: \u001B[32m'2015-08-01 00:47:13.267000000'\u001B[0m,\n",
       "\u001B[2;32m│   │   \u001B[0m\u001B[32m'year'\u001B[0m: \u001B[1;36m1946\u001B[0m,\n",
       "\u001B[2;32m│   │   \u001B[0m\u001B[32m'imdb'\u001B[0m: \u001B[1m{\u001B[0m\u001B[32m'rating'\u001B[0m: \u001B[1;36m6.7\u001B[0m, \u001B[32m'votes'\u001B[0m: \u001B[1;36m766\u001B[0m, \u001B[32m'id'\u001B[0m: \u001B[1;36m38409\u001B[0m\u001B[1m}\u001B[0m,\n",
       "\u001B[2;32m│   │   \u001B[0m\u001B[32m'countries'\u001B[0m: \u001B[1m[\u001B[0m\u001B[32m'USA'\u001B[0m\u001B[1m]\u001B[0m,\n",
       "\u001B[2;32m│   │   \u001B[0m\u001B[32m'type'\u001B[0m: \u001B[32m'movie'\u001B[0m,\n",
       "\u001B[2;32m│   │   \u001B[0m\u001B[32m'tomatoes'\u001B[0m: \u001B[1m{\u001B[0m\n",
       "\u001B[2;32m│   │   │   \u001B[0m\u001B[32m'viewer'\u001B[0m: \u001B[1m{\u001B[0m\u001B[32m'rating'\u001B[0m: \u001B[1;36m3.2\u001B[0m, \u001B[32m'numReviews'\u001B[0m: \u001B[1;36m92\u001B[0m, \u001B[32m'meter'\u001B[0m: \u001B[1;36m40\u001B[0m\u001B[1m}\u001B[0m,\n",
       "\u001B[2;32m│   │   │   \u001B[0m\u001B[32m'dvd'\u001B[0m: \u001B[1;35mdatetime.datetime\u001B[0m\u001B[1m(\u001B[0m\u001B[1;36m2003\u001B[0m, \u001B[1;36m8\u001B[0m, \u001B[1;36m5\u001B[0m, \u001B[1;36m0\u001B[0m, \u001B[1;36m0\u001B[0m\u001B[1m)\u001B[0m,\n",
       "\u001B[2;32m│   │   │   \u001B[0m\u001B[32m'production'\u001B[0m: \u001B[32m'VCI'\u001B[0m,\n",
       "\u001B[2;32m│   │   │   \u001B[0m\u001B[32m'lastUpdated'\u001B[0m: \u001B[1;35mdatetime.datetime\u001B[0m\u001B[1m(\u001B[0m\u001B[1;36m2015\u001B[0m, \u001B[1;36m8\u001B[0m, \u001B[1;36m20\u001B[0m, \u001B[1;36m18\u001B[0m, \u001B[1;36m14\u001B[0m, \u001B[1;36m48\u001B[0m\u001B[1m)\u001B[0m\n",
       "\u001B[2;32m│   │   \u001B[0m\u001B[1m}\u001B[0m\n",
       "\u001B[2;32m│   \u001B[0m\u001B[1m}\u001B[0m,\n",
       "\u001B[2;32m│   \u001B[0m\u001B[1m{\u001B[0m\n",
       "\u001B[2;32m│   │   \u001B[0m\u001B[32m'_id'\u001B[0m: \u001B[1;35mObjectId\u001B[0m\u001B[1m(\u001B[0m\u001B[32m'573a1393f29313caabcde460'\u001B[0m\u001B[1m)\u001B[0m,\n",
       "\u001B[2;32m│   │   \u001B[0m\u001B[32m'plot'\u001B[0m: \u001B[32m\"Over-the-hill boxer Bill 'Stoker' Thompson insists he can still win, though his sexy wife Julie pleads with him to quit. But his manager Tiny is so confident he will lose, he takes money ...\"\u001B[0m,\n",
       "\u001B[2;32m│   │   \u001B[0m\u001B[32m'genres'\u001B[0m: \u001B[1m[\u001B[0m\u001B[32m'Film-Noir'\u001B[0m, \u001B[32m'Sport'\u001B[0m\u001B[1m]\u001B[0m,\n",
       "\u001B[2;32m│   │   \u001B[0m\u001B[32m'runtime'\u001B[0m: \u001B[1;36m73\u001B[0m,\n",
       "\u001B[2;32m│   │   \u001B[0m\u001B[32m'rated'\u001B[0m: \u001B[32m'APPROVED'\u001B[0m,\n",
       "\u001B[2;32m│   │   \u001B[0m\u001B[32m'cast'\u001B[0m: \u001B[1m[\u001B[0m\u001B[32m'Robert Ryan'\u001B[0m, \u001B[32m'Audrey Totter'\u001B[0m, \u001B[32m'George Tobias'\u001B[0m, \u001B[32m'Alan Baxter'\u001B[0m\u001B[1m]\u001B[0m,\n",
       "\u001B[2;32m│   │   \u001B[0m\u001B[32m'num_mflix_comments'\u001B[0m: \u001B[1;36m1\u001B[0m,\n",
       "\u001B[2;32m│   │   \u001B[0m\u001B[32m'poster'\u001B[0m: \u001B[32m'https://m.media-amazon.com/images/M/MV5BMjEwNjU3NzE1Nl5BMl5BanBnXkFtZTgwMjQ0MDgyMTE@._V1_SY1000_SX677_AL_.jpg'\u001B[0m,\n",
       "\u001B[2;32m│   │   \u001B[0m\u001B[32m'title'\u001B[0m: \u001B[32m'The Set-Up'\u001B[0m,\n",
       "\u001B[2;32m│   │   \u001B[0m\u001B[32m'fullplot'\u001B[0m: \u001B[32m'Over-the-hill boxer Bill \\'Stoker\\' Thompson insists he can still win, though his sexy wife Julie pleads with him to quit. But his manager Tiny is so confident he will lose, he takes money for a \"dive\" from tough gambler Little Boy...without bothering to tell Stoker. Tension builds as Stoker hopes to \"take\" Tiger Nelson, unaware of what will happen to him if he does.'\u001B[0m,\n",
       "\u001B[2;32m│   │   \u001B[0m\u001B[32m'languages'\u001B[0m: \u001B[1m[\u001B[0m\u001B[32m'English'\u001B[0m\u001B[1m]\u001B[0m,\n",
       "\u001B[2;32m│   │   \u001B[0m\u001B[32m'released'\u001B[0m: \u001B[1;35mdatetime.datetime\u001B[0m\u001B[1m(\u001B[0m\u001B[1;36m1949\u001B[0m, \u001B[1;36m4\u001B[0m, \u001B[1;36m2\u001B[0m, \u001B[1;36m0\u001B[0m, \u001B[1;36m0\u001B[0m\u001B[1m)\u001B[0m,\n",
       "\u001B[2;32m│   │   \u001B[0m\u001B[32m'directors'\u001B[0m: \u001B[1m[\u001B[0m\u001B[32m'Robert Wise'\u001B[0m\u001B[1m]\u001B[0m,\n",
       "\u001B[2;32m│   │   \u001B[0m\u001B[32m'writers'\u001B[0m: \u001B[1m[\u001B[0m\u001B[32m'Art Cohn \u001B[0m\u001B[32m(\u001B[0m\u001B[32mscreenplay\u001B[0m\u001B[32m)\u001B[0m\u001B[32m'\u001B[0m, \u001B[32m'Joseph Moncure March \u001B[0m\u001B[32m(\u001B[0m\u001B[32mfrom the poem by\u001B[0m\u001B[32m)\u001B[0m\u001B[32m'\u001B[0m\u001B[1m]\u001B[0m,\n",
       "\u001B[2;32m│   │   \u001B[0m\u001B[32m'awards'\u001B[0m: \u001B[1m{\u001B[0m\n",
       "\u001B[2;32m│   │   │   \u001B[0m\u001B[32m'wins'\u001B[0m: \u001B[1;36m3\u001B[0m,\n",
       "\u001B[2;32m│   │   │   \u001B[0m\u001B[32m'nominations'\u001B[0m: \u001B[1;36m1\u001B[0m,\n",
       "\u001B[2;32m│   │   │   \u001B[0m\u001B[32m'text'\u001B[0m: \u001B[32m'Nominated for 1 BAFTA Film Award. Another 2 wins & 1 nomination.'\u001B[0m\n",
       "\u001B[2;32m│   │   \u001B[0m\u001B[1m}\u001B[0m,\n",
       "\u001B[2;32m│   │   \u001B[0m\u001B[32m'lastupdated'\u001B[0m: \u001B[32m'2015-08-26 00:13:18.837000000'\u001B[0m,\n",
       "\u001B[2;32m│   │   \u001B[0m\u001B[32m'year'\u001B[0m: \u001B[1;36m1949\u001B[0m,\n",
       "\u001B[2;32m│   │   \u001B[0m\u001B[32m'imdb'\u001B[0m: \u001B[1m{\u001B[0m\u001B[32m'rating'\u001B[0m: \u001B[1;36m7.8\u001B[0m, \u001B[32m'votes'\u001B[0m: \u001B[1;36m5309\u001B[0m, \u001B[32m'id'\u001B[0m: \u001B[1;36m41859\u001B[0m\u001B[1m}\u001B[0m,\n",
       "\u001B[2;32m│   │   \u001B[0m\u001B[32m'countries'\u001B[0m: \u001B[1m[\u001B[0m\u001B[32m'USA'\u001B[0m\u001B[1m]\u001B[0m,\n",
       "\u001B[2;32m│   │   \u001B[0m\u001B[32m'type'\u001B[0m: \u001B[32m'movie'\u001B[0m,\n",
       "\u001B[2;32m│   │   \u001B[0m\u001B[32m'tomatoes'\u001B[0m: \u001B[1m{\u001B[0m\n",
       "\u001B[2;32m│   │   │   \u001B[0m\u001B[32m'viewer'\u001B[0m: \u001B[1m{\u001B[0m\u001B[32m'rating'\u001B[0m: \u001B[1;36m4\u001B[0m, \u001B[32m'numReviews'\u001B[0m: \u001B[1;36m1692\u001B[0m, \u001B[32m'meter'\u001B[0m: \u001B[1;36m88\u001B[0m\u001B[1m}\u001B[0m,\n",
       "\u001B[2;32m│   │   │   \u001B[0m\u001B[32m'dvd'\u001B[0m: \u001B[1;35mdatetime.datetime\u001B[0m\u001B[1m(\u001B[0m\u001B[1;36m2004\u001B[0m, \u001B[1;36m7\u001B[0m, \u001B[1;36m6\u001B[0m, \u001B[1;36m0\u001B[0m, \u001B[1;36m0\u001B[0m\u001B[1m)\u001B[0m,\n",
       "\u001B[2;32m│   │   │   \u001B[0m\u001B[32m'critic'\u001B[0m: \u001B[1m{\u001B[0m\u001B[32m'rating'\u001B[0m: \u001B[1;36m5.9\u001B[0m, \u001B[32m'numReviews'\u001B[0m: \u001B[1;36m7\u001B[0m, \u001B[32m'meter'\u001B[0m: \u001B[1;36m86\u001B[0m\u001B[1m}\u001B[0m,\n",
       "\u001B[2;32m│   │   │   \u001B[0m\u001B[32m'lastUpdated'\u001B[0m: \u001B[1;35mdatetime.datetime\u001B[0m\u001B[1m(\u001B[0m\u001B[1;36m2015\u001B[0m, \u001B[1;36m7\u001B[0m, \u001B[1;36m26\u001B[0m, \u001B[1;36m18\u001B[0m, \u001B[1;36m33\u001B[0m, \u001B[1;36m52\u001B[0m\u001B[1m)\u001B[0m,\n",
       "\u001B[2;32m│   │   │   \u001B[0m\u001B[32m'rotten'\u001B[0m: \u001B[1;36m1\u001B[0m,\n",
       "\u001B[2;32m│   │   │   \u001B[0m\u001B[32m'fresh'\u001B[0m: \u001B[1;36m6\u001B[0m\n",
       "\u001B[2;32m│   │   \u001B[0m\u001B[1m}\u001B[0m\n",
       "\u001B[2;32m│   \u001B[0m\u001B[1m}\u001B[0m,\n",
       "\u001B[2;32m│   \u001B[0m\u001B[1m{\u001B[0m\n",
       "\u001B[2;32m│   │   \u001B[0m\u001B[32m'_id'\u001B[0m: \u001B[1;35mObjectId\u001B[0m\u001B[1m(\u001B[0m\u001B[32m'573a1393f29313caabcde4cb'\u001B[0m\u001B[1m)\u001B[0m,\n",
       "\u001B[2;32m│   │   \u001B[0m\u001B[32m'plot'\u001B[0m: \u001B[32m'Pulp novelist Holly Martins travels to shadowy, postwar Vienna, only to find himself investigating the mysterious death of an old friend, Harry Lime.'\u001B[0m,\n",
       "\u001B[2;32m│   │   \u001B[0m\u001B[32m'genres'\u001B[0m: \u001B[1m[\u001B[0m\u001B[32m'Film-Noir'\u001B[0m, \u001B[32m'Mystery'\u001B[0m, \u001B[32m'Thriller'\u001B[0m\u001B[1m]\u001B[0m,\n",
       "\u001B[2;32m│   │   \u001B[0m\u001B[32m'runtime'\u001B[0m: \u001B[1;36m93\u001B[0m,\n",
       "\u001B[2;32m│   │   \u001B[0m\u001B[32m'rated'\u001B[0m: \u001B[32m'NOT RATED'\u001B[0m,\n",
       "\u001B[2;32m│   │   \u001B[0m\u001B[32m'cast'\u001B[0m: \u001B[1m[\u001B[0m\u001B[32m'Joseph Cotten'\u001B[0m, \u001B[32m'Alida Valli'\u001B[0m, \u001B[32m'Orson Welles'\u001B[0m, \u001B[32m'Trevor Howard'\u001B[0m\u001B[1m]\u001B[0m,\n",
       "\u001B[2;32m│   │   \u001B[0m\u001B[32m'poster'\u001B[0m: \u001B[32m'https://m.media-amazon.com/images/M/MV5BYjE2OTdhMWUtOGJlMy00ZDViLWIzZjgtYjZkZGZmMDZjYmEyXkEyXkFqcGdeQXVyNzkwMjQ5NzM@._V1_SY1000_SX677_AL_.jpg'\u001B[0m,\n",
       "\u001B[2;32m│   │   \u001B[0m\u001B[32m'title'\u001B[0m: \u001B[32m'The Third Man'\u001B[0m,\n",
       "\u001B[2;32m│   │   \u001B[0m\u001B[32m'fullplot'\u001B[0m: \u001B[32m\"An out of work pulp fiction novelist, Holly Martins, arrives in a post war Vienna divided into sectors by the victorious allies, and where a shortage of supplies has lead to a flourishing black market. He arrives at the invitation of an ex-school friend, Harry Lime, who has offered him a job, only to discover that Lime has recently died in a peculiar traffic accident. From talking to Lime's friends and associates Martins soon notices that some of the stories are inconsistent, and determines to discover what really happened to Harry Lime.\"\u001B[0m,\n",
       "\u001B[2;32m│   │   \u001B[0m\u001B[32m'languages'\u001B[0m: \u001B[1m[\u001B[0m\u001B[32m'English'\u001B[0m, \u001B[32m'German'\u001B[0m, \u001B[32m'Russian'\u001B[0m\u001B[1m]\u001B[0m,\n",
       "\u001B[2;32m│   │   \u001B[0m\u001B[32m'released'\u001B[0m: \u001B[1;35mdatetime.datetime\u001B[0m\u001B[1m(\u001B[0m\u001B[1;36m1949\u001B[0m, \u001B[1;36m8\u001B[0m, \u001B[1;36m31\u001B[0m, \u001B[1;36m0\u001B[0m, \u001B[1;36m0\u001B[0m\u001B[1m)\u001B[0m,\n",
       "\u001B[2;32m│   │   \u001B[0m\u001B[32m'directors'\u001B[0m: \u001B[1m[\u001B[0m\u001B[32m'Carol Reed'\u001B[0m\u001B[1m]\u001B[0m,\n",
       "\u001B[2;32m│   │   \u001B[0m\u001B[32m'writers'\u001B[0m: \u001B[1m[\u001B[0m\u001B[32m'Graham Greene \u001B[0m\u001B[32m(\u001B[0m\u001B[32mby\u001B[0m\u001B[32m)\u001B[0m\u001B[32m'\u001B[0m, \u001B[32m'Graham Greene \u001B[0m\u001B[32m(\u001B[0m\u001B[32mscreen play\u001B[0m\u001B[32m)\u001B[0m\u001B[32m'\u001B[0m\u001B[1m]\u001B[0m,\n",
       "\u001B[2;32m│   │   \u001B[0m\u001B[32m'awards'\u001B[0m: \u001B[1m{\u001B[0m\u001B[32m'wins'\u001B[0m: \u001B[1;36m5\u001B[0m, \u001B[32m'nominations'\u001B[0m: \u001B[1;36m4\u001B[0m, \u001B[32m'text'\u001B[0m: \u001B[32m'Won 1 Oscar. Another 4 wins & 4 nominations.'\u001B[0m\u001B[1m}\u001B[0m,\n",
       "\u001B[2;32m│   │   \u001B[0m\u001B[32m'lastupdated'\u001B[0m: \u001B[32m'2015-09-05 00:01:22.347000000'\u001B[0m,\n",
       "\u001B[2;32m│   │   \u001B[0m\u001B[32m'year'\u001B[0m: \u001B[1;36m1949\u001B[0m,\n",
       "\u001B[2;32m│   │   \u001B[0m\u001B[32m'imdb'\u001B[0m: \u001B[1m{\u001B[0m\u001B[32m'rating'\u001B[0m: \u001B[1;36m8.3\u001B[0m, \u001B[32m'votes'\u001B[0m: \u001B[1;36m102915\u001B[0m, \u001B[32m'id'\u001B[0m: \u001B[1;36m41959\u001B[0m\u001B[1m}\u001B[0m,\n",
       "\u001B[2;32m│   │   \u001B[0m\u001B[32m'countries'\u001B[0m: \u001B[1m[\u001B[0m\u001B[32m'UK'\u001B[0m\u001B[1m]\u001B[0m,\n",
       "\u001B[2;32m│   │   \u001B[0m\u001B[32m'type'\u001B[0m: \u001B[32m'movie'\u001B[0m,\n",
       "\u001B[2;32m│   │   \u001B[0m\u001B[32m'tomatoes'\u001B[0m: \u001B[1m{\u001B[0m\n",
       "\u001B[2;32m│   │   │   \u001B[0m\u001B[32m'website'\u001B[0m: \u001B[32m'http://www.rialtopictures.com/thirdman'\u001B[0m,\n",
       "\u001B[2;32m│   │   │   \u001B[0m\u001B[32m'viewer'\u001B[0m: \u001B[1m{\u001B[0m\u001B[32m'rating'\u001B[0m: \u001B[1;36m4.3\u001B[0m, \u001B[32m'numReviews'\u001B[0m: \u001B[1;36m51770\u001B[0m, \u001B[32m'meter'\u001B[0m: \u001B[1;36m94\u001B[0m\u001B[1m}\u001B[0m,\n",
       "\u001B[2;32m│   │   │   \u001B[0m\u001B[32m'dvd'\u001B[0m: \u001B[1;35mdatetime.datetime\u001B[0m\u001B[1m(\u001B[0m\u001B[1;36m1999\u001B[0m, \u001B[1;36m11\u001B[0m, \u001B[1;36m30\u001B[0m, \u001B[1;36m0\u001B[0m, \u001B[1;36m0\u001B[0m\u001B[1m)\u001B[0m,\n",
       "\u001B[2;32m│   │   │   \u001B[0m\u001B[32m'critic'\u001B[0m: \u001B[1m{\u001B[0m\u001B[32m'rating'\u001B[0m: \u001B[1;36m9.3\u001B[0m, \u001B[32m'numReviews'\u001B[0m: \u001B[1;36m76\u001B[0m, \u001B[32m'meter'\u001B[0m: \u001B[1;36m100\u001B[0m\u001B[1m}\u001B[0m,\n",
       "\u001B[2;32m│   │   │   \u001B[0m\u001B[32m'boxOffice'\u001B[0m: \u001B[32m'$0.4M'\u001B[0m,\n",
       "\u001B[2;32m│   │   │   \u001B[0m\u001B[32m'consensus'\u001B[0m: \u001B[32m'This atmospheric thriller is one of the undisputed masterpieces of cinema, and boasts iconic performances from Joseph Cotten and Orson Welles.'\u001B[0m,\n",
       "\u001B[2;32m│   │   │   \u001B[0m\u001B[32m'rotten'\u001B[0m: \u001B[1;36m0\u001B[0m,\n",
       "\u001B[2;32m│   │   │   \u001B[0m\u001B[32m'production'\u001B[0m: \u001B[32m'Rialto Pictures'\u001B[0m,\n",
       "\u001B[2;32m│   │   │   \u001B[0m\u001B[32m'lastUpdated'\u001B[0m: \u001B[1;35mdatetime.datetime\u001B[0m\u001B[1m(\u001B[0m\u001B[1;36m2015\u001B[0m, \u001B[1;36m9\u001B[0m, \u001B[1;36m17\u001B[0m, \u001B[1;36m17\u001B[0m, \u001B[1;36m25\u001B[0m, \u001B[1;36m35\u001B[0m\u001B[1m)\u001B[0m,\n",
       "\u001B[2;32m│   │   │   \u001B[0m\u001B[32m'fresh'\u001B[0m: \u001B[1;36m76\u001B[0m\n",
       "\u001B[2;32m│   │   \u001B[0m\u001B[1m}\u001B[0m\n",
       "\u001B[2;32m│   \u001B[0m\u001B[1m}\u001B[0m\n",
       "\u001B[1m]\u001B[0m\n"
      ]
     },
     "metadata": {},
     "output_type": "display_data"
    }
   ],
   "source": [
    "cursor = sample_mflix_db.movies.find(\n",
    "    {\n",
    "        \"genres.0\": {\"$in\": [\"Film-Noir\", \"Horror\"]},\n",
    "        \"year\": {\"$gte\": 1940, \"$lte\": 1949},\n",
    "    }\n",
    ")\n",
    "\n",
    "print(\"[bold]Фильмы жанра Film-Noir или Horror, выпущенные в 1940-1949 гг.:[/bold]\")\n",
    "pprint(list(cursor))\n"
   ]
  },
  {
   "cell_type": "markdown",
   "metadata": {
    "id": "B56JNDs88fnh"
   },
   "source": [
    "#### Задача 1.5 — **1 балл**"
   ]
  },
  {
   "cell_type": "markdown",
   "metadata": {
    "id": "VvFx2iL98mTQ"
   },
   "source": [
    "Модифицируйте запрос из задачи 1.4 таким образом, чтобы осуществить _проекцию_: результатом выборки должен стать список словарей, каждый из которых содержит только два поля: `title` и `year`.\n",
    "\n",
    "Для справки о проекции см. документацию по методу `find()` в pymongo:\n",
    "https://pymongo.readthedocs.io/en/stable/api/pymongo/collection.html#pymongo.collection.Collection.find"
   ]
  },
  {
   "cell_type": "code",
   "execution_count": 7,
   "metadata": {
    "ExecuteTime": {
     "end_time": "2024-02-28T00:09:14.673495Z",
     "start_time": "2024-02-28T00:09:14.646277Z"
    },
    "id": "tnkwb6HXY014"
   },
   "outputs": [
    {
     "data": {
      "text/html": [
       "<pre style=\"white-space:pre;overflow-x:auto;line-height:normal;font-family:Menlo,'DejaVu Sans Mono',consolas,'Courier New',monospace\"><span style=\"font-weight: bold\">Фильмы жанра Film-Noir или Horror, выпущенные в </span><span style=\"color: #008080; text-decoration-color: #008080; font-weight: bold\">1940</span><span style=\"font-weight: bold\">-</span><span style=\"color: #008080; text-decoration-color: #008080; font-weight: bold\">1949</span><span style=\"font-weight: bold\"> гг. (проекция):</span>\n",
       "</pre>\n"
      ],
      "text/plain": [
       "\u001B[1mФильмы жанра Film-Noir или Horror, выпущенные в \u001B[0m\u001B[1;36m1940\u001B[0m\u001B[1m-\u001B[0m\u001B[1;36m1949\u001B[0m\u001B[1m гг. \u001B[0m\u001B[1m(\u001B[0m\u001B[1mпроекция\u001B[0m\u001B[1m)\u001B[0m\u001B[1m:\u001B[0m\n"
      ]
     },
     "metadata": {},
     "output_type": "display_data"
    },
    {
     "data": {
      "text/html": [
       "<pre style=\"white-space:pre;overflow-x:auto;line-height:normal;font-family:Menlo,'DejaVu Sans Mono',consolas,'Courier New',monospace\"><span style=\"font-weight: bold\">[</span>\n",
       "<span style=\"color: #7fbf7f; text-decoration-color: #7fbf7f\">│   </span><span style=\"font-weight: bold\">{</span><span style=\"color: #008000; text-decoration-color: #008000\">'title'</span>: <span style=\"color: #008000; text-decoration-color: #008000\">'Cat People'</span>, <span style=\"color: #008000; text-decoration-color: #008000\">'year'</span>: <span style=\"color: #008080; text-decoration-color: #008080; font-weight: bold\">1942</span><span style=\"font-weight: bold\">}</span>,\n",
       "<span style=\"color: #7fbf7f; text-decoration-color: #7fbf7f\">│   </span><span style=\"font-weight: bold\">{</span><span style=\"color: #008000; text-decoration-color: #008000\">'title'</span>: <span style=\"color: #008000; text-decoration-color: #008000\">'I Walked with a Zombie'</span>, <span style=\"color: #008000; text-decoration-color: #008000\">'year'</span>: <span style=\"color: #008080; text-decoration-color: #008080; font-weight: bold\">1943</span><span style=\"font-weight: bold\">}</span>,\n",
       "<span style=\"color: #7fbf7f; text-decoration-color: #7fbf7f\">│   </span><span style=\"font-weight: bold\">{</span><span style=\"color: #008000; text-decoration-color: #008000\">'title'</span>: <span style=\"color: #008000; text-decoration-color: #008000\">'The Leopard Man'</span>, <span style=\"color: #008000; text-decoration-color: #008000\">'year'</span>: <span style=\"color: #008080; text-decoration-color: #008080; font-weight: bold\">1943</span><span style=\"font-weight: bold\">}</span>,\n",
       "<span style=\"color: #7fbf7f; text-decoration-color: #7fbf7f\">│   </span><span style=\"font-weight: bold\">{</span><span style=\"color: #008000; text-decoration-color: #008000\">'title'</span>: <span style=\"color: #008000; text-decoration-color: #008000\">'The Body Snatcher'</span>, <span style=\"color: #008000; text-decoration-color: #008000\">'year'</span>: <span style=\"color: #008080; text-decoration-color: #008080; font-weight: bold\">1945</span><span style=\"font-weight: bold\">}</span>,\n",
       "<span style=\"color: #7fbf7f; text-decoration-color: #7fbf7f\">│   </span><span style=\"font-weight: bold\">{</span><span style=\"color: #008000; text-decoration-color: #008000\">'title'</span>: <span style=\"color: #008000; text-decoration-color: #008000\">'Dead of Night'</span>, <span style=\"color: #008000; text-decoration-color: #008000\">'year'</span>: <span style=\"color: #008080; text-decoration-color: #008080; font-weight: bold\">1945</span><span style=\"font-weight: bold\">}</span>,\n",
       "<span style=\"color: #7fbf7f; text-decoration-color: #7fbf7f\">│   </span><span style=\"font-weight: bold\">{</span><span style=\"color: #008000; text-decoration-color: #008000\">'title'</span>: <span style=\"color: #008000; text-decoration-color: #008000\">'Spellbound'</span>, <span style=\"color: #008000; text-decoration-color: #008000\">'year'</span>: <span style=\"color: #008080; text-decoration-color: #008080; font-weight: bold\">1945</span><span style=\"font-weight: bold\">}</span>,\n",
       "<span style=\"color: #7fbf7f; text-decoration-color: #7fbf7f\">│   </span><span style=\"font-weight: bold\">{</span><span style=\"color: #008000; text-decoration-color: #008000\">'title'</span>: <span style=\"color: #008000; text-decoration-color: #008000\">'The Chase'</span>, <span style=\"color: #008000; text-decoration-color: #008000\">'year'</span>: <span style=\"color: #008080; text-decoration-color: #008080; font-weight: bold\">1946</span><span style=\"font-weight: bold\">}</span>,\n",
       "<span style=\"color: #7fbf7f; text-decoration-color: #7fbf7f\">│   </span><span style=\"font-weight: bold\">{</span><span style=\"color: #008000; text-decoration-color: #008000\">'title'</span>: <span style=\"color: #008000; text-decoration-color: #008000\">'The Set-Up'</span>, <span style=\"color: #008000; text-decoration-color: #008000\">'year'</span>: <span style=\"color: #008080; text-decoration-color: #008080; font-weight: bold\">1949</span><span style=\"font-weight: bold\">}</span>,\n",
       "<span style=\"color: #7fbf7f; text-decoration-color: #7fbf7f\">│   </span><span style=\"font-weight: bold\">{</span><span style=\"color: #008000; text-decoration-color: #008000\">'title'</span>: <span style=\"color: #008000; text-decoration-color: #008000\">'The Third Man'</span>, <span style=\"color: #008000; text-decoration-color: #008000\">'year'</span>: <span style=\"color: #008080; text-decoration-color: #008080; font-weight: bold\">1949</span><span style=\"font-weight: bold\">}</span>\n",
       "<span style=\"font-weight: bold\">]</span>\n",
       "</pre>\n"
      ],
      "text/plain": [
       "\u001B[1m[\u001B[0m\n",
       "\u001B[2;32m│   \u001B[0m\u001B[1m{\u001B[0m\u001B[32m'title'\u001B[0m: \u001B[32m'Cat People'\u001B[0m, \u001B[32m'year'\u001B[0m: \u001B[1;36m1942\u001B[0m\u001B[1m}\u001B[0m,\n",
       "\u001B[2;32m│   \u001B[0m\u001B[1m{\u001B[0m\u001B[32m'title'\u001B[0m: \u001B[32m'I Walked with a Zombie'\u001B[0m, \u001B[32m'year'\u001B[0m: \u001B[1;36m1943\u001B[0m\u001B[1m}\u001B[0m,\n",
       "\u001B[2;32m│   \u001B[0m\u001B[1m{\u001B[0m\u001B[32m'title'\u001B[0m: \u001B[32m'The Leopard Man'\u001B[0m, \u001B[32m'year'\u001B[0m: \u001B[1;36m1943\u001B[0m\u001B[1m}\u001B[0m,\n",
       "\u001B[2;32m│   \u001B[0m\u001B[1m{\u001B[0m\u001B[32m'title'\u001B[0m: \u001B[32m'The Body Snatcher'\u001B[0m, \u001B[32m'year'\u001B[0m: \u001B[1;36m1945\u001B[0m\u001B[1m}\u001B[0m,\n",
       "\u001B[2;32m│   \u001B[0m\u001B[1m{\u001B[0m\u001B[32m'title'\u001B[0m: \u001B[32m'Dead of Night'\u001B[0m, \u001B[32m'year'\u001B[0m: \u001B[1;36m1945\u001B[0m\u001B[1m}\u001B[0m,\n",
       "\u001B[2;32m│   \u001B[0m\u001B[1m{\u001B[0m\u001B[32m'title'\u001B[0m: \u001B[32m'Spellbound'\u001B[0m, \u001B[32m'year'\u001B[0m: \u001B[1;36m1945\u001B[0m\u001B[1m}\u001B[0m,\n",
       "\u001B[2;32m│   \u001B[0m\u001B[1m{\u001B[0m\u001B[32m'title'\u001B[0m: \u001B[32m'The Chase'\u001B[0m, \u001B[32m'year'\u001B[0m: \u001B[1;36m1946\u001B[0m\u001B[1m}\u001B[0m,\n",
       "\u001B[2;32m│   \u001B[0m\u001B[1m{\u001B[0m\u001B[32m'title'\u001B[0m: \u001B[32m'The Set-Up'\u001B[0m, \u001B[32m'year'\u001B[0m: \u001B[1;36m1949\u001B[0m\u001B[1m}\u001B[0m,\n",
       "\u001B[2;32m│   \u001B[0m\u001B[1m{\u001B[0m\u001B[32m'title'\u001B[0m: \u001B[32m'The Third Man'\u001B[0m, \u001B[32m'year'\u001B[0m: \u001B[1;36m1949\u001B[0m\u001B[1m}\u001B[0m\n",
       "\u001B[1m]\u001B[0m\n"
      ]
     },
     "metadata": {},
     "output_type": "display_data"
    }
   ],
   "source": [
    "cursor = sample_mflix_db.movies.find(\n",
    "    {\n",
    "        \"genres.0\": {\"$in\": [\"Film-Noir\", \"Horror\"]},\n",
    "        \"year\": {\"$gte\": 1940, \"$lte\": 1949},\n",
    "    },\n",
    "    {\"title\": 1, \"year\": 1, \"_id\": 0},\n",
    ")\n",
    "\n",
    "print(\"[bold]Фильмы жанра Film-Noir или Horror, выпущенные в 1940-1949 гг. (проекция):[/bold]\")\n",
    "pprint(list(cursor))\n"
   ]
  },
  {
   "cell_type": "markdown",
   "metadata": {
    "id": "tzx1nDQ08ojw"
   },
   "source": [
    "### Упражнение 2. Конвейер агрегации"
   ]
  },
  {
   "cell_type": "markdown",
   "metadata": {
    "id": "nx6axWfJbBbc"
   },
   "source": [
    "#### Задача 2.1 — **3 балла**"
   ]
  },
  {
   "cell_type": "markdown",
   "metadata": {
    "id": "oj1sBQtGbLNQ"
   },
   "source": [
    "В рамках этой задачи требуется узнать, какие фильмы получили наибольшее число комментариев. Составьте для этого конвейер агрегации с перечисленными ниже этапами. Для удобства рекомендуется воспользоваться приложением Compass.\n",
    "\n",
    "1. Сгруппировать документы коллекции `comments` по полю `movie_id` и подсчитать количество комментариев для каждого фильма, записав его в поле `count`.\n",
    "1. Отсортировать получившийся набор данных по убыванию количества комментариев (так чтобы первый документ в этом наборе указывал на фильм с наибольшим количеством комментариев).\n",
    "1. Используя оператор `$lookup`, присоединить коллекцию `movies` (по полю `movie_id`).\n",
    "1. Выполнить проекцию, оставив в наборе данных только три поля: название фильма (`title`), год выпуска (`year`) и количество комментариев (поле `count`, добавленное на первом этапе). Для этого воспользуйтесь оператором `$project`: https://www.mongodb.com/docs/manual/reference/operator/aggregation/project/. Обратите внимание, что данные из коллекции `movies` (`title` и `year`) на этом этапе окажутся внутри массива.\n",
    "1. Применить оператор `$unwind`, чтобы деконструировать этот массив. См. https://www.mongodb.com/docs/manual/reference/operator/aggregation/unwind/. В результате массив должен превратиться в одиночный объект.\n",
    "1. Применить оператор `$addFields`, чтобы добавить поля `title` и `year` на вернхий уровень структуры документа. См. https://www.mongodb.com/docs/manual/reference/operator/aggregation/addFields/.\n",
    "1. Еще раз выполнить проекцию, чтобы удалить поле с массивом.\n",
    "\n",
    "Ваш алгоритм решения может отличаться от приведенного здесь. Главное — достичь цели: получить плоский набор данных с тремя полями (`count` — количество комментариев, `year` — год выпуска, `title` — название фильма).\n",
    "\n",
    "Скопируйте полученный конвейер в этот документ в виде кода на Python и выведите его на экран в виде списка словарей."
   ]
  },
  {
   "cell_type": "code",
   "execution_count": 15,
   "metadata": {
    "id": "MSI2ITxZjMk2",
    "ExecuteTime": {
     "end_time": "2024-02-28T00:27:14.166596Z",
     "start_time": "2024-02-28T00:27:13.721060Z"
    }
   },
   "outputs": [
    {
     "data": {
      "text/plain": "      Количество комментариев             Название фильма Год выпуска\n0                         161  The Taking of Pelham 1 2 3        2009\n1                         158                 About a Boy        2002\n2                         158        Terminator Salvation        2009\n3                         158              Ocean's Eleven        2001\n4                         158              50 First Dates        2004\n...                       ...                         ...         ...\n7444                        1             Big Top Pee-wee        1988\n7445                        1             Anjaana Anjaani        2010\n7446                        1               The Dynamiter        2011\n7447                        1     Flight of the Navigator        1986\n7448                        1                      Domino        2005\n\n[7449 rows x 3 columns]",
      "text/html": "<div>\n<style scoped>\n    .dataframe tbody tr th:only-of-type {\n        vertical-align: middle;\n    }\n\n    .dataframe tbody tr th {\n        vertical-align: top;\n    }\n\n    .dataframe thead th {\n        text-align: right;\n    }\n</style>\n<table border=\"1\" class=\"dataframe\">\n  <thead>\n    <tr style=\"text-align: right;\">\n      <th></th>\n      <th>Количество комментариев</th>\n      <th>Название фильма</th>\n      <th>Год выпуска</th>\n    </tr>\n  </thead>\n  <tbody>\n    <tr>\n      <th>0</th>\n      <td>161</td>\n      <td>The Taking of Pelham 1 2 3</td>\n      <td>2009</td>\n    </tr>\n    <tr>\n      <th>1</th>\n      <td>158</td>\n      <td>About a Boy</td>\n      <td>2002</td>\n    </tr>\n    <tr>\n      <th>2</th>\n      <td>158</td>\n      <td>Terminator Salvation</td>\n      <td>2009</td>\n    </tr>\n    <tr>\n      <th>3</th>\n      <td>158</td>\n      <td>Ocean's Eleven</td>\n      <td>2001</td>\n    </tr>\n    <tr>\n      <th>4</th>\n      <td>158</td>\n      <td>50 First Dates</td>\n      <td>2004</td>\n    </tr>\n    <tr>\n      <th>...</th>\n      <td>...</td>\n      <td>...</td>\n      <td>...</td>\n    </tr>\n    <tr>\n      <th>7444</th>\n      <td>1</td>\n      <td>Big Top Pee-wee</td>\n      <td>1988</td>\n    </tr>\n    <tr>\n      <th>7445</th>\n      <td>1</td>\n      <td>Anjaana Anjaani</td>\n      <td>2010</td>\n    </tr>\n    <tr>\n      <th>7446</th>\n      <td>1</td>\n      <td>The Dynamiter</td>\n      <td>2011</td>\n    </tr>\n    <tr>\n      <th>7447</th>\n      <td>1</td>\n      <td>Flight of the Navigator</td>\n      <td>1986</td>\n    </tr>\n    <tr>\n      <th>7448</th>\n      <td>1</td>\n      <td>Domino</td>\n      <td>2005</td>\n    </tr>\n  </tbody>\n</table>\n<p>7449 rows × 3 columns</p>\n</div>"
     },
     "execution_count": 15,
     "metadata": {},
     "output_type": "execute_result"
    }
   ],
   "source": [
    "import pandas as pd\n",
    "\n",
    "cursor = sample_mflix_db.comments.aggregate(\n",
    "    [\n",
    "        {\n",
    "            \"$group\": {\n",
    "                \"_id\": \"$movie_id\",\n",
    "                \"count\": {\"$sum\": 1},\n",
    "            },\n",
    "        },\n",
    "        {\n",
    "            \"$sort\": {\"count\": -1},\n",
    "        },\n",
    "        {\n",
    "            \"$lookup\": {\n",
    "                \"from\": \"movies\",\n",
    "                \"localField\": \"_id\",\n",
    "                \"foreignField\": \"_id\",\n",
    "                \"as\": \"movie\",\n",
    "            },\n",
    "        },\n",
    "        {\n",
    "            \"$project\": {\n",
    "                \"title\": {\"$arrayElemAt\": [\"$movie.title\", 0]},\n",
    "                \"year\": {\"$arrayElemAt\": [\"$movie.year\", 0]},\n",
    "                \"count\": 1,\n",
    "                \"_id\": 0,\n",
    "            },\n",
    "        },\n",
    "        {\n",
    "            \"$match\": {\n",
    "                \"title\": {\"$exists\": True}\n",
    "            },\n",
    "        },\n",
    "    ]\n",
    ")\n",
    "\n",
    "df = pd.DataFrame(list(cursor))\n",
    "df.columns = [\"Количество комментариев\", \"Название фильма\",  \"Год выпуска\"]\n",
    "df"
   ]
  },
  {
   "cell_type": "markdown",
   "metadata": {
    "id": "AFZpD6MVqVff"
   },
   "source": [
    "#### Задача 2.2 — **1 балл**"
   ]
  },
  {
   "cell_type": "markdown",
   "metadata": {
    "id": "fqF1_fs1qWvj"
   },
   "source": [
    "Используя данные, полученные в задаче 2.1, выведите на экран столбчатую диаграмму, показывающую топ-20 наиболее комментируемых фильмов. По оси ординат выведите названия этих фильмов (подписи разместите слева диаграммы), по оси абсцисс — количество комментариев.\n",
    "\n",
    "Для решения задачи можно использовать любую библиотеку, например Seaborn или Matplotlib."
   ]
  },
  {
   "cell_type": "code",
   "execution_count": 36,
   "metadata": {
    "id": "J17JdNLymo5k",
    "ExecuteTime": {
     "end_time": "2024-02-28T00:36:56.369693Z",
     "start_time": "2024-02-28T00:36:56.344539Z"
    }
   },
   "outputs": [
    {
     "data": {
      "application/vnd.plotly.v1+json": {
       "data": [
        {
         "alignmentgroup": "True",
         "hovertemplate": "Количество комментариев=%{x}<br>Название фильма=%{y}<extra></extra>",
         "legendgroup": "",
         "marker": {
          "color": "#636efa",
          "pattern": {
           "shape": ""
          }
         },
         "name": "",
         "offsetgroup": "",
         "orientation": "h",
         "showlegend": false,
         "textposition": "auto",
         "x": [
          152,
          152,
          153,
          153,
          153,
          153,
          153,
          153,
          153,
          153,
          154,
          154,
          155,
          157,
          157,
          158,
          158,
          158,
          158,
          161
         ],
         "xaxis": "x",
         "y": [
          "The Ring",
          "Gladiator",
          "American Pie",
          "Cinderella",
          "Bruce Almighty",
          "Mission: Impossible",
          "Pirates of the Caribbean: At World's End",
          "Wanted",
          "E.T. the Extra-Terrestrial",
          "X-Men",
          "Anchorman: The Legend of Ron Burgundy",
          "The Mummy Returns",
          "Hellboy II: The Golden Army",
          "Sherlock Holmes",
          "The Mummy",
          "50 First Dates",
          "Ocean's Eleven",
          "Terminator Salvation",
          "About a Boy",
          "The Taking of Pelham 1 2 3"
         ],
         "yaxis": "y",
         "type": "bar"
        }
       ],
       "layout": {
        "template": {
         "data": {
          "histogram2dcontour": [
           {
            "type": "histogram2dcontour",
            "colorbar": {
             "outlinewidth": 0,
             "ticks": ""
            },
            "colorscale": [
             [
              0.0,
              "#0d0887"
             ],
             [
              0.1111111111111111,
              "#46039f"
             ],
             [
              0.2222222222222222,
              "#7201a8"
             ],
             [
              0.3333333333333333,
              "#9c179e"
             ],
             [
              0.4444444444444444,
              "#bd3786"
             ],
             [
              0.5555555555555556,
              "#d8576b"
             ],
             [
              0.6666666666666666,
              "#ed7953"
             ],
             [
              0.7777777777777778,
              "#fb9f3a"
             ],
             [
              0.8888888888888888,
              "#fdca26"
             ],
             [
              1.0,
              "#f0f921"
             ]
            ]
           }
          ],
          "choropleth": [
           {
            "type": "choropleth",
            "colorbar": {
             "outlinewidth": 0,
             "ticks": ""
            }
           }
          ],
          "histogram2d": [
           {
            "type": "histogram2d",
            "colorbar": {
             "outlinewidth": 0,
             "ticks": ""
            },
            "colorscale": [
             [
              0.0,
              "#0d0887"
             ],
             [
              0.1111111111111111,
              "#46039f"
             ],
             [
              0.2222222222222222,
              "#7201a8"
             ],
             [
              0.3333333333333333,
              "#9c179e"
             ],
             [
              0.4444444444444444,
              "#bd3786"
             ],
             [
              0.5555555555555556,
              "#d8576b"
             ],
             [
              0.6666666666666666,
              "#ed7953"
             ],
             [
              0.7777777777777778,
              "#fb9f3a"
             ],
             [
              0.8888888888888888,
              "#fdca26"
             ],
             [
              1.0,
              "#f0f921"
             ]
            ]
           }
          ],
          "heatmap": [
           {
            "type": "heatmap",
            "colorbar": {
             "outlinewidth": 0,
             "ticks": ""
            },
            "colorscale": [
             [
              0.0,
              "#0d0887"
             ],
             [
              0.1111111111111111,
              "#46039f"
             ],
             [
              0.2222222222222222,
              "#7201a8"
             ],
             [
              0.3333333333333333,
              "#9c179e"
             ],
             [
              0.4444444444444444,
              "#bd3786"
             ],
             [
              0.5555555555555556,
              "#d8576b"
             ],
             [
              0.6666666666666666,
              "#ed7953"
             ],
             [
              0.7777777777777778,
              "#fb9f3a"
             ],
             [
              0.8888888888888888,
              "#fdca26"
             ],
             [
              1.0,
              "#f0f921"
             ]
            ]
           }
          ],
          "heatmapgl": [
           {
            "type": "heatmapgl",
            "colorbar": {
             "outlinewidth": 0,
             "ticks": ""
            },
            "colorscale": [
             [
              0.0,
              "#0d0887"
             ],
             [
              0.1111111111111111,
              "#46039f"
             ],
             [
              0.2222222222222222,
              "#7201a8"
             ],
             [
              0.3333333333333333,
              "#9c179e"
             ],
             [
              0.4444444444444444,
              "#bd3786"
             ],
             [
              0.5555555555555556,
              "#d8576b"
             ],
             [
              0.6666666666666666,
              "#ed7953"
             ],
             [
              0.7777777777777778,
              "#fb9f3a"
             ],
             [
              0.8888888888888888,
              "#fdca26"
             ],
             [
              1.0,
              "#f0f921"
             ]
            ]
           }
          ],
          "contourcarpet": [
           {
            "type": "contourcarpet",
            "colorbar": {
             "outlinewidth": 0,
             "ticks": ""
            }
           }
          ],
          "contour": [
           {
            "type": "contour",
            "colorbar": {
             "outlinewidth": 0,
             "ticks": ""
            },
            "colorscale": [
             [
              0.0,
              "#0d0887"
             ],
             [
              0.1111111111111111,
              "#46039f"
             ],
             [
              0.2222222222222222,
              "#7201a8"
             ],
             [
              0.3333333333333333,
              "#9c179e"
             ],
             [
              0.4444444444444444,
              "#bd3786"
             ],
             [
              0.5555555555555556,
              "#d8576b"
             ],
             [
              0.6666666666666666,
              "#ed7953"
             ],
             [
              0.7777777777777778,
              "#fb9f3a"
             ],
             [
              0.8888888888888888,
              "#fdca26"
             ],
             [
              1.0,
              "#f0f921"
             ]
            ]
           }
          ],
          "surface": [
           {
            "type": "surface",
            "colorbar": {
             "outlinewidth": 0,
             "ticks": ""
            },
            "colorscale": [
             [
              0.0,
              "#0d0887"
             ],
             [
              0.1111111111111111,
              "#46039f"
             ],
             [
              0.2222222222222222,
              "#7201a8"
             ],
             [
              0.3333333333333333,
              "#9c179e"
             ],
             [
              0.4444444444444444,
              "#bd3786"
             ],
             [
              0.5555555555555556,
              "#d8576b"
             ],
             [
              0.6666666666666666,
              "#ed7953"
             ],
             [
              0.7777777777777778,
              "#fb9f3a"
             ],
             [
              0.8888888888888888,
              "#fdca26"
             ],
             [
              1.0,
              "#f0f921"
             ]
            ]
           }
          ],
          "mesh3d": [
           {
            "type": "mesh3d",
            "colorbar": {
             "outlinewidth": 0,
             "ticks": ""
            }
           }
          ],
          "scatter": [
           {
            "marker": {
             "line": {
              "color": "#283442"
             }
            },
            "type": "scatter"
           }
          ],
          "parcoords": [
           {
            "type": "parcoords",
            "line": {
             "colorbar": {
              "outlinewidth": 0,
              "ticks": ""
             }
            }
           }
          ],
          "scatterpolargl": [
           {
            "type": "scatterpolargl",
            "marker": {
             "colorbar": {
              "outlinewidth": 0,
              "ticks": ""
             }
            }
           }
          ],
          "bar": [
           {
            "error_x": {
             "color": "#f2f5fa"
            },
            "error_y": {
             "color": "#f2f5fa"
            },
            "marker": {
             "line": {
              "color": "rgb(17,17,17)",
              "width": 0.5
             },
             "pattern": {
              "fillmode": "overlay",
              "size": 10,
              "solidity": 0.2
             }
            },
            "type": "bar"
           }
          ],
          "scattergeo": [
           {
            "type": "scattergeo",
            "marker": {
             "colorbar": {
              "outlinewidth": 0,
              "ticks": ""
             }
            }
           }
          ],
          "scatterpolar": [
           {
            "type": "scatterpolar",
            "marker": {
             "colorbar": {
              "outlinewidth": 0,
              "ticks": ""
             }
            }
           }
          ],
          "histogram": [
           {
            "marker": {
             "pattern": {
              "fillmode": "overlay",
              "size": 10,
              "solidity": 0.2
             }
            },
            "type": "histogram"
           }
          ],
          "scattergl": [
           {
            "marker": {
             "line": {
              "color": "#283442"
             }
            },
            "type": "scattergl"
           }
          ],
          "scatter3d": [
           {
            "type": "scatter3d",
            "line": {
             "colorbar": {
              "outlinewidth": 0,
              "ticks": ""
             }
            },
            "marker": {
             "colorbar": {
              "outlinewidth": 0,
              "ticks": ""
             }
            }
           }
          ],
          "scattermapbox": [
           {
            "type": "scattermapbox",
            "marker": {
             "colorbar": {
              "outlinewidth": 0,
              "ticks": ""
             }
            }
           }
          ],
          "scatterternary": [
           {
            "type": "scatterternary",
            "marker": {
             "colorbar": {
              "outlinewidth": 0,
              "ticks": ""
             }
            }
           }
          ],
          "scattercarpet": [
           {
            "type": "scattercarpet",
            "marker": {
             "colorbar": {
              "outlinewidth": 0,
              "ticks": ""
             }
            }
           }
          ],
          "carpet": [
           {
            "aaxis": {
             "endlinecolor": "#A2B1C6",
             "gridcolor": "#506784",
             "linecolor": "#506784",
             "minorgridcolor": "#506784",
             "startlinecolor": "#A2B1C6"
            },
            "baxis": {
             "endlinecolor": "#A2B1C6",
             "gridcolor": "#506784",
             "linecolor": "#506784",
             "minorgridcolor": "#506784",
             "startlinecolor": "#A2B1C6"
            },
            "type": "carpet"
           }
          ],
          "table": [
           {
            "cells": {
             "fill": {
              "color": "#506784"
             },
             "line": {
              "color": "rgb(17,17,17)"
             }
            },
            "header": {
             "fill": {
              "color": "#2a3f5f"
             },
             "line": {
              "color": "rgb(17,17,17)"
             }
            },
            "type": "table"
           }
          ],
          "barpolar": [
           {
            "marker": {
             "line": {
              "color": "rgb(17,17,17)",
              "width": 0.5
             },
             "pattern": {
              "fillmode": "overlay",
              "size": 10,
              "solidity": 0.2
             }
            },
            "type": "barpolar"
           }
          ],
          "pie": [
           {
            "automargin": true,
            "type": "pie"
           }
          ]
         },
         "layout": {
          "autotypenumbers": "strict",
          "colorway": [
           "#636efa",
           "#EF553B",
           "#00cc96",
           "#ab63fa",
           "#FFA15A",
           "#19d3f3",
           "#FF6692",
           "#B6E880",
           "#FF97FF",
           "#FECB52"
          ],
          "font": {
           "color": "#f2f5fa"
          },
          "hovermode": "closest",
          "hoverlabel": {
           "align": "left"
          },
          "paper_bgcolor": "rgb(17,17,17)",
          "plot_bgcolor": "rgb(17,17,17)",
          "polar": {
           "bgcolor": "rgb(17,17,17)",
           "angularaxis": {
            "gridcolor": "#506784",
            "linecolor": "#506784",
            "ticks": ""
           },
           "radialaxis": {
            "gridcolor": "#506784",
            "linecolor": "#506784",
            "ticks": ""
           }
          },
          "ternary": {
           "bgcolor": "rgb(17,17,17)",
           "aaxis": {
            "gridcolor": "#506784",
            "linecolor": "#506784",
            "ticks": ""
           },
           "baxis": {
            "gridcolor": "#506784",
            "linecolor": "#506784",
            "ticks": ""
           },
           "caxis": {
            "gridcolor": "#506784",
            "linecolor": "#506784",
            "ticks": ""
           }
          },
          "coloraxis": {
           "colorbar": {
            "outlinewidth": 0,
            "ticks": ""
           }
          },
          "colorscale": {
           "sequential": [
            [
             0.0,
             "#0d0887"
            ],
            [
             0.1111111111111111,
             "#46039f"
            ],
            [
             0.2222222222222222,
             "#7201a8"
            ],
            [
             0.3333333333333333,
             "#9c179e"
            ],
            [
             0.4444444444444444,
             "#bd3786"
            ],
            [
             0.5555555555555556,
             "#d8576b"
            ],
            [
             0.6666666666666666,
             "#ed7953"
            ],
            [
             0.7777777777777778,
             "#fb9f3a"
            ],
            [
             0.8888888888888888,
             "#fdca26"
            ],
            [
             1.0,
             "#f0f921"
            ]
           ],
           "sequentialminus": [
            [
             0.0,
             "#0d0887"
            ],
            [
             0.1111111111111111,
             "#46039f"
            ],
            [
             0.2222222222222222,
             "#7201a8"
            ],
            [
             0.3333333333333333,
             "#9c179e"
            ],
            [
             0.4444444444444444,
             "#bd3786"
            ],
            [
             0.5555555555555556,
             "#d8576b"
            ],
            [
             0.6666666666666666,
             "#ed7953"
            ],
            [
             0.7777777777777778,
             "#fb9f3a"
            ],
            [
             0.8888888888888888,
             "#fdca26"
            ],
            [
             1.0,
             "#f0f921"
            ]
           ],
           "diverging": [
            [
             0,
             "#8e0152"
            ],
            [
             0.1,
             "#c51b7d"
            ],
            [
             0.2,
             "#de77ae"
            ],
            [
             0.3,
             "#f1b6da"
            ],
            [
             0.4,
             "#fde0ef"
            ],
            [
             0.5,
             "#f7f7f7"
            ],
            [
             0.6,
             "#e6f5d0"
            ],
            [
             0.7,
             "#b8e186"
            ],
            [
             0.8,
             "#7fbc41"
            ],
            [
             0.9,
             "#4d9221"
            ],
            [
             1,
             "#276419"
            ]
           ]
          },
          "xaxis": {
           "gridcolor": "#283442",
           "linecolor": "#506784",
           "ticks": "",
           "title": {
            "standoff": 15
           },
           "zerolinecolor": "#283442",
           "automargin": true,
           "zerolinewidth": 2
          },
          "yaxis": {
           "gridcolor": "#283442",
           "linecolor": "#506784",
           "ticks": "",
           "title": {
            "standoff": 15
           },
           "zerolinecolor": "#283442",
           "automargin": true,
           "zerolinewidth": 2
          },
          "scene": {
           "xaxis": {
            "backgroundcolor": "rgb(17,17,17)",
            "gridcolor": "#506784",
            "linecolor": "#506784",
            "showbackground": true,
            "ticks": "",
            "zerolinecolor": "#C8D4E3",
            "gridwidth": 2
           },
           "yaxis": {
            "backgroundcolor": "rgb(17,17,17)",
            "gridcolor": "#506784",
            "linecolor": "#506784",
            "showbackground": true,
            "ticks": "",
            "zerolinecolor": "#C8D4E3",
            "gridwidth": 2
           },
           "zaxis": {
            "backgroundcolor": "rgb(17,17,17)",
            "gridcolor": "#506784",
            "linecolor": "#506784",
            "showbackground": true,
            "ticks": "",
            "zerolinecolor": "#C8D4E3",
            "gridwidth": 2
           }
          },
          "shapedefaults": {
           "line": {
            "color": "#f2f5fa"
           }
          },
          "annotationdefaults": {
           "arrowcolor": "#f2f5fa",
           "arrowhead": 0,
           "arrowwidth": 1
          },
          "geo": {
           "bgcolor": "rgb(17,17,17)",
           "landcolor": "rgb(17,17,17)",
           "subunitcolor": "#506784",
           "showland": true,
           "showlakes": true,
           "lakecolor": "rgb(17,17,17)"
          },
          "title": {
           "x": 0.05
          },
          "updatemenudefaults": {
           "bgcolor": "#506784",
           "borderwidth": 0
          },
          "sliderdefaults": {
           "bgcolor": "#C8D4E3",
           "borderwidth": 1,
           "bordercolor": "rgb(17,17,17)",
           "tickwidth": 0
          },
          "mapbox": {
           "style": "dark"
          }
         }
        },
        "xaxis": {
         "anchor": "y",
         "domain": [
          0.0,
          1.0
         ],
         "title": {
          "text": "Количество комментариев"
         },
         "type": "log"
        },
        "yaxis": {
         "anchor": "x",
         "domain": [
          0.0,
          1.0
         ],
         "title": {
          "text": "Название фильма"
         }
        },
        "legend": {
         "tracegroupgap": 0
        },
        "title": {
         "text": "Топ-20 наиболее комментируемых фильмов"
        },
        "barmode": "relative",
        "height": 1000
       },
       "config": {
        "plotlyServerURL": "https://plot.ly"
       }
      },
      "text/html": "<div>                            <div id=\"9e1bc61a-e283-48ee-a72e-d98b0e13ab24\" class=\"plotly-graph-div\" style=\"height:1000px; width:100%;\"></div>            <script type=\"text/javascript\">                require([\"plotly\"], function(Plotly) {                    window.PLOTLYENV=window.PLOTLYENV || {};                                    if (document.getElementById(\"9e1bc61a-e283-48ee-a72e-d98b0e13ab24\")) {                    Plotly.newPlot(                        \"9e1bc61a-e283-48ee-a72e-d98b0e13ab24\",                        [{\"alignmentgroup\":\"True\",\"hovertemplate\":\"\\u041a\\u043e\\u043b\\u0438\\u0447\\u0435\\u0441\\u0442\\u0432\\u043e \\u043a\\u043e\\u043c\\u043c\\u0435\\u043d\\u0442\\u0430\\u0440\\u0438\\u0435\\u0432=%{x}\\u003cbr\\u003e\\u041d\\u0430\\u0437\\u0432\\u0430\\u043d\\u0438\\u0435 \\u0444\\u0438\\u043b\\u044c\\u043c\\u0430=%{y}\\u003cextra\\u003e\\u003c\\u002fextra\\u003e\",\"legendgroup\":\"\",\"marker\":{\"color\":\"#636efa\",\"pattern\":{\"shape\":\"\"}},\"name\":\"\",\"offsetgroup\":\"\",\"orientation\":\"h\",\"showlegend\":false,\"textposition\":\"auto\",\"x\":[152,152,153,153,153,153,153,153,153,153,154,154,155,157,157,158,158,158,158,161],\"xaxis\":\"x\",\"y\":[\"The Ring\",\"Gladiator\",\"American Pie\",\"Cinderella\",\"Bruce Almighty\",\"Mission: Impossible\",\"Pirates of the Caribbean: At World's End\",\"Wanted\",\"E.T. the Extra-Terrestrial\",\"X-Men\",\"Anchorman: The Legend of Ron Burgundy\",\"The Mummy Returns\",\"Hellboy II: The Golden Army\",\"Sherlock Holmes\",\"The Mummy\",\"50 First Dates\",\"Ocean's Eleven\",\"Terminator Salvation\",\"About a Boy\",\"The Taking of Pelham 1 2 3\"],\"yaxis\":\"y\",\"type\":\"bar\"}],                        {\"template\":{\"data\":{\"histogram2dcontour\":[{\"type\":\"histogram2dcontour\",\"colorbar\":{\"outlinewidth\":0,\"ticks\":\"\"},\"colorscale\":[[0.0,\"#0d0887\"],[0.1111111111111111,\"#46039f\"],[0.2222222222222222,\"#7201a8\"],[0.3333333333333333,\"#9c179e\"],[0.4444444444444444,\"#bd3786\"],[0.5555555555555556,\"#d8576b\"],[0.6666666666666666,\"#ed7953\"],[0.7777777777777778,\"#fb9f3a\"],[0.8888888888888888,\"#fdca26\"],[1.0,\"#f0f921\"]]}],\"choropleth\":[{\"type\":\"choropleth\",\"colorbar\":{\"outlinewidth\":0,\"ticks\":\"\"}}],\"histogram2d\":[{\"type\":\"histogram2d\",\"colorbar\":{\"outlinewidth\":0,\"ticks\":\"\"},\"colorscale\":[[0.0,\"#0d0887\"],[0.1111111111111111,\"#46039f\"],[0.2222222222222222,\"#7201a8\"],[0.3333333333333333,\"#9c179e\"],[0.4444444444444444,\"#bd3786\"],[0.5555555555555556,\"#d8576b\"],[0.6666666666666666,\"#ed7953\"],[0.7777777777777778,\"#fb9f3a\"],[0.8888888888888888,\"#fdca26\"],[1.0,\"#f0f921\"]]}],\"heatmap\":[{\"type\":\"heatmap\",\"colorbar\":{\"outlinewidth\":0,\"ticks\":\"\"},\"colorscale\":[[0.0,\"#0d0887\"],[0.1111111111111111,\"#46039f\"],[0.2222222222222222,\"#7201a8\"],[0.3333333333333333,\"#9c179e\"],[0.4444444444444444,\"#bd3786\"],[0.5555555555555556,\"#d8576b\"],[0.6666666666666666,\"#ed7953\"],[0.7777777777777778,\"#fb9f3a\"],[0.8888888888888888,\"#fdca26\"],[1.0,\"#f0f921\"]]}],\"heatmapgl\":[{\"type\":\"heatmapgl\",\"colorbar\":{\"outlinewidth\":0,\"ticks\":\"\"},\"colorscale\":[[0.0,\"#0d0887\"],[0.1111111111111111,\"#46039f\"],[0.2222222222222222,\"#7201a8\"],[0.3333333333333333,\"#9c179e\"],[0.4444444444444444,\"#bd3786\"],[0.5555555555555556,\"#d8576b\"],[0.6666666666666666,\"#ed7953\"],[0.7777777777777778,\"#fb9f3a\"],[0.8888888888888888,\"#fdca26\"],[1.0,\"#f0f921\"]]}],\"contourcarpet\":[{\"type\":\"contourcarpet\",\"colorbar\":{\"outlinewidth\":0,\"ticks\":\"\"}}],\"contour\":[{\"type\":\"contour\",\"colorbar\":{\"outlinewidth\":0,\"ticks\":\"\"},\"colorscale\":[[0.0,\"#0d0887\"],[0.1111111111111111,\"#46039f\"],[0.2222222222222222,\"#7201a8\"],[0.3333333333333333,\"#9c179e\"],[0.4444444444444444,\"#bd3786\"],[0.5555555555555556,\"#d8576b\"],[0.6666666666666666,\"#ed7953\"],[0.7777777777777778,\"#fb9f3a\"],[0.8888888888888888,\"#fdca26\"],[1.0,\"#f0f921\"]]}],\"surface\":[{\"type\":\"surface\",\"colorbar\":{\"outlinewidth\":0,\"ticks\":\"\"},\"colorscale\":[[0.0,\"#0d0887\"],[0.1111111111111111,\"#46039f\"],[0.2222222222222222,\"#7201a8\"],[0.3333333333333333,\"#9c179e\"],[0.4444444444444444,\"#bd3786\"],[0.5555555555555556,\"#d8576b\"],[0.6666666666666666,\"#ed7953\"],[0.7777777777777778,\"#fb9f3a\"],[0.8888888888888888,\"#fdca26\"],[1.0,\"#f0f921\"]]}],\"mesh3d\":[{\"type\":\"mesh3d\",\"colorbar\":{\"outlinewidth\":0,\"ticks\":\"\"}}],\"scatter\":[{\"marker\":{\"line\":{\"color\":\"#283442\"}},\"type\":\"scatter\"}],\"parcoords\":[{\"type\":\"parcoords\",\"line\":{\"colorbar\":{\"outlinewidth\":0,\"ticks\":\"\"}}}],\"scatterpolargl\":[{\"type\":\"scatterpolargl\",\"marker\":{\"colorbar\":{\"outlinewidth\":0,\"ticks\":\"\"}}}],\"bar\":[{\"error_x\":{\"color\":\"#f2f5fa\"},\"error_y\":{\"color\":\"#f2f5fa\"},\"marker\":{\"line\":{\"color\":\"rgb(17,17,17)\",\"width\":0.5},\"pattern\":{\"fillmode\":\"overlay\",\"size\":10,\"solidity\":0.2}},\"type\":\"bar\"}],\"scattergeo\":[{\"type\":\"scattergeo\",\"marker\":{\"colorbar\":{\"outlinewidth\":0,\"ticks\":\"\"}}}],\"scatterpolar\":[{\"type\":\"scatterpolar\",\"marker\":{\"colorbar\":{\"outlinewidth\":0,\"ticks\":\"\"}}}],\"histogram\":[{\"marker\":{\"pattern\":{\"fillmode\":\"overlay\",\"size\":10,\"solidity\":0.2}},\"type\":\"histogram\"}],\"scattergl\":[{\"marker\":{\"line\":{\"color\":\"#283442\"}},\"type\":\"scattergl\"}],\"scatter3d\":[{\"type\":\"scatter3d\",\"line\":{\"colorbar\":{\"outlinewidth\":0,\"ticks\":\"\"}},\"marker\":{\"colorbar\":{\"outlinewidth\":0,\"ticks\":\"\"}}}],\"scattermapbox\":[{\"type\":\"scattermapbox\",\"marker\":{\"colorbar\":{\"outlinewidth\":0,\"ticks\":\"\"}}}],\"scatterternary\":[{\"type\":\"scatterternary\",\"marker\":{\"colorbar\":{\"outlinewidth\":0,\"ticks\":\"\"}}}],\"scattercarpet\":[{\"type\":\"scattercarpet\",\"marker\":{\"colorbar\":{\"outlinewidth\":0,\"ticks\":\"\"}}}],\"carpet\":[{\"aaxis\":{\"endlinecolor\":\"#A2B1C6\",\"gridcolor\":\"#506784\",\"linecolor\":\"#506784\",\"minorgridcolor\":\"#506784\",\"startlinecolor\":\"#A2B1C6\"},\"baxis\":{\"endlinecolor\":\"#A2B1C6\",\"gridcolor\":\"#506784\",\"linecolor\":\"#506784\",\"minorgridcolor\":\"#506784\",\"startlinecolor\":\"#A2B1C6\"},\"type\":\"carpet\"}],\"table\":[{\"cells\":{\"fill\":{\"color\":\"#506784\"},\"line\":{\"color\":\"rgb(17,17,17)\"}},\"header\":{\"fill\":{\"color\":\"#2a3f5f\"},\"line\":{\"color\":\"rgb(17,17,17)\"}},\"type\":\"table\"}],\"barpolar\":[{\"marker\":{\"line\":{\"color\":\"rgb(17,17,17)\",\"width\":0.5},\"pattern\":{\"fillmode\":\"overlay\",\"size\":10,\"solidity\":0.2}},\"type\":\"barpolar\"}],\"pie\":[{\"automargin\":true,\"type\":\"pie\"}]},\"layout\":{\"autotypenumbers\":\"strict\",\"colorway\":[\"#636efa\",\"#EF553B\",\"#00cc96\",\"#ab63fa\",\"#FFA15A\",\"#19d3f3\",\"#FF6692\",\"#B6E880\",\"#FF97FF\",\"#FECB52\"],\"font\":{\"color\":\"#f2f5fa\"},\"hovermode\":\"closest\",\"hoverlabel\":{\"align\":\"left\"},\"paper_bgcolor\":\"rgb(17,17,17)\",\"plot_bgcolor\":\"rgb(17,17,17)\",\"polar\":{\"bgcolor\":\"rgb(17,17,17)\",\"angularaxis\":{\"gridcolor\":\"#506784\",\"linecolor\":\"#506784\",\"ticks\":\"\"},\"radialaxis\":{\"gridcolor\":\"#506784\",\"linecolor\":\"#506784\",\"ticks\":\"\"}},\"ternary\":{\"bgcolor\":\"rgb(17,17,17)\",\"aaxis\":{\"gridcolor\":\"#506784\",\"linecolor\":\"#506784\",\"ticks\":\"\"},\"baxis\":{\"gridcolor\":\"#506784\",\"linecolor\":\"#506784\",\"ticks\":\"\"},\"caxis\":{\"gridcolor\":\"#506784\",\"linecolor\":\"#506784\",\"ticks\":\"\"}},\"coloraxis\":{\"colorbar\":{\"outlinewidth\":0,\"ticks\":\"\"}},\"colorscale\":{\"sequential\":[[0.0,\"#0d0887\"],[0.1111111111111111,\"#46039f\"],[0.2222222222222222,\"#7201a8\"],[0.3333333333333333,\"#9c179e\"],[0.4444444444444444,\"#bd3786\"],[0.5555555555555556,\"#d8576b\"],[0.6666666666666666,\"#ed7953\"],[0.7777777777777778,\"#fb9f3a\"],[0.8888888888888888,\"#fdca26\"],[1.0,\"#f0f921\"]],\"sequentialminus\":[[0.0,\"#0d0887\"],[0.1111111111111111,\"#46039f\"],[0.2222222222222222,\"#7201a8\"],[0.3333333333333333,\"#9c179e\"],[0.4444444444444444,\"#bd3786\"],[0.5555555555555556,\"#d8576b\"],[0.6666666666666666,\"#ed7953\"],[0.7777777777777778,\"#fb9f3a\"],[0.8888888888888888,\"#fdca26\"],[1.0,\"#f0f921\"]],\"diverging\":[[0,\"#8e0152\"],[0.1,\"#c51b7d\"],[0.2,\"#de77ae\"],[0.3,\"#f1b6da\"],[0.4,\"#fde0ef\"],[0.5,\"#f7f7f7\"],[0.6,\"#e6f5d0\"],[0.7,\"#b8e186\"],[0.8,\"#7fbc41\"],[0.9,\"#4d9221\"],[1,\"#276419\"]]},\"xaxis\":{\"gridcolor\":\"#283442\",\"linecolor\":\"#506784\",\"ticks\":\"\",\"title\":{\"standoff\":15},\"zerolinecolor\":\"#283442\",\"automargin\":true,\"zerolinewidth\":2},\"yaxis\":{\"gridcolor\":\"#283442\",\"linecolor\":\"#506784\",\"ticks\":\"\",\"title\":{\"standoff\":15},\"zerolinecolor\":\"#283442\",\"automargin\":true,\"zerolinewidth\":2},\"scene\":{\"xaxis\":{\"backgroundcolor\":\"rgb(17,17,17)\",\"gridcolor\":\"#506784\",\"linecolor\":\"#506784\",\"showbackground\":true,\"ticks\":\"\",\"zerolinecolor\":\"#C8D4E3\",\"gridwidth\":2},\"yaxis\":{\"backgroundcolor\":\"rgb(17,17,17)\",\"gridcolor\":\"#506784\",\"linecolor\":\"#506784\",\"showbackground\":true,\"ticks\":\"\",\"zerolinecolor\":\"#C8D4E3\",\"gridwidth\":2},\"zaxis\":{\"backgroundcolor\":\"rgb(17,17,17)\",\"gridcolor\":\"#506784\",\"linecolor\":\"#506784\",\"showbackground\":true,\"ticks\":\"\",\"zerolinecolor\":\"#C8D4E3\",\"gridwidth\":2}},\"shapedefaults\":{\"line\":{\"color\":\"#f2f5fa\"}},\"annotationdefaults\":{\"arrowcolor\":\"#f2f5fa\",\"arrowhead\":0,\"arrowwidth\":1},\"geo\":{\"bgcolor\":\"rgb(17,17,17)\",\"landcolor\":\"rgb(17,17,17)\",\"subunitcolor\":\"#506784\",\"showland\":true,\"showlakes\":true,\"lakecolor\":\"rgb(17,17,17)\"},\"title\":{\"x\":0.05},\"updatemenudefaults\":{\"bgcolor\":\"#506784\",\"borderwidth\":0},\"sliderdefaults\":{\"bgcolor\":\"#C8D4E3\",\"borderwidth\":1,\"bordercolor\":\"rgb(17,17,17)\",\"tickwidth\":0},\"mapbox\":{\"style\":\"dark\"}}},\"xaxis\":{\"anchor\":\"y\",\"domain\":[0.0,1.0],\"title\":{\"text\":\"\\u041a\\u043e\\u043b\\u0438\\u0447\\u0435\\u0441\\u0442\\u0432\\u043e \\u043a\\u043e\\u043c\\u043c\\u0435\\u043d\\u0442\\u0430\\u0440\\u0438\\u0435\\u0432\"},\"type\":\"log\"},\"yaxis\":{\"anchor\":\"x\",\"domain\":[0.0,1.0],\"title\":{\"text\":\"\\u041d\\u0430\\u0437\\u0432\\u0430\\u043d\\u0438\\u0435 \\u0444\\u0438\\u043b\\u044c\\u043c\\u0430\"}},\"legend\":{\"tracegroupgap\":0},\"title\":{\"text\":\"\\u0422\\u043e\\u043f-20 \\u043d\\u0430\\u0438\\u0431\\u043e\\u043b\\u0435\\u0435 \\u043a\\u043e\\u043c\\u043c\\u0435\\u043d\\u0442\\u0438\\u0440\\u0443\\u0435\\u043c\\u044b\\u0445 \\u0444\\u0438\\u043b\\u044c\\u043c\\u043e\\u0432\"},\"barmode\":\"relative\",\"height\":1000},                        {\"responsive\": true}                    ).then(function(){\n                            \nvar gd = document.getElementById('9e1bc61a-e283-48ee-a72e-d98b0e13ab24');\nvar x = new MutationObserver(function (mutations, observer) {{\n        var display = window.getComputedStyle(gd).display;\n        if (!display || display === 'none') {{\n            console.log([gd, 'removed!']);\n            Plotly.purge(gd);\n            observer.disconnect();\n        }}\n}});\n\n// Listen for the removal of the full notebook cells\nvar notebookContainer = gd.closest('#notebook-container');\nif (notebookContainer) {{\n    x.observe(notebookContainer, {childList: true});\n}}\n\n// Listen for the clearing of the current output cell\nvar outputEl = gd.closest('.output');\nif (outputEl) {{\n    x.observe(outputEl, {childList: true});\n}}\n\n                        })                };                });            </script>        </div>"
     },
     "metadata": {},
     "output_type": "display_data"
    }
   ],
   "source": [
    "import plotly.express as px\n",
    "\n",
    "fig = px.bar(\n",
    "    df.head(20).sort_values(by=\"Количество комментариев\", ascending=True),\n",
    "    x=\"Количество комментариев\",\n",
    "    y=\"Название фильма\",\n",
    "    title=\"Топ-20 наиболее комментируемых фильмов\",\n",
    "    labels={\"Количество комментариев\": \"Количество комментариев\", \"Название фильма\": \"Название фильма\"},\n",
    "    height=1000,\n",
    "    log_x=True,\n",
    ")\n",
    "fig.show()\n"
   ]
  },
  {
   "cell_type": "code",
   "outputs": [],
   "source": [],
   "metadata": {
    "collapsed": false
   }
  }
 ],
 "metadata": {
  "colab": {
   "provenance": []
  },
  "kernelspec": {
   "display_name": "Python 3 (ipykernel)",
   "language": "python",
   "name": "python3"
  },
  "language_info": {
   "codemirror_mode": {
    "name": "ipython",
    "version": 3
   },
   "file_extension": ".py",
   "mimetype": "text/x-python",
   "name": "python",
   "nbconvert_exporter": "python",
   "pygments_lexer": "ipython3",
   "version": "3.11.2"
  }
 },
 "nbformat": 4,
 "nbformat_minor": 4
}
